{
 "cells": [
  {
   "cell_type": "code",
   "execution_count": null,
   "metadata": {},
   "outputs": [],
   "source": [
    "# import os\n",
    "# import json \n",
    "\n",
    "# for filename in os.listdir(\"jsonl\"):\n",
    "    \n",
    "#     with open(\"jsonl/\"+filename, \"r\") as file:\n",
    "#         data = file.read()\n",
    "#         data = data.replace(', \"plain\":', ', \"contents\":')\n",
    "    \n",
    "#     with open(\"jsonl/\"+filename, \"w\") as file:\n",
    "#         file.write(data)"
   ]
  },
  {
   "cell_type": "code",
   "execution_count": null,
   "metadata": {},
   "outputs": [],
   "source": [
    "!python -m pyserini.index.lucene -collection JsonCollection -generator DefaultLuceneDocumentGenerator -threads 9 \\\n",
    "-input jsonl -index indexes/lucene-index -storePositions -storeDocvectors -storeRaw"
   ]
  },
  {
   "cell_type": "code",
   "execution_count": null,
   "metadata": {},
   "outputs": [],
   "source": [
    "for filename in os.listdir(\"fairness_original\"):\n",
    "    if filename != \"desktop.ini\":\n",
    "        with open(\"fairness_original/\"+filename, \"r\") as file:\n",
    "            newdata = \"\"\n",
    "            data = file.readlines()\n",
    "            print(filename)\n",
    "            for line in data:\n",
    "                obj = json.loads(line)\n",
    "                obj['page_countries'] = str(list(map(lambda x:x.replace(\"\\''\", \"\"), obj['page_countries']))) \n",
    "                obj.pop('first_letter')\n",
    "                newline = {\n",
    "                        'id':obj[\"page_id\"],\n",
    "                        'contents': json.dumps(obj)\n",
    "                }\n",
    "\n",
    "                newdata += json.dumps(newline) +\"\\n\"\n",
    "    \n",
    "        with open(\"fairness/\"+filename, \"w\") as file:\n",
    "            file.write(newdata)\n",
    "        \n",
    "#     with open(\"fairness/\"+filename, \"r\") as file:\n",
    "#         data = \"\"\n",
    "#         for obj in file:\n",
    "#             print(\"test\"+obj)\n",
    "#             js = [x for x in json.loads(obj).keys() if x!=\"id\"]\n",
    "#             data += json.dumps(js)\n",
    "#         print(data[:1000])\n",
    "#         break"
   ]
  },
  {
   "cell_type": "code",
   "execution_count": null,
   "metadata": {},
   "outputs": [],
   "source": [
    "for filename in os.listdir(\"fairness\"):\n",
    "    if filename != \"desktop.ini\":\n",
    "        print(filename)\n",
    "        with open(\"fairness/\"+filename, \"r\") as file:\n",
    "            data = file.read()\n",
    "            print(data[:1000])\n",
    "#         data = data.replace('\"', \"'\")\n",
    "#         data = data.replace(\"\\\\'\", \"\")\n",
    "            data = data.replace('\\\\\"id\\\\\"', 'id')\n",
    "            data = data.replace('\\\\\"contents\\\\\"', 'contents')\n",
    "#         data = data.replace(\"'}\\n\", '\"}\\n')        \n",
    "        \n",
    "            print(data[:1000])\n",
    "        with open(\"fairness/\"+filename, \"w\") as file:\n",
    "            file.write(data)"
   ]
  },
  {
   "cell_type": "code",
   "execution_count": null,
   "metadata": {},
   "outputs": [],
   "source": [
    "#  cat ../trec_2022_articles_discrete_V2.json  | split -C 500000000 -d -a4 - X\n",
    "\n",
    "for filename in os.listdir(\"fairness_split\"):\n",
    "    if filename != \"desktop.ini\":\n",
    "        with open(\"fairness_split/\"+filename, \"r\") as file:\n",
    "            newdata = \"\"\n",
    "            data = file.readlines()\n",
    "            \n",
    "            for line in tqdm(data):\n",
    "                obj = json.loads(line)\n",
    "\n",
    "                obj = {key: obj[key] for key in [\"page_id\",\"source_countries\", \"gender\"]}\n",
    "\n",
    "                newdata += json.dumps(obj) +\"\\n\"\n",
    "    \n",
    "        with open(\"fairness_split_modified/\"+filename, \"w+\") as file:\n",
    "            file.write(newdata)\n",
    "        \n",
    "#     with open(\"fairness/\"+filename, \"r\") as file:\n",
    "#         data = \"\"\n",
    "#         for obj in file:\n",
    "#             print(\"test\"+obj)\n",
    "#             js = [x for x in json.loads(obj).keys() if x!=\"id\"]\n",
    "#             data += json.dumps(js)\n",
    "#         print(data[:1000])\n",
    "#         break"
   ]
  },
  {
   "cell_type": "code",
   "execution_count": null,
   "metadata": {},
   "outputs": [],
   "source": [
    "newdata = \"\"\n",
    "for filename in os.listdir(\"fairness_split_modified\"):\n",
    "    if filename != \"desktop.ini\":\n",
    "        with open(\"fairness_split_modified/\"+filename, \"r\") as file:\n",
    "            print(filename)\n",
    "            data = file.read()\n",
    "            newdata+=data\n",
    "    \n",
    "    with open(\"fairness.json\", \"w+\") as file:\n",
    "        file.write(newdata)"
   ]
  },
  {
   "cell_type": "code",
   "execution_count": null,
   "metadata": {},
   "outputs": [],
   "source": [
    "!python -m pyserini.index.lucene -collection JsonCollection -generator DefaultLuceneDocumentGenerator -threads 9 \\\n",
    "-input fairness -index indexes/lucene-index-fairness -storePositions -storeDocvectors -storeRaw"
   ]
  },
  {
   "cell_type": "code",
   "execution_count": null,
   "metadata": {},
   "outputs": [],
   "source": [
    "import pandas as pd\n",
    "\n",
    "with open(\"fairness/x0000000000.json\", \"r\") as file:\n",
    "    #print(file.read()[:1000])\n",
    "    for obj in file:\n",
    "        print(json.loads(obj).keys())\n",
    "        break\n",
    "#     fairness = pd.DataFrame(json.load(file))"
   ]
  }
 ],
 "metadata": {
  "kernelspec": {
   "display_name": "pyserini",
   "language": "python",
   "name": "python3"
  },
  "language_info": {
   "name": "python",
   "version": "3.8.18"
  }
 },
 "nbformat": 4,
 "nbformat_minor": 2
}
