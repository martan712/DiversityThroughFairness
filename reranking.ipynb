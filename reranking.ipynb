{
 "cells": [
  {
   "cell_type": "code",
   "execution_count": null,
   "id": "e9113889-ace6-4f60-add7-076d271457d3",
   "metadata": {},
   "outputs": [],
   "source": [
    "def MMR(ranked_list):\n",
    "    output_list = ranked_list.iloc[[0]]\n",
    "    ranked_list = ranked_list.drop(0, axis='index' )\n",
    "    k = 100\n",
    "    \n",
    "    while not ranked_list.empty and k > 0:\n",
    "        s = get_most_diverse(output_list, ranked_list)\n",
    "        i = int(s[\"page_id\"])\n",
    "        output_list = pd.concat([output_list, s ]) \n",
    "        ranked_list = ranked_list[ ranked_list[\"page_id\"] != i]\n",
    "        ranked_list.reset_index(drop=True)\n",
    "        k-=1\n",
    "    return output_list"
   ]
  }
 ],
 "metadata": {
  "kernelspec": {
   "display_name": "Python 3 (ipykernel)",
   "language": "python",
   "name": "python3"
  },
  "language_info": {
   "codemirror_mode": {
    "name": "ipython",
    "version": 3
   },
   "file_extension": ".py",
   "mimetype": "text/x-python",
   "name": "python",
   "nbconvert_exporter": "python",
   "pygments_lexer": "ipython3",
   "version": "3.8.18"
  }
 },
 "nbformat": 4,
 "nbformat_minor": 5
}
