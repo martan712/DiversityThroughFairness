{
 "cells": [
  {
   "cell_type": "code",
   "execution_count": 3,
   "metadata": {},
   "outputs": [],
   "source": [
    "import pandas as pd\n",
    "version = 2"
   ]
  },
  {
   "cell_type": "code",
   "execution_count": 4,
   "metadata": {},
   "outputs": [],
   "source": [
    "data = pd.read_csv(f\"results/results{version}.csv\", header=0)\n",
    "data.columns = ['NAME', 'QUERY', 'NDCG', 'ALPHA-NDCG', 'TREC', 'AWRF']\n",
    "data[\"NDCG\"] = [float(x) for x in data[\"NDCG\"]]\n",
    "data[\"ALPHA-NDCG\"] = [float(x) for x in data[\"ALPHA-NDCG\"]]\n",
    "data[\"TREC\"] = [float(x) for x in data[\"TREC\"]]\n",
    "data[\"AWRF\"] = [float(x) for x in data[\"AWRF\"]]\n",
    "\n",
    "grouped = data.groupby(\"NAME\")"
   ]
  },
  {
   "cell_type": "code",
   "execution_count": 5,
   "metadata": {},
   "outputs": [
    {
     "name": "stdout",
     "output_type": "stream",
     "text": [
      "       QUERY      NDCG  ALPHA-NDCG      TREC      AWRF\n",
      "NAME                                                  \n",
      "BM25   23.85  0.549619    0.776544  0.386612  0.712901\n",
      "CL     23.85  0.511179    0.921788  0.366985  0.717220\n",
      "FR     23.85  0.464303    0.795316  0.371244  0.783835\n",
      "MMR    23.85  0.548078    0.858986  0.478544  0.885933\n",
      "MMR_T  23.85  0.548078    0.858986  0.478544  0.885933\n",
      "     NAME  QUERY      NDCG  ALPHA-NDCG      TREC      AWRF\n",
      "0    BM25      2  0.903932    0.840937  0.505311  0.559014\n",
      "1     MMR      2  0.854056    0.906375  0.808941  0.947176\n",
      "2   MMR_T      2  0.854056    0.906375  0.808941  0.947176\n",
      "3      CL      2  0.852929    0.912085  0.476799  0.559014\n",
      "4      FR      2  0.642215    0.864158  0.558404  0.869497\n",
      "..    ...    ...       ...         ...       ...       ...\n",
      "95   BM25     43  1.000000    0.788085  0.470797  0.470797\n",
      "96    MMR     43  1.000000    0.942096  0.734816  0.734816\n",
      "97  MMR_T     43  1.000000    0.942096  0.734816  0.734816\n",
      "98     CL     43  1.000000    0.915667  0.535648  0.535648\n",
      "99     FR     43  0.979397    0.819566  0.757869  0.773812\n",
      "\n",
      "[100 rows x 6 columns]\n"
     ]
    }
   ],
   "source": [
    "print(data.groupby(\"NAME\").mean())\n",
    "print(data)"
   ]
  },
  {
   "cell_type": "code",
   "execution_count": 6,
   "metadata": {},
   "outputs": [],
   "source": [
    "UniqueNames = data[\"QUERY\"].unique()\n",
    "\n",
    "#create a data frame dictionary to store your data frames\n",
    "DataFrameDict = {elem : pd.DataFrame() for elem in UniqueNames}\n",
    "\n",
    "for key in DataFrameDict.keys():\n",
    "    DataFrameDict[key] = data[:][ data[\"QUERY\"] == key]"
   ]
  },
  {
   "cell_type": "code",
   "execution_count": 7,
   "metadata": {},
   "outputs": [
    {
     "name": "stdout",
     "output_type": "stream",
     "text": [
      "Counter({2: 19, 1: 1})\n"
     ]
    }
   ],
   "source": [
    "from collections import Counter\n",
    "import warnings\n",
    "warnings.simplefilter(action='ignore', category=FutureWarning)\n",
    "\n",
    "total = []\n",
    "for key in DataFrameDict.keys():\n",
    "    df = DataFrameDict[key][[\"NAME\", \"ALPHA-NDCG\"]]\n",
    "    df = df[df[\"NAME\"] != \"MMR\"]\n",
    "    df = df[df[\"NAME\"] != \"CL\"]\n",
    "    MMR =  float(DataFrameDict[key][ DataFrameDict[key][\"NAME\"]==\"MMR\"][\"ALPHA-NDCG\"])\n",
    "    total.append( sum( [1 for x in df[\"ALPHA-NDCG\"].values if MMR > x]))\n",
    "\n",
    "print(Counter(total))"
   ]
  },
  {
   "cell_type": "code",
   "execution_count": 13,
   "metadata": {},
   "outputs": [
    {
     "data": {
      "text/html": [
       "<div>\n",
       "<style scoped>\n",
       "    .dataframe tbody tr th:only-of-type {\n",
       "        vertical-align: middle;\n",
       "    }\n",
       "\n",
       "    .dataframe tbody tr th {\n",
       "        vertical-align: top;\n",
       "    }\n",
       "\n",
       "    .dataframe thead th {\n",
       "        text-align: right;\n",
       "    }\n",
       "</style>\n",
       "<table border=\"1\" class=\"dataframe\">\n",
       "  <thead>\n",
       "    <tr style=\"text-align: right;\">\n",
       "      <th></th>\n",
       "      <th>female</th>\n",
       "      <th>male</th>\n",
       "      <th>NB</th>\n",
       "    </tr>\n",
       "    <tr>\n",
       "      <th>page_id</th>\n",
       "      <th></th>\n",
       "      <th></th>\n",
       "      <th></th>\n",
       "    </tr>\n",
       "  </thead>\n",
       "  <tbody>\n",
       "    <tr>\n",
       "      <th>1064</th>\n",
       "      <td>0.0</td>\n",
       "      <td>0.0</td>\n",
       "      <td>0.0</td>\n",
       "    </tr>\n",
       "    <tr>\n",
       "      <th>4654</th>\n",
       "      <td>0.0</td>\n",
       "      <td>0.0</td>\n",
       "      <td>0.0</td>\n",
       "    </tr>\n",
       "    <tr>\n",
       "      <th>14361</th>\n",
       "      <td>0.0</td>\n",
       "      <td>0.0</td>\n",
       "      <td>0.0</td>\n",
       "    </tr>\n",
       "    <tr>\n",
       "      <th>18940</th>\n",
       "      <td>0.0</td>\n",
       "      <td>0.0</td>\n",
       "      <td>0.0</td>\n",
       "    </tr>\n",
       "    <tr>\n",
       "      <th>20167</th>\n",
       "      <td>0.0</td>\n",
       "      <td>0.0</td>\n",
       "      <td>0.0</td>\n",
       "    </tr>\n",
       "    <tr>\n",
       "      <th>...</th>\n",
       "      <td>...</td>\n",
       "      <td>...</td>\n",
       "      <td>...</td>\n",
       "    </tr>\n",
       "    <tr>\n",
       "      <th>53856308</th>\n",
       "      <td>0.0</td>\n",
       "      <td>0.0</td>\n",
       "      <td>0.0</td>\n",
       "    </tr>\n",
       "    <tr>\n",
       "      <th>62629665</th>\n",
       "      <td>0.0</td>\n",
       "      <td>0.0</td>\n",
       "      <td>0.0</td>\n",
       "    </tr>\n",
       "    <tr>\n",
       "      <th>63470943</th>\n",
       "      <td>0.0</td>\n",
       "      <td>0.0</td>\n",
       "      <td>0.0</td>\n",
       "    </tr>\n",
       "    <tr>\n",
       "      <th>67069496</th>\n",
       "      <td>0.0</td>\n",
       "      <td>0.0</td>\n",
       "      <td>0.0</td>\n",
       "    </tr>\n",
       "    <tr>\n",
       "      <th>67082624</th>\n",
       "      <td>0.0</td>\n",
       "      <td>0.0</td>\n",
       "      <td>0.0</td>\n",
       "    </tr>\n",
       "  </tbody>\n",
       "</table>\n",
       "<p>9992 rows × 3 columns</p>\n",
       "</div>"
      ],
      "text/plain": [
       "          female  male   NB\n",
       "page_id                    \n",
       "1064         0.0   0.0  0.0\n",
       "4654         0.0   0.0  0.0\n",
       "14361        0.0   0.0  0.0\n",
       "18940        0.0   0.0  0.0\n",
       "20167        0.0   0.0  0.0\n",
       "...          ...   ...  ...\n",
       "53856308     0.0   0.0  0.0\n",
       "62629665     0.0   0.0  0.0\n",
       "63470943     0.0   0.0  0.0\n",
       "67069496     0.0   0.0  0.0\n",
       "67082624     0.0   0.0  0.0\n",
       "\n",
       "[9992 rows x 3 columns]"
      ]
     },
     "execution_count": 13,
     "metadata": {},
     "output_type": "execute_result"
    }
   ],
   "source": [
    "bm25_pop = pd.read_csv(f\"results/bm25_pop{version}\", index_col=0)\n",
    "MMR_POP = pd.read_csv(f\"results/MMR_POP{version}\", index_col=0)\n",
    "CL_POP = pd.read_csv(f\"results/CL_POP{version}\", index_col=0)\n",
    "FR_POP = pd.read_csv(f\"results/FR_POP{version}\", index_col=0)\n",
    "FR_POP"
   ]
  },
  {
   "cell_type": "code",
   "execution_count": 14,
   "metadata": {},
   "outputs": [
    {
     "name": "stdout",
     "output_type": "stream",
     "text": [
      "   origin  gender  proportion\n",
      "0    BM25  female    0.183784\n",
      "1     MMR  female    0.232759\n",
      "2      CL  female    0.183767\n",
      "3      FR  female    0.134054\n",
      "4    BM25    male    0.814865\n",
      "5     MMR    male    0.764778\n",
      "6      CL    male    0.816233\n",
      "7      FR    male    0.865586\n",
      "8    BM25      nb    0.001351\n",
      "9     MMR      nb    0.002463\n",
      "10     CL      nb    0.000000\n",
      "11     FR      nb    0.000360\n"
     ]
    }
   ],
   "source": [
    "data = [\n",
    "    [\"BM25\"]+list(bm25_pop.sum()/sum(bm25_pop.sum().values)),\n",
    "    [\"MMR\"]+list(MMR_POP.sum()/sum(MMR_POP.sum().values)),\n",
    "    [\"CL\"]+list(CL_POP.sum()/sum(CL_POP.sum().values)),\n",
    "    [\"FR\"]+list(FR_POP.sum()/sum(FR_POP.sum().values))\n",
    "]\n",
    "df = pd.DataFrame(data, columns = ['origin','female', 'male', 'nb']) \n",
    "df = pd.melt(df, id_vars=\"origin\", var_name=\"gender\", value_name=\"proportion\")\n",
    "print(df)"
   ]
  },
  {
   "cell_type": "code",
   "execution_count": 15,
   "metadata": {},
   "outputs": [
    {
     "data": {
      "image/png": "[encoded data removed]",
      "text/plain": [
       "<Figure size 640x480 with 1 Axes>"
      ]
     },
     "metadata": {},
     "output_type": "display_data"
    }
   ],
   "source": [
    "import seaborn as sns\n",
    "bars = sns.barplot(df, x=\"origin\", y=\"proportion\", hue=\"gender\")\n",
    "fig = bars.get_figure()\n",
    "fig.savefig(\"bars.png\") "
   ]
  }
 ],
 "metadata": {
  "kernelspec": {
   "display_name": "pyserini",
   "language": "python",
   "name": "python3"
  },
  "language_info": {
   "codemirror_mode": {
    "name": "ipython",
    "version": 3
   },
   "file_extension": ".py",
   "mimetype": "text/x-python",
   "name": "python",
   "nbconvert_exporter": "python",
   "pygments_lexer": "ipython3",
   "version": "3.8.18"
  }
 },
 "nbformat": 4,
 "nbformat_minor": 2
}
