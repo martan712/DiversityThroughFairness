{
 "cells": [
  {
   "cell_type": "markdown",
   "id": "2721017c",
   "metadata": {},
   "source": [
    "# Thesis notebook\n"
   ]
  },
  {
   "cell_type": "markdown",
   "id": "bc221b34-c797-4659-aea1-6b6b2e775fcc",
   "metadata": {},
   "source": [
    "### Setup and prep\n",
    "In this section we check that we are using the correct version of Python (3.8), and we import some of the basic libraries which we will need throughout the notebook."
   ]
  },
  {
   "cell_type": "code",
   "execution_count": 1,
   "id": "900898ce",
   "metadata": {},
   "outputs": [
    {
     "name": "stdout",
     "output_type": "stream",
     "text": [
      "Python 3.8.18\n"
     ]
    }
   ],
   "source": [
    "!python --version"
   ]
  },
  {
   "cell_type": "code",
   "execution_count": 2,
   "id": "55b27376",
   "metadata": {},
   "outputs": [
    {
     "name": "stderr",
     "output_type": "stream",
     "text": [
      "c:\\Users\\marta\\anaconda3\\envs\\pyserini\\lib\\site-packages\\tqdm\\auto.py:21: TqdmWarning: IProgress not found. Please update jupyter and ipywidgets. See https://ipywidgets.readthedocs.io/en/stable/user_install.html\n",
      "  from .autonotebook import tqdm as notebook_tqdm\n"
     ]
    }
   ],
   "source": [
    "import os\n",
    "from tqdm import tqdm\n",
    "\n",
    "from tqdm.auto import tqdm\n",
    "tqdm.pandas(leave=False)"
   ]
  },
  {
   "cell_type": "markdown",
   "id": "4cff5477",
   "metadata": {},
   "source": [
    "## Ranking Queries"
   ]
  },
  {
   "cell_type": "code",
   "execution_count": 3,
   "id": "8960c2e9",
   "metadata": {},
   "outputs": [],
   "source": [
    "from Library.searcher import Searcher\n",
    "searcher = Searcher()"
   ]
  },
  {
   "cell_type": "code",
   "execution_count": 4,
   "id": "ffed984f-35f3-4d5e-997f-02b7ee679b47",
   "metadata": {},
   "outputs": [
    {
     "name": "stderr",
     "output_type": "stream",
     "text": [
      "c:\\Users\\marta\\Thesis\\trec2022-fair-public\\MetricInputs.py:49: UserWarning: No DATA_MODE specified, assuming ‘train’\n",
      "  warnings.warn('No DATA_MODE specified, assuming ‘train’')\n"
     ]
    },
    {
     "name": "stdout",
     "output_type": "stream",
     "text": [
      "data/trec_2022_train_reldocs.jsonl\n"
     ]
    }
   ],
   "source": [
    "from Library.evaluations import *"
   ]
  },
  {
   "cell_type": "code",
   "execution_count": 5,
   "id": "b303c602-3e5d-49a9-a719-a3c381e36d7b",
   "metadata": {},
   "outputs": [
    {
     "name": "stdout",
     "output_type": "stream",
     "text": [
      "Agriculture\n",
      "Amphibians and Reptiles\n",
      "Astronomy\n",
      "Aviation\n",
      "Biography/WikiProject Actors and Filmmakers\n",
      "0.43301057140649213\n",
      "0.5796176244972758\n",
      "0.7367988169552996\n",
      "0.8857038233406795\n",
      "0.6385168742336628\n"
     ]
    }
   ],
   "source": [
    "results = searcher.search(0, 5) \n",
    "\n",
    "for (result, rel_judge) in results:\n",
    "    query_relevancy_labels = get_relevancy_labels(result, rel_judge)\n",
    "    print(NDCG(query_relevancy_labels, 500))"
   ]
  },
  {
   "cell_type": "code",
   "execution_count": 6,
   "id": "6efe721f-d7ca-473b-951e-95dc9ab87d0d",
   "metadata": {},
   "outputs": [
    {
     "name": "stdout",
     "output_type": "stream",
     "text": [
      "54\n",
      "28\n",
      "7\n"
     ]
    }
   ],
   "source": [
    "ranking1 = results[0][0]\n",
    "relevance_1 = results[0][1]\n",
    "\n",
    "print(sum(get_relevancy_labels(ranking1[:100], relevance_1)))\n",
    "print(sum(get_relevancy_labels(ranking1[:50], relevance_1)))\n",
    "print(sum(get_relevancy_labels(ranking1[:10], relevance_1)))"
   ]
  },
  {
   "cell_type": "markdown",
   "id": "43d44ecb",
   "metadata": {
    "jp-MarkdownHeadingCollapsed": true
   },
   "source": [
    "#### Conclusions from default ranking\n",
    "As we can see by the result, of the 500 documents we put in our top 100, 54 are relevant according to our relevance judgments. So it works okay-ish but definitely it is not great. By inspecting the results for 50 and 10 as well we can observe that about 50% of our results at any point will be relevant, but we do not necessarily have more relevant documents near the top. Thus, our ranking method could definitely improve."
   ]
  },
  {
   "cell_type": "markdown",
   "id": "997c9215",
   "metadata": {},
   "source": [
    "## Fairness\n",
    "In this section we setup our lookup table for the fairness attributes."
   ]
  },
  {
   "cell_type": "code",
   "execution_count": 7,
   "id": "b5afdf48-d992-4c95-a3b4-9814ed8ae50f",
   "metadata": {},
   "outputs": [],
   "source": [
    "from Library.fairness import *"
   ]
  },
  {
   "cell_type": "code",
   "execution_count": 8,
   "id": "a13b14eb",
   "metadata": {},
   "outputs": [
    {
     "data": {
      "text/plain": [
       "gender\n",
       "@UNKNOWN    4610461.0\n",
       "female       353933.0\n",
       "male        1495647.0\n",
       "NB              571.0\n",
       "dtype: float64"
      ]
     },
     "execution_count": 8,
     "metadata": {},
     "output_type": "execute_result"
    }
   ],
   "source": [
    "gender_align.sum()"
   ]
  },
  {
   "cell_type": "markdown",
   "id": "4894705b-9411-4d76-ad2c-729e68082068",
   "metadata": {},
   "source": [
    "## Clustering"
   ]
  },
  {
   "cell_type": "markdown",
   "id": "75e514c1-c956-4f59-b21e-db3463af5030",
   "metadata": {},
   "source": [
    "Data exploration for a new searcher"
   ]
  },
  {
   "cell_type": "markdown",
   "id": "a0fad504-8e95-41fb-8fb6-550028cdc8f0",
   "metadata": {},
   "source": [
    "### LDA"
   ]
  },
  {
   "cell_type": "markdown",
   "id": "349bbcfe-865a-4976-a780-1133bc23e960",
   "metadata": {},
   "source": [
    "#### Setup and prep"
   ]
  },
  {
   "cell_type": "code",
   "execution_count": 9,
   "id": "cf8e1daa-d386-4b0b-a50d-f994516f415c",
   "metadata": {},
   "outputs": [
    {
     "name": "stdout",
     "output_type": "stream",
     "text": [
      "\u001b[38;5;3m⚠ As of spaCy v3.0, shortcuts like 'en' are deprecated. Please use the\n",
      "full pipeline package name 'en_core_web_sm' instead.\u001b[0m\n",
      "Collecting en-core-web-sm==3.6.0\n",
      "  Downloading https://github.com/explosion/spacy-models/releases/download/en_core_web_sm-3.6.0/en_core_web_sm-3.6.0-py3-none-any.whl (12.8 MB)\n",
      "     ---------------------------------------- 0.0/12.8 MB ? eta -:--:--\n",
      "     --------------------------------------- 0.0/12.8 MB 660.6 kB/s eta 0:00:20\n",
      "      --------------------------------------- 0.2/12.8 MB 2.1 MB/s eta 0:00:07\n",
      "     - -------------------------------------- 0.5/12.8 MB 3.5 MB/s eta 0:00:04\n",
      "     -- ------------------------------------- 0.9/12.8 MB 5.1 MB/s eta 0:00:03\n",
      "     ---- ----------------------------------- 1.4/12.8 MB 6.4 MB/s eta 0:00:02\n",
      "     ------ --------------------------------- 2.1/12.8 MB 7.9 MB/s eta 0:00:02\n",
      "     --------- ------------------------------ 3.0/12.8 MB 9.6 MB/s eta 0:00:02\n",
      "     ----------- ---------------------------- 3.7/12.8 MB 10.2 MB/s eta 0:00:01\n",
      "     --------------- ------------------------ 4.8/12.8 MB 11.9 MB/s eta 0:00:01\n",
      "     ------------------- -------------------- 6.4/12.8 MB 14.1 MB/s eta 0:00:01\n",
      "     ------------------------ --------------- 7.9/12.8 MB 15.7 MB/s eta 0:00:01\n",
      "     ----------------------------- ---------- 9.5/12.8 MB 17.3 MB/s eta 0:00:01\n",
      "     ---------------------------------- ---- 11.2/12.8 MB 25.2 MB/s eta 0:00:01\n",
      "     --------------------------------------  12.8/12.8 MB 29.7 MB/s eta 0:00:01\n",
      "     --------------------------------------- 12.8/12.8 MB 26.1 MB/s eta 0:00:00\n",
      "Requirement already satisfied: spacy<3.7.0,>=3.6.0 in c:\\users\\marta\\anaconda3\\envs\\pyserini\\lib\\site-packages (from en-core-web-sm==3.6.0) (3.6.1)\n",
      "Requirement already satisfied: spacy-legacy<3.1.0,>=3.0.11 in c:\\users\\marta\\anaconda3\\envs\\pyserini\\lib\\site-packages (from spacy<3.7.0,>=3.6.0->en-core-web-sm==3.6.0) (3.0.12)\n",
      "Requirement already satisfied: spacy-loggers<2.0.0,>=1.0.0 in c:\\users\\marta\\anaconda3\\envs\\pyserini\\lib\\site-packages (from spacy<3.7.0,>=3.6.0->en-core-web-sm==3.6.0) (1.0.5)\n",
      "Requirement already satisfied: murmurhash<1.1.0,>=0.28.0 in c:\\users\\marta\\anaconda3\\envs\\pyserini\\lib\\site-packages (from spacy<3.7.0,>=3.6.0->en-core-web-sm==3.6.0) (1.0.10)\n",
      "Requirement already satisfied: cymem<2.1.0,>=2.0.2 in c:\\users\\marta\\anaconda3\\envs\\pyserini\\lib\\site-packages (from spacy<3.7.0,>=3.6.0->en-core-web-sm==3.6.0) (2.0.8)\n",
      "Requirement already satisfied: preshed<3.1.0,>=3.0.2 in c:\\users\\marta\\anaconda3\\envs\\pyserini\\lib\\site-packages (from spacy<3.7.0,>=3.6.0->en-core-web-sm==3.6.0) (3.0.9)\n",
      "Requirement already satisfied: thinc<8.2.0,>=8.1.8 in c:\\users\\marta\\anaconda3\\envs\\pyserini\\lib\\site-packages (from spacy<3.7.0,>=3.6.0->en-core-web-sm==3.6.0) (8.1.12)\n",
      "Requirement already satisfied: wasabi<1.2.0,>=0.9.1 in c:\\users\\marta\\anaconda3\\envs\\pyserini\\lib\\site-packages (from spacy<3.7.0,>=3.6.0->en-core-web-sm==3.6.0) (1.1.2)\n",
      "Requirement already satisfied: srsly<3.0.0,>=2.4.3 in c:\\users\\marta\\anaconda3\\envs\\pyserini\\lib\\site-packages (from spacy<3.7.0,>=3.6.0->en-core-web-sm==3.6.0) (2.4.8)\n",
      "Requirement already satisfied: catalogue<2.1.0,>=2.0.6 in c:\\users\\marta\\anaconda3\\envs\\pyserini\\lib\\site-packages (from spacy<3.7.0,>=3.6.0->en-core-web-sm==3.6.0) (2.0.9)\n",
      "Requirement already satisfied: typer<0.10.0,>=0.3.0 in c:\\users\\marta\\anaconda3\\envs\\pyserini\\lib\\site-packages (from spacy<3.7.0,>=3.6.0->en-core-web-sm==3.6.0) (0.9.0)\n",
      "Requirement already satisfied: pathy>=0.10.0 in c:\\users\\marta\\anaconda3\\envs\\pyserini\\lib\\site-packages (from spacy<3.7.0,>=3.6.0->en-core-web-sm==3.6.0) (0.10.2)\n",
      "Requirement already satisfied: smart-open<7.0.0,>=5.2.1 in c:\\users\\marta\\anaconda3\\envs\\pyserini\\lib\\site-packages (from spacy<3.7.0,>=3.6.0->en-core-web-sm==3.6.0) (6.4.0)\n",
      "Requirement already satisfied: tqdm<5.0.0,>=4.38.0 in c:\\users\\marta\\anaconda3\\envs\\pyserini\\lib\\site-packages (from spacy<3.7.0,>=3.6.0->en-core-web-sm==3.6.0) (4.66.1)\n",
      "Requirement already satisfied: numpy>=1.15.0 in c:\\users\\marta\\anaconda3\\envs\\pyserini\\lib\\site-packages (from spacy<3.7.0,>=3.6.0->en-core-web-sm==3.6.0) (1.24.3)\n",
      "Requirement already satisfied: requests<3.0.0,>=2.13.0 in c:\\users\\marta\\anaconda3\\envs\\pyserini\\lib\\site-packages (from spacy<3.7.0,>=3.6.0->en-core-web-sm==3.6.0) (2.31.0)\n",
      "Requirement already satisfied: pydantic!=1.8,!=1.8.1,<3.0.0,>=1.7.4 in c:\\users\\marta\\anaconda3\\envs\\pyserini\\lib\\site-packages (from spacy<3.7.0,>=3.6.0->en-core-web-sm==3.6.0) (2.3.0)\n",
      "Requirement already satisfied: jinja2 in c:\\users\\marta\\anaconda3\\envs\\pyserini\\lib\\site-packages (from spacy<3.7.0,>=3.6.0->en-core-web-sm==3.6.0) (3.1.2)\n",
      "Requirement already satisfied: setuptools in c:\\users\\marta\\anaconda3\\envs\\pyserini\\lib\\site-packages (from spacy<3.7.0,>=3.6.0->en-core-web-sm==3.6.0) (68.2.2)\n",
      "Requirement already satisfied: packaging>=20.0 in c:\\users\\marta\\anaconda3\\envs\\pyserini\\lib\\site-packages (from spacy<3.7.0,>=3.6.0->en-core-web-sm==3.6.0) (23.1)\n",
      "Requirement already satisfied: langcodes<4.0.0,>=3.2.0 in c:\\users\\marta\\anaconda3\\envs\\pyserini\\lib\\site-packages (from spacy<3.7.0,>=3.6.0->en-core-web-sm==3.6.0) (3.3.0)\n",
      "Requirement already satisfied: annotated-types>=0.4.0 in c:\\users\\marta\\anaconda3\\envs\\pyserini\\lib\\site-packages (from pydantic!=1.8,!=1.8.1,<3.0.0,>=1.7.4->spacy<3.7.0,>=3.6.0->en-core-web-sm==3.6.0) (0.5.0)\n",
      "Requirement already satisfied: pydantic-core==2.6.3 in c:\\users\\marta\\anaconda3\\envs\\pyserini\\lib\\site-packages (from pydantic!=1.8,!=1.8.1,<3.0.0,>=1.7.4->spacy<3.7.0,>=3.6.0->en-core-web-sm==3.6.0) (2.6.3)\n",
      "Requirement already satisfied: typing-extensions>=4.6.1 in c:\\users\\marta\\anaconda3\\envs\\pyserini\\lib\\site-packages (from pydantic!=1.8,!=1.8.1,<3.0.0,>=1.7.4->spacy<3.7.0,>=3.6.0->en-core-web-sm==3.6.0) (4.8.0)\n",
      "Requirement already satisfied: charset-normalizer<4,>=2 in c:\\users\\marta\\anaconda3\\envs\\pyserini\\lib\\site-packages (from requests<3.0.0,>=2.13.0->spacy<3.7.0,>=3.6.0->en-core-web-sm==3.6.0) (2.0.4)\n",
      "Requirement already satisfied: idna<4,>=2.5 in c:\\users\\marta\\anaconda3\\envs\\pyserini\\lib\\site-packages (from requests<3.0.0,>=2.13.0->spacy<3.7.0,>=3.6.0->en-core-web-sm==3.6.0) (3.4)\n",
      "Requirement already satisfied: urllib3<3,>=1.21.1 in c:\\users\\marta\\anaconda3\\envs\\pyserini\\lib\\site-packages (from requests<3.0.0,>=2.13.0->spacy<3.7.0,>=3.6.0->en-core-web-sm==3.6.0) (1.26.18)\n",
      "Requirement already satisfied: certifi>=2017.4.17 in c:\\users\\marta\\anaconda3\\envs\\pyserini\\lib\\site-packages (from requests<3.0.0,>=2.13.0->spacy<3.7.0,>=3.6.0->en-core-web-sm==3.6.0) (2023.11.17)\n",
      "Requirement already satisfied: blis<0.8.0,>=0.7.8 in c:\\users\\marta\\anaconda3\\envs\\pyserini\\lib\\site-packages (from thinc<8.2.0,>=8.1.8->spacy<3.7.0,>=3.6.0->en-core-web-sm==3.6.0) (0.7.11)\n",
      "Requirement already satisfied: confection<1.0.0,>=0.0.1 in c:\\users\\marta\\anaconda3\\envs\\pyserini\\lib\\site-packages (from thinc<8.2.0,>=8.1.8->spacy<3.7.0,>=3.6.0->en-core-web-sm==3.6.0) (0.1.3)\n",
      "Requirement already satisfied: colorama in c:\\users\\marta\\anaconda3\\envs\\pyserini\\lib\\site-packages (from tqdm<5.0.0,>=4.38.0->spacy<3.7.0,>=3.6.0->en-core-web-sm==3.6.0) (0.4.6)\n",
      "Requirement already satisfied: click<9.0.0,>=7.1.1 in c:\\users\\marta\\anaconda3\\envs\\pyserini\\lib\\site-packages (from typer<0.10.0,>=0.3.0->spacy<3.7.0,>=3.6.0->en-core-web-sm==3.6.0) (8.1.7)\n",
      "Requirement already satisfied: MarkupSafe>=2.0 in c:\\users\\marta\\anaconda3\\envs\\pyserini\\lib\\site-packages (from jinja2->spacy<3.7.0,>=3.6.0->en-core-web-sm==3.6.0) (2.1.3)\n",
      "\u001b[38;5;2m✔ Download and installation successful\u001b[0m\n",
      "You can now load the package via spacy.load('en_core_web_sm')\n"
     ]
    }
   ],
   "source": [
    "!python -m spacy download en"
   ]
  },
  {
   "cell_type": "code",
   "execution_count": 10,
   "id": "d89f491b",
   "metadata": {},
   "outputs": [
    {
     "name": "stderr",
     "output_type": "stream",
     "text": [
      "[nltk_data] Downloading package stopwords to\n",
      "[nltk_data]     C:\\Users\\marta\\AppData\\Roaming\\nltk_data...\n",
      "[nltk_data]   Package stopwords is already up-to-date!\n"
     ]
    }
   ],
   "source": [
    "from Library.lda import *\n",
    "\n",
    "rankedClusters, cluster_preferences, doc_topics= get_clustering(results[0][0], searcher.queries)"
   ]
  },
  {
   "cell_type": "code",
   "execution_count": 11,
   "id": "ff273cf6-538d-45f3-a3ca-5b06407126d9",
   "metadata": {},
   "outputs": [
    {
     "name": "stdout",
     "output_type": "stream",
     "text": [
      "[7, 9, 1, 3, 9, 1, 9, 9, 9, 1, 1, 9, 9, 3, 1, 9, 1, 3, 9, 1, 9, 9, 9, 9, 9, 9, 7, 1, 1, 6, 1, 1, 9, 3, 3, 1, 3, 3, 3, 1, 9, 9, 9, 7, 9, 3, 3, 9, 6, 1, 9, 3, 1, 1, 1, 9, 3, 1, 3, 3, 9, 3, 9, 3, 1, 9, 9, 3, 9, 9, 3, 3, 9, 9, 9, 3, 9, 9, 1, 1, 9, 3, 9, 9, 1, 9, 3, 1, 3, 1, 1, 1, 9, 9, 9, 9, 3, 1, 1, 3, 9, 3, 3, 9, 9, 9, 3, 3, 9, 3, 1, 3, 1, 1, 9, 9, 3, 3, 9, 3, 9, 9, 1, 9, 3, 3, 9, 9, 3, 3, 3, 1, 9, 3, 1, 9, 9, 9, 3, 3, 3, 3, 3, 9, 3, 9, 9, 1, 9, 9, 9, 9, 1, 1, 1, 9, 9, 9, 9, 1, 3, 9, 3, 9, 3, 1, 9, 3, 3, 3, 9, 9, 9, 9, 9, 7, 3, 7, 9, 9, 9, 3, 1, 9, 9, 1, 3, 1, 3, 9, 9, 3, 9, 9, 3, 1, 1, 1, 9, 1, 3, 9, 3, 1, 7, 9, 3, 1, 3, 1, 6, 9, 9, 9, 3, 3, 9, 3, 9, 3, 1, 9, 1, 1, 9, 3, 1, 1, 3, 9, 1, 1, 1, 3, 3, 3, 3, 4, 9, 9, 3, 3, 3, 9, 3, 3, 3, 1, 3, 3, 1, 9, 9, 1, 9, 9, 3, 1, 9, 9, 1, 3, 1, 9, 1, 9, 3, 3, 1, 9, 9, 3, 3, 1, 1, 1, 9, 9, 9, 9, 3, 9, 9, 3, 9, 9, 3, 1, 1, 3, 3, 9, 9, 1, 3, 9, 9, 9, 3, 9, 1, 1, 9, 3, 9, 9, 6, 9, 3, 9, 9, 3, 9, 9, 3, 3, 7, 1, 1, 9, 3, 3, 1, 3, 9, 9, 9, 1, 3, 9, 9, 9, 3, 3, 1, 9, 9, 9, 1, 6, 9, 9, 9, 1, 3, 7, 3, 3, 1, 1, 1, 1, 1, 9, 9, 9, 3, 9, 9, 9, 3, 3, 9, 9, 1, 3, 1, 9, 9, 3, 1, 6, 3, 9, 3, 3, 1, 3, 1, 9, 9, 9, 1, 3, 9, 1, 9, 9, 3, 9, 9, 3, 9, 9, 9, 1, 1, 1, 1, 3, 9, 3, 9, 9, 9, 3, 3, 1, 9, 9, 9, 9, 9, 7, 9, 9, 1, 9, 9, 9, 9, 7, 1, 9, 3, 3, 9, 1, 9, 1, 9, 3, 1, 1, 4, 3, 1, 9, 9, 3, 1, 3, 9, 9, 9, 9, 3, 9, 9, 9, 3, 9, 9, 4, 4, 3, 6, 1, 4, 3, 1, 1, 3, 9, 9, 9, 3, 1, 9, 9, 7, 1, 9, 9, 9, 1, 9, 3, 9, 9, 3, 3, 1, 3, 9, 1, 1, 9, 1, 9, 1, 4, 9, 9, 3, 3, 9, 9, 9, 3]\n"
     ]
    }
   ],
   "source": [
    "rankedClusters = list(\n",
    "    map(lambda d: \n",
    "        d[[y for (x,y) in d].index(max([y for (x,y) in d]))][0], doc_topics)\n",
    ")\n",
    "print(rankedClusters)"
   ]
  },
  {
   "cell_type": "markdown",
   "id": "fa711457-9d5d-43ea-b26f-88b47121f579",
   "metadata": {},
   "source": [
    "## Clustering Based reranking"
   ]
  },
  {
   "cell_type": "markdown",
   "id": "291c4a56-ac29-4497-b8f9-6219c87635d3",
   "metadata": {},
   "source": [
    "### Round Robin Clusters"
   ]
  },
  {
   "cell_type": "code",
   "execution_count": 12,
   "id": "23b8e90b-0a5f-4397-bd40-40f09cbe2f02",
   "metadata": {},
   "outputs": [],
   "source": [
    "from Library.roundrobin import *"
   ]
  },
  {
   "cell_type": "markdown",
   "id": "897349e8-943c-475d-ace3-2fa4d5c1fb53",
   "metadata": {},
   "source": [
    "## MMR"
   ]
  },
  {
   "cell_type": "markdown",
   "id": "6eed7b48-8624-4e6b-825a-bcb42ef9c60b",
   "metadata": {},
   "source": [
    "$$ \\text{{MMR}} = \\arg\\max_{d_i \\in D \\setminus R} [ \\lambda \\cdot Sim_1(d_i, q) - (1 - \\lambda) \\cdot \\max_{d_j \\in R} Sim_2(d_i, d_j) ] $$\n",
    "\n",
    "Here, D is the set of all candidate documents, R is the set of already selected documents, q is the query, $Sim_1$ is the similarity function between a document and the query, and $Sim_2$ is the similarity function between two documents. $d_i$ and $d_j$ are documents in D and R respectively."
   ]
  },
  {
   "cell_type": "code",
   "execution_count": 13,
   "id": "fef62dc8-c225-421c-a7de-ab6a327b71ae",
   "metadata": {},
   "outputs": [],
   "source": [
    "from copy import deepcopy\n",
    "from time import sleep\n",
    "def MMR(ranked_list_inp, comp_function, lamb = 0.5):\n",
    "    ranked_list = ranked_list_inp[:]\n",
    "    output_list = [ranked_list[0]]\n",
    "    ranked_list.pop(0)\n",
    "        \n",
    "    # compute an optimum with lambda between ranking score and similarity (comp_fucntion)\n",
    "\n",
    "    while len(output_list) < 100:\n",
    "        intermediate_list = [\n",
    "            lamb*item.score - ((1- lamb) * comp_function(item, output_list))\n",
    "            for item in ranked_list]\n",
    "\n",
    "        index = intermediate_list.index(max(intermediate_list))\n",
    "        output_list.append( \n",
    "            ranked_list.pop(index)\n",
    "        ) \n",
    "    return output_list"
   ]
  },
  {
   "cell_type": "markdown",
   "id": "a5208fe9-8634-45b1-a2b2-bc7059d49350",
   "metadata": {},
   "source": [
    "#### MMR on fairness features"
   ]
  },
  {
   "cell_type": "code",
   "execution_count": 14,
   "id": "37473755-a209-4b6d-a646-e0046af4ed82",
   "metadata": {},
   "outputs": [],
   "source": [
    "from Library.mmr import *"
   ]
  },
  {
   "cell_type": "markdown",
   "id": "d087c46f-8aee-4fad-964f-44cd7719d5f0",
   "metadata": {},
   "source": [
    "### Clustering\n",
    "Either create or load the stored clusting of our original rankin"
   ]
  },
  {
   "cell_type": "code",
   "execution_count": 15,
   "id": "be5acf4c-d5a8-46c2-b6cf-8e518e8bbeee",
   "metadata": {},
   "outputs": [],
   "source": [
    "import csv\n",
    "clusterings = []\n",
    "clustering_preferences = []\n",
    "clustering_topics = []\n",
    "\n",
    "version = \"500items_10_clusters\"\n",
    "file = f\"clusters/clusterings{version}.csv\"\n",
    "file2 = f\"clusters/clustering_preferences{version}.csv\"\n",
    "file3 = f\"clusters/clustering_topics{version}.csv\"\n",
    "if not (os.path.isfile(file)):\n",
    "    \n",
    "    for i, ranking in enumerate(tqdm(rankings_total)):\n",
    "        clusters, preferences, topics = get_clustering(ranking, ranking_index=i, searcher=searcher)\n",
    "        \n",
    "        clusterings.append(clusters)\n",
    "        clustering_preferences.append(preferences)\n",
    "        clustering_topics.append(list(topics))\n",
    "        \n",
    "    with open(file, 'w', newline='') as f:\n",
    "        writer = csv.writer(f)\n",
    "        writer.writerows(clusterings)\n",
    "\n",
    "    with open(file2, 'w', newline='') as f:\n",
    "        writer = csv.writer(f)\n",
    "        writer.writerows(clustering_preferences)\n",
    "\n",
    "    with open(file3, 'w', newline='') as f:\n",
    "        writer = csv.writer(f)\n",
    "        writer.writerows(clustering_topics)\n",
    "\n",
    "else:\n",
    "    with open(file) as f:\n",
    "        clusterings = list(\n",
    "            map(lambda x: x.split(\",\"), f.read().splitlines())\n",
    "        )\n",
    "        clusterings = list(\n",
    "            map( lambda x: list(map( lambda y: eval(y), x)), clusterings)\n",
    "        )\n",
    "    with open(file2) as f:\n",
    "        lines = f.read()\n",
    "        clustering_preferences= list(\n",
    "            csv.reader(lines.splitlines())\n",
    "        )\n",
    "    \n",
    "        clustering_preferences = list(\n",
    "            map( lambda x: list(map( lambda y: eval(y), x)), clustering_preferences)\n",
    "        )\n",
    "        \n",
    "\n",
    "    with open(file3) as f:\n",
    "        lines = f.read()\n",
    "        \n",
    "        clustering_topics= list(\n",
    "            csv.reader(lines.splitlines())\n",
    "        )\n",
    "    \n",
    "        clustering_topics = list(\n",
    "            map( lambda x: list(map( lambda y: eval(y), x)), clustering_topics)\n",
    "        )"
   ]
  },
  {
   "cell_type": "code",
   "execution_count": 16,
   "id": "3ec3126c-3f49-4cb4-aa36-f62e172d439f",
   "metadata": {},
   "outputs": [
    {
     "name": "stdout",
     "output_type": "stream",
     "text": [
      "[(0, 0.22743246), (1, 0.092498556), (2, 4.889585e-06), (3, 0.14233871), (4, 4.109632e-05), (5, 1.7180402e-05), (6, 0.033089202), (7, 8.071449e-05), (8, 1.3253429e-05), (9, 0.50448394)]\n"
     ]
    }
   ],
   "source": [
    "print(max(clustering_topics[0]))"
   ]
  },
  {
   "cell_type": "code",
   "execution_count": 17,
   "id": "4c17f9b6-2b64-4045-8a26-9644cfa5262a",
   "metadata": {},
   "outputs": [],
   "source": [
    "def qr_join(align):\n",
    "    return qrels.join(align, on='page_id').set_index(['topic_id', 'page_id'])"
   ]
  },
  {
   "cell_type": "code",
   "execution_count": 18,
   "id": "5c7f5cb8-feff-424c-9f0f-a36649d2dd9e",
   "metadata": {},
   "outputs": [
    {
     "data": {
      "text/html": [
       "<div>\n",
       "<style scoped>\n",
       "    .dataframe tbody tr th:only-of-type {\n",
       "        vertical-align: middle;\n",
       "    }\n",
       "\n",
       "    .dataframe tbody tr th {\n",
       "        vertical-align: top;\n",
       "    }\n",
       "\n",
       "    .dataframe thead th {\n",
       "        text-align: right;\n",
       "    }\n",
       "</style>\n",
       "<table border=\"1\" class=\"dataframe\">\n",
       "  <thead>\n",
       "    <tr style=\"text-align: right;\">\n",
       "      <th></th>\n",
       "      <th></th>\n",
       "      <th>@UNKNOWN</th>\n",
       "      <th>female</th>\n",
       "      <th>male</th>\n",
       "      <th>NB</th>\n",
       "    </tr>\n",
       "    <tr>\n",
       "      <th>topic_id</th>\n",
       "      <th>page_id</th>\n",
       "      <th></th>\n",
       "      <th></th>\n",
       "      <th></th>\n",
       "      <th></th>\n",
       "    </tr>\n",
       "  </thead>\n",
       "  <tbody>\n",
       "    <tr>\n",
       "      <th rowspan=\"5\" valign=\"top\">84</th>\n",
       "      <th>572</th>\n",
       "      <td>1.0</td>\n",
       "      <td>0.0</td>\n",
       "      <td>0.0</td>\n",
       "      <td>0.0</td>\n",
       "    </tr>\n",
       "    <tr>\n",
       "      <th>627</th>\n",
       "      <td>1.0</td>\n",
       "      <td>0.0</td>\n",
       "      <td>0.0</td>\n",
       "      <td>0.0</td>\n",
       "    </tr>\n",
       "    <tr>\n",
       "      <th>678</th>\n",
       "      <td>1.0</td>\n",
       "      <td>0.0</td>\n",
       "      <td>0.0</td>\n",
       "      <td>0.0</td>\n",
       "    </tr>\n",
       "    <tr>\n",
       "      <th>903</th>\n",
       "      <td>1.0</td>\n",
       "      <td>0.0</td>\n",
       "      <td>0.0</td>\n",
       "      <td>0.0</td>\n",
       "    </tr>\n",
       "    <tr>\n",
       "      <th>1193</th>\n",
       "      <td>1.0</td>\n",
       "      <td>0.0</td>\n",
       "      <td>0.0</td>\n",
       "      <td>0.0</td>\n",
       "    </tr>\n",
       "  </tbody>\n",
       "</table>\n",
       "</div>"
      ],
      "text/plain": [
       "                  @UNKNOWN  female  male   NB\n",
       "topic_id page_id                             \n",
       "84       572           1.0     0.0   0.0  0.0\n",
       "         627           1.0     0.0   0.0  0.0\n",
       "         678           1.0     0.0   0.0  0.0\n",
       "         903           1.0     0.0   0.0  0.0\n",
       "         1193          1.0     0.0   0.0  0.0"
      ]
     },
     "execution_count": 18,
     "metadata": {},
     "output_type": "execute_result"
    }
   ],
   "source": [
    "qr_gender_align = qr_join(gender_align)\n",
    "qr_gender_align.head()"
   ]
  },
  {
   "cell_type": "code",
   "execution_count": 19,
   "id": "c81c7bed-56f4-4ef1-9e03-2c9c4189df51",
   "metadata": {},
   "outputs": [
    {
     "data": {
      "text/html": [
       "<div>\n",
       "<style scoped>\n",
       "    .dataframe tbody tr th:only-of-type {\n",
       "        vertical-align: middle;\n",
       "    }\n",
       "\n",
       "    .dataframe tbody tr th {\n",
       "        vertical-align: top;\n",
       "    }\n",
       "\n",
       "    .dataframe thead th {\n",
       "        text-align: right;\n",
       "    }\n",
       "</style>\n",
       "<table border=\"1\" class=\"dataframe\">\n",
       "  <thead>\n",
       "    <tr style=\"text-align: right;\">\n",
       "      <th></th>\n",
       "      <th>@UNKNOWN</th>\n",
       "      <th>female</th>\n",
       "      <th>male</th>\n",
       "      <th>NB</th>\n",
       "    </tr>\n",
       "    <tr>\n",
       "      <th>topic_id</th>\n",
       "      <th></th>\n",
       "      <th></th>\n",
       "      <th></th>\n",
       "      <th></th>\n",
       "    </tr>\n",
       "  </thead>\n",
       "  <tbody>\n",
       "    <tr>\n",
       "      <th>84</th>\n",
       "      <td>0.905943</td>\n",
       "      <td>0.033790</td>\n",
       "      <td>0.059797</td>\n",
       "      <td>0.000470</td>\n",
       "    </tr>\n",
       "    <tr>\n",
       "      <th>111</th>\n",
       "      <td>0.996106</td>\n",
       "      <td>0.001344</td>\n",
       "      <td>0.002531</td>\n",
       "      <td>0.000019</td>\n",
       "    </tr>\n",
       "    <tr>\n",
       "      <th>265</th>\n",
       "      <td>0.883099</td>\n",
       "      <td>0.038968</td>\n",
       "      <td>0.077328</td>\n",
       "      <td>0.000647</td>\n",
       "    </tr>\n",
       "    <tr>\n",
       "      <th>323</th>\n",
       "      <td>0.890183</td>\n",
       "      <td>0.033058</td>\n",
       "      <td>0.076210</td>\n",
       "      <td>0.000549</td>\n",
       "    </tr>\n",
       "    <tr>\n",
       "      <th>396</th>\n",
       "      <td>0.007847</td>\n",
       "      <td>0.428546</td>\n",
       "      <td>0.558768</td>\n",
       "      <td>0.005349</td>\n",
       "    </tr>\n",
       "  </tbody>\n",
       "</table>\n",
       "</div>"
      ],
      "text/plain": [
       "          @UNKNOWN    female      male        NB\n",
       "topic_id                                        \n",
       "84        0.905943  0.033790  0.059797  0.000470\n",
       "111       0.996106  0.001344  0.002531  0.000019\n",
       "265       0.883099  0.038968  0.077328  0.000647\n",
       "323       0.890183  0.033058  0.076210  0.000549\n",
       "396       0.007847  0.428546  0.558768  0.005349"
      ]
     },
     "execution_count": 19,
     "metadata": {},
     "output_type": "execute_result"
    }
   ],
   "source": [
    "qr_gender_tgt = qr_gender_align.groupby('topic_id').mean()\n",
    "qr_gender_fk = qr_gender_tgt.iloc[:, 1:].sum('columns')\n",
    "qr_gender_tgt.iloc[:, 1:] *= 0.5\n",
    "qr_gender_tgt.iloc[:, 1:] += qr_gender_fk.apply(lambda k: gender_tgt * k * 0.5)\n",
    "qr_gender_tgt.head()"
   ]
  },
  {
   "cell_type": "code",
   "execution_count": 20,
   "id": "3c309b43-20c3-4e15-9425-c54e283d8e51",
   "metadata": {},
   "outputs": [
    {
     "data": {
      "text/plain": [
       "(84,\n",
       " @UNKNOWN    0.905943\n",
       " female      0.033790\n",
       " male        0.059797\n",
       " NB          0.000470\n",
       " Name: 84, dtype: float64)"
      ]
     },
     "execution_count": 20,
     "metadata": {},
     "output_type": "execute_result"
    }
   ],
   "source": [
    "gender_targets = list(qr_gender_tgt.iterrows())\n",
    "gender_targets[0]"
   ]
  },
  {
   "cell_type": "code",
   "execution_count": 21,
   "id": "95eb10c7-6323-4344-b6c3-84aebfe4939b",
   "metadata": {},
   "outputs": [
    {
     "name": "stdout",
     "output_type": "stream",
     "text": [
      "[@UNKNOWN    0.905943\n",
      "female      0.033790\n",
      "male        0.059797\n",
      "NB          0.000470\n",
      "Name: 84, dtype: float64, @UNKNOWN    0.996106\n",
      "female      0.001344\n",
      "male        0.002531\n",
      "NB          0.000019\n",
      "Name: 111, dtype: float64, @UNKNOWN    0.883099\n",
      "female      0.038968\n",
      "male        0.077328\n",
      "NB          0.000647\n",
      "Name: 265, dtype: float64, @UNKNOWN    0.890183\n",
      "female      0.033058\n",
      "male        0.076210\n",
      "NB          0.000549\n",
      "Name: 323, dtype: float64, @UNKNOWN    0.007847\n",
      "female      0.428546\n",
      "male        0.558768\n",
      "NB          0.005349\n",
      "Name: 396, dtype: float64, @UNKNOWN    0.176227\n",
      "female      0.314011\n",
      "male        0.505519\n",
      "NB          0.004484\n",
      "Name: 397, dtype: float64, @UNKNOWN    0.007350\n",
      "female      0.370282\n",
      "male        0.617495\n",
      "NB          0.005075\n",
      "Name: 403, dtype: float64, @UNKNOWN    0.954086\n",
      "female      0.013917\n",
      "male        0.031767\n",
      "NB          0.000230\n",
      "Name: 409, dtype: float64, @UNKNOWN    0.969935\n",
      "female      0.011101\n",
      "male        0.018813\n",
      "NB          0.000150\n",
      "Name: 426, dtype: float64, @UNKNOWN    0.589763\n",
      "female      0.129507\n",
      "male        0.278698\n",
      "NB          0.002070\n",
      "Name: 475, dtype: float64, @UNKNOWN    0.999207\n",
      "female      0.000355\n",
      "male        0.000434\n",
      "NB          0.000004\n",
      "Name: 594, dtype: float64, @UNKNOWN    0.625753\n",
      "female      0.198931\n",
      "male        0.173473\n",
      "NB          0.002023\n",
      "Name: 604, dtype: float64, @UNKNOWN    0.593324\n",
      "female      0.120203\n",
      "male        0.284492\n",
      "NB          0.002107\n",
      "Name: 620, dtype: float64, @UNKNOWN    9.999160e-01\n",
      "female      3.477908e-05\n",
      "male        4.877468e-05\n",
      "NB          4.198682e-07\n",
      "Name: 666, dtype: float64, @UNKNOWN    0.520949\n",
      "female      0.165425\n",
      "male        0.311333\n",
      "NB          0.002416\n",
      "Name: 677, dtype: float64, @UNKNOWN    0.024692\n",
      "female      0.312923\n",
      "male        0.657508\n",
      "NB          0.004877\n",
      "Name: 716, dtype: float64, @UNKNOWN    0.777119\n",
      "female      0.093841\n",
      "male        0.128024\n",
      "NB          0.001214\n",
      "Name: 724, dtype: float64, @UNKNOWN    0.956673\n",
      "female      0.013480\n",
      "male        0.029585\n",
      "NB          0.000262\n",
      "Name: 726, dtype: float64, @UNKNOWN    0.211253\n",
      "female      0.218026\n",
      "male        0.566820\n",
      "NB          0.003944\n",
      "Name: 765, dtype: float64, @UNKNOWN    0.051119\n",
      "female      0.308227\n",
      "male        0.636260\n",
      "NB          0.004865\n",
      "Name: 770, dtype: float64, @UNKNOWN    0.441118\n",
      "female      0.186482\n",
      "male        0.369606\n",
      "NB          0.002794\n",
      "Name: 785, dtype: float64, @UNKNOWN    0.998807\n",
      "female      0.000295\n",
      "male        0.000892\n",
      "NB          0.000006\n",
      "Name: 805, dtype: float64, @UNKNOWN    0.707937\n",
      "female      0.102235\n",
      "male        0.188534\n",
      "NB          0.001461\n",
      "Name: 893, dtype: float64, @UNKNOWN    9.998701e-01\n",
      "female      4.027085e-05\n",
      "male        8.898560e-05\n",
      "NB          6.495299e-07\n",
      "Name: 956, dtype: float64, @UNKNOWN    0.793842\n",
      "female      0.066395\n",
      "male        0.138927\n",
      "NB          0.001130\n",
      "Name: 1055, dtype: float64, @UNKNOWN    0.994834\n",
      "female      0.001822\n",
      "male        0.003331\n",
      "NB          0.000026\n",
      "Name: 1102, dtype: float64, @UNKNOWN    0.713522\n",
      "female      0.136599\n",
      "male        0.148373\n",
      "NB          0.001940\n",
      "Name: 1225, dtype: float64, @UNKNOWN    0.993475\n",
      "female      0.002005\n",
      "male        0.004487\n",
      "NB          0.000033\n",
      "Name: 1319, dtype: float64, @UNKNOWN    0.711294\n",
      "female      0.085157\n",
      "male        0.202060\n",
      "NB          0.001490\n",
      "Name: 1343, dtype: float64, @UNKNOWN    0.664512\n",
      "female      0.120420\n",
      "male        0.213426\n",
      "NB          0.001702\n",
      "Name: 1368, dtype: float64, @UNKNOWN    0.006646\n",
      "female      0.351322\n",
      "male        0.637209\n",
      "NB          0.005055\n",
      "Name: 1371, dtype: float64, @UNKNOWN    0.548263\n",
      "female      0.146977\n",
      "male        0.302501\n",
      "NB          0.002259\n",
      "Name: 1412, dtype: float64, @UNKNOWN    0.986759\n",
      "female      0.004784\n",
      "male        0.008391\n",
      "NB          0.000066\n",
      "Name: 1457, dtype: float64, @UNKNOWN    0.478734\n",
      "female      0.232414\n",
      "male        0.286493\n",
      "NB          0.002608\n",
      "Name: 1509, dtype: float64, @UNKNOWN    0.782926\n",
      "female      0.087155\n",
      "male        0.128858\n",
      "NB          0.001109\n",
      "Name: 1565, dtype: float64, @UNKNOWN    0.463395\n",
      "female      0.170026\n",
      "male        0.364308\n",
      "NB          0.003058\n",
      "Name: 1625, dtype: float64, @UNKNOWN    0.697387\n",
      "female      0.081865\n",
      "male        0.219302\n",
      "NB          0.001553\n",
      "Name: 1630, dtype: float64, @UNKNOWN    0.854488\n",
      "female      0.037569\n",
      "male        0.107293\n",
      "NB          0.000748\n",
      "Name: 1656, dtype: float64, @UNKNOWN    0.762039\n",
      "female      0.065998\n",
      "male        0.170773\n",
      "NB          0.001190\n",
      "Name: 1715, dtype: float64, @UNKNOWN    0.521777\n",
      "female      0.174086\n",
      "male        0.301812\n",
      "NB          0.002459\n",
      "Name: 1773, dtype: float64, @UNKNOWN    0.397632\n",
      "female      0.242538\n",
      "male        0.356601\n",
      "NB          0.003374\n",
      "Name: 1970, dtype: float64, @UNKNOWN    0.628765\n",
      "female      0.130829\n",
      "male        0.238557\n",
      "NB          0.001939\n",
      "Name: 2006, dtype: float64, @UNKNOWN    0.352750\n",
      "female      0.268319\n",
      "male        0.375754\n",
      "NB          0.003297\n",
      "Name: 2213, dtype: float64, @UNKNOWN    0.809340\n",
      "female      0.086617\n",
      "male        0.103089\n",
      "NB          0.001075\n",
      "Name: 2230, dtype: float64, @UNKNOWN    0.908162\n",
      "female      0.031914\n",
      "male        0.059465\n",
      "NB          0.000459\n",
      "Name: 2272, dtype: float64, @UNKNOWN    0.920925\n",
      "female      0.036010\n",
      "male        0.042664\n",
      "NB          0.000421\n",
      "Name: 2365, dtype: float64, @UNKNOWN    0.757444\n",
      "female      0.110857\n",
      "male        0.130523\n",
      "NB          0.001226\n",
      "Name: 2429, dtype: float64, @UNKNOWN    0.982599\n",
      "female      0.004419\n",
      "male        0.012896\n",
      "NB          0.000087\n",
      "Name: 2465, dtype: float64, @UNKNOWN    0.932551\n",
      "female      0.022310\n",
      "male        0.044750\n",
      "NB          0.000467\n",
      "Name: 2741, dtype: float64, @UNKNOWN    0.072972\n",
      "female      0.692042\n",
      "male        0.230507\n",
      "NB          0.004978\n",
      "Name: 2859, dtype: float64]\n"
     ]
    }
   ],
   "source": [
    "gender_targets = list(map(lambda x: x[1], gender_targets))\n",
    "print(gender_targets)"
   ]
  },
  {
   "cell_type": "markdown",
   "id": "42575321-be2a-4f50-9e81-d30e08c3a6c6",
   "metadata": {},
   "source": [
    "## Relevant Topics"
   ]
  },
  {
   "cell_type": "code",
   "execution_count": 22,
   "id": "bb0ad381-acdc-4a11-bf18-b11cb426bf4d",
   "metadata": {},
   "outputs": [
    {
     "name": "stdout",
     "output_type": "stream",
     "text": [
      "Agriculture\n",
      "Amphibians and Reptiles\n",
      "Astronomy\n",
      "Aviation\n",
      "Biography/WikiProject Actors and Filmmakers\n",
      "Biography/WikiProject Musicians\n",
      "Biography/science and academia work group\n",
      "Birds\n",
      "Books\n",
      "Business\n",
      "Chemicals\n",
      "Christianity\n",
      "Cities\n",
      "Classical music\n",
      "Computer science\n",
      "Computing\n",
      "Cricket\n",
      "Crime and Criminal Biography\n",
      "Cycling\n",
      "Dams\n",
      "Engineering\n",
      "Film/American cinema task force\n",
      "Former countries\n",
      "Geography\n",
      "Human rights\n",
      "Insects\n",
      "Islam\n",
      "Japan\n",
      "Japan/Biography task force\n",
      "Jewish history\n",
      "Languages\n",
      "Literature\n",
      "Medicine\n",
      "Middle Ages\n",
      "Military history\n",
      "Military history/Maritime warfare task force\n",
      "Motorsport\n",
      "Netherlands\n",
      "Photography\n",
      "Politics\n",
      "Skiing and Snowboarding\n",
      "Southeast Asia\n",
      "Television\n",
      "Tennis\n",
      "Trains\n"
     ]
    }
   ],
   "source": [
    "s = 0\n",
    "e = 45\n",
    "k = 500\n",
    "rankings_total, relevancy_labels_total = zip(*searcher.search(s, e, k=k))"
   ]
  },
  {
   "cell_type": "code",
   "execution_count": 32,
   "id": "6a3b2206-ffc1-412f-8471-d7c41efec9e3",
   "metadata": {},
   "outputs": [],
   "source": [
    "rel_indexes = [2,4,5,8,9,12,13,17,18,21,28,29,31,37,38,39,40,41,42,43]\n",
    "rankings_total_2_indexes = [(i, rankings_total[i]) for i in rel_indexes]\n",
    "rankings_total_2= [x for _,x in rankings_total_2_indexes]"
   ]
  },
  {
   "cell_type": "code",
   "execution_count": 24,
   "id": "54883a1c-30a6-4007-8b3f-183e5fbf344d",
   "metadata": {},
   "outputs": [
    {
     "name": "stdout",
     "output_type": "stream",
     "text": [
      "Missing fairness info for 0 values!\n"
     ]
    },
    {
     "name": "stderr",
     "output_type": "stream",
     "text": [
      " 99%|█████████▉| 99/100 [00:56<00:00,  1.76it/s]\n"
     ]
    },
    {
     "name": "stdout",
     "output_type": "stream",
     "text": [
      "Missing fairness info for 0 values!\n"
     ]
    },
    {
     "name": "stderr",
     "output_type": "stream",
     "text": [
      " 99%|█████████▉| 99/100 [00:55<00:00,  1.79it/s]\n"
     ]
    },
    {
     "name": "stdout",
     "output_type": "stream",
     "text": [
      "Missing fairness info for 0 values!\n"
     ]
    },
    {
     "name": "stderr",
     "output_type": "stream",
     "text": [
      " 99%|█████████▉| 99/100 [00:54<00:00,  1.80it/s]\n"
     ]
    },
    {
     "name": "stdout",
     "output_type": "stream",
     "text": [
      "Missing fairness info for 0 values!\n"
     ]
    },
    {
     "name": "stderr",
     "output_type": "stream",
     "text": [
      " 99%|█████████▉| 99/100 [00:57<00:00,  1.71it/s]\n"
     ]
    },
    {
     "name": "stdout",
     "output_type": "stream",
     "text": [
      "Missing fairness info for 1 values!\n"
     ]
    },
    {
     "name": "stderr",
     "output_type": "stream",
     "text": [
      " 99%|█████████▉| 99/100 [00:54<00:00,  1.81it/s]\n"
     ]
    },
    {
     "name": "stdout",
     "output_type": "stream",
     "text": [
      "Missing fairness info for 0 values!\n"
     ]
    },
    {
     "name": "stderr",
     "output_type": "stream",
     "text": [
      " 99%|█████████▉| 99/100 [00:54<00:00,  1.81it/s]\n"
     ]
    },
    {
     "name": "stdout",
     "output_type": "stream",
     "text": [
      "Missing fairness info for 0 values!\n"
     ]
    },
    {
     "name": "stderr",
     "output_type": "stream",
     "text": [
      " 99%|█████████▉| 99/100 [00:58<00:00,  1.69it/s]\n"
     ]
    },
    {
     "name": "stdout",
     "output_type": "stream",
     "text": [
      "Missing fairness info for 0 values!\n"
     ]
    },
    {
     "name": "stderr",
     "output_type": "stream",
     "text": [
      " 99%|█████████▉| 99/100 [00:57<00:00,  1.72it/s]\n"
     ]
    },
    {
     "name": "stdout",
     "output_type": "stream",
     "text": [
      "Missing fairness info for 0 values!\n"
     ]
    },
    {
     "name": "stderr",
     "output_type": "stream",
     "text": [
      " 99%|█████████▉| 99/100 [00:56<00:00,  1.75it/s]\n"
     ]
    },
    {
     "name": "stdout",
     "output_type": "stream",
     "text": [
      "Missing fairness info for 0 values!\n"
     ]
    },
    {
     "name": "stderr",
     "output_type": "stream",
     "text": [
      " 99%|█████████▉| 99/100 [00:56<00:00,  1.75it/s]\n"
     ]
    },
    {
     "name": "stdout",
     "output_type": "stream",
     "text": [
      "Missing fairness info for 2 values!\n"
     ]
    },
    {
     "name": "stderr",
     "output_type": "stream",
     "text": [
      " 99%|█████████▉| 99/100 [00:56<00:00,  1.76it/s]\n"
     ]
    },
    {
     "name": "stdout",
     "output_type": "stream",
     "text": [
      "Missing fairness info for 2 values!\n"
     ]
    },
    {
     "name": "stderr",
     "output_type": "stream",
     "text": [
      " 99%|█████████▉| 99/100 [00:57<00:00,  1.72it/s]\n"
     ]
    },
    {
     "name": "stdout",
     "output_type": "stream",
     "text": [
      "Missing fairness info for 0 values!\n"
     ]
    },
    {
     "name": "stderr",
     "output_type": "stream",
     "text": [
      " 99%|█████████▉| 99/100 [00:56<00:00,  1.74it/s]\n"
     ]
    },
    {
     "name": "stdout",
     "output_type": "stream",
     "text": [
      "Missing fairness info for 0 values!\n"
     ]
    },
    {
     "name": "stderr",
     "output_type": "stream",
     "text": [
      " 99%|█████████▉| 99/100 [00:57<00:00,  1.71it/s]\n"
     ]
    },
    {
     "name": "stdout",
     "output_type": "stream",
     "text": [
      "Missing fairness info for 1 values!\n"
     ]
    },
    {
     "name": "stderr",
     "output_type": "stream",
     "text": [
      " 99%|█████████▉| 99/100 [00:56<00:00,  1.77it/s]\n"
     ]
    },
    {
     "name": "stdout",
     "output_type": "stream",
     "text": [
      "Missing fairness info for 1 values!\n"
     ]
    },
    {
     "name": "stderr",
     "output_type": "stream",
     "text": [
      " 99%|█████████▉| 99/100 [00:58<00:00,  1.68it/s]\n"
     ]
    },
    {
     "name": "stdout",
     "output_type": "stream",
     "text": [
      "Missing fairness info for 0 values!\n"
     ]
    },
    {
     "name": "stderr",
     "output_type": "stream",
     "text": [
      " 99%|█████████▉| 99/100 [00:56<00:00,  1.75it/s]\n"
     ]
    },
    {
     "name": "stdout",
     "output_type": "stream",
     "text": [
      "Missing fairness info for 2 values!\n"
     ]
    },
    {
     "name": "stderr",
     "output_type": "stream",
     "text": [
      " 99%|█████████▉| 99/100 [00:58<00:00,  1.69it/s]\n"
     ]
    },
    {
     "name": "stdout",
     "output_type": "stream",
     "text": [
      "Missing fairness info for 0 values!\n"
     ]
    },
    {
     "name": "stderr",
     "output_type": "stream",
     "text": [
      " 99%|█████████▉| 99/100 [00:56<00:00,  1.74it/s]\n"
     ]
    },
    {
     "name": "stdout",
     "output_type": "stream",
     "text": [
      "Missing fairness info for 0 values!\n"
     ]
    },
    {
     "name": "stderr",
     "output_type": "stream",
     "text": [
      " 99%|█████████▉| 99/100 [00:58<00:00,  1.68it/s]\n"
     ]
    }
   ],
   "source": [
    "rerankings_MMR = [MMR_gender(x, lamb=0.1) for x in rankings_total_2]"
   ]
  },
  {
   "cell_type": "code",
   "execution_count": 25,
   "id": "010b504d-a8bb-4448-914f-d67211b309a0",
   "metadata": {},
   "outputs": [],
   "source": [
    "rerankings_CL, CLS = zip(*\n",
    "                        [zip(*roundRobinWithClusters(r, clusterings[index], clustering_preferences[index])) for index, r in rankings_total_2_indexes]  \n",
    "                       )"
   ]
  },
  {
   "cell_type": "code",
   "execution_count": 26,
   "id": "f6cc78b6-6055-44f6-b87a-56731395814a",
   "metadata": {},
   "outputs": [
    {
     "name": "stdout",
     "output_type": "stream",
     "text": [
      "2 0\n"
     ]
    },
    {
     "name": "stderr",
     "output_type": "stream",
     "text": [
      "c:\\Users\\marta\\Thesis\\trec2022-fair-public\\Library\\evaluations.py:96: SettingWithCopyWarning: \n",
      "A value is trying to be set on a copy of a slice from a DataFrame\n",
      "\n",
      "See the caveats in the documentation: https://pandas.pydata.org/pandas-docs/stable/user_guide/indexing.html#returning-a-view-versus-a-copy\n",
      "  fairness.loc[eval(item.docid)]/= math.log2(max(k, 2))\n"
     ]
    },
    {
     "name": "stdout",
     "output_type": "stream",
     "text": [
      "4 1\n",
      "5 2\n",
      "8 3\n",
      "9 4\n",
      "12 5\n",
      "13 6\n",
      "17 7\n",
      "18 8\n",
      "21 9\n",
      "28 10\n",
      "29 11\n",
      "31 12\n",
      "37 13\n",
      "38 14\n",
      "39 15\n",
      "40 16\n",
      "41 17\n"
     ]
    },
    {
     "name": "stderr",
     "output_type": "stream",
     "text": [
      "c:\\Users\\marta\\anaconda3\\envs\\pyserini\\lib\\site-packages\\scipy\\spatial\\distance.py:1290: RuntimeWarning: invalid value encountered in divide\n",
      "  p = p / np.sum(p, axis=axis, keepdims=True)\n"
     ]
    },
    {
     "name": "stdout",
     "output_type": "stream",
     "text": [
      "42 18\n",
      "43 19\n"
     ]
    }
   ],
   "source": [
    "import random \n",
    "\n",
    "ndcg_len = 50\n",
    "\n",
    "results = []\n",
    "\n",
    "def shuffle(lst, n):\n",
    "    lsts = []\n",
    "    for _ in range(n):\n",
    "        shuffled = lst[:]\n",
    "        random.shuffle(shuffled)\n",
    "        lsts.append(shuffled)\n",
    "    return lsts\n",
    "\n",
    "version=2\n",
    "\n",
    "with open(f'results/results{version}.csv', 'w') as csvfile:\n",
    "    csvfile.write(f\"NAME, QUERY, NDCG, ALPHA-NDCG, TREC, AWRF\\n\")\n",
    "    for i, q_index in enumerate(rel_indexes):\n",
    "        print(q_index, i)\n",
    "        \n",
    "        ranking = rankings_total[q_index]\n",
    "        reranking_MMR = rerankings_MMR[i]\n",
    "    \n",
    "        reranking_CL = rerankings_CL[i]\n",
    "    \n",
    "        shuffled_lst = shuffle(ranking, 5)\n",
    "\n",
    "        ### rel_docs\n",
    "        ranking_rels =  get_relevancy_labels(ranking, relevancy_labels_total[q_index])\n",
    "        reranking_MMR_rels = get_relevancy_labels(reranking_MMR, relevancy_labels_total[q_index])\n",
    "        reranking_CL_rels = get_relevancy_labels(reranking_CL, relevancy_labels_total[q_index])\n",
    "        shuffled_rels = [get_relevancy_labels(s, relevancy_labels_total[q_index]) for s in shuffled_lst]\n",
    "        \n",
    "        ### document_topics\n",
    "        ct = clustering_topics[q_index]\n",
    "        ct_reranking_MMR = get_topic_info_reranking(ct, ranking, reranking_MMR)\n",
    "        ct_reranking_CL = get_topic_info_reranking(ct, ranking, reranking_CL)\n",
    "        ct_reranking_SHUFFLEDs = [get_topic_info_reranking(ct, ranking, shuffled) for shuffled in shuffled_lst]\n",
    "        \n",
    "        ### BM25 ####\n",
    "        AWRF_bm25 = JS(get_fairness_NDCG(ranking[:ndcg_len])[1:], gender_targets[q_index][1:])\n",
    "        NDCG_bm25 = NDCG(ranking_rels, ndcg_len)\n",
    "        alpha_NDCG_bm25 = NDCG_2(ct, ndcg_len)\n",
    "        TREC_bm25 = JS(get_fairness_NDCG(ranking[:ndcg_len])[1:], gender_targets[q_index][1:]) * NDCG(ranking_rels, ndcg_len)\n",
    "        csvfile.write(f\"BM25, {q_index}, {NDCG_bm25}, {alpha_NDCG_bm25}, {TREC_bm25}, {AWRF_bm25}\\n\")\n",
    "        \n",
    "        ### MMR ###\n",
    "        AWRF_MMR = JS(get_fairness_NDCG(reranking_MMR[:ndcg_len])[1:], gender_targets[q_index][1:])\n",
    "        NDCG_MMR = NDCG(reranking_MMR_rels, ndcg_len)\n",
    "        alpha_NDCG_MMR = NDCG_2(ct_reranking_MMR, ndcg_len)\n",
    "        TREC_MMR = JS(get_fairness_NDCG(reranking_MMR[:ndcg_len])[1:], gender_targets[q_index][1:]) * NDCG(reranking_MMR_rels, ndcg_len)\n",
    "        csvfile.write(f\"MMR, {q_index}, {NDCG_MMR}, {alpha_NDCG_MMR}, {TREC_MMR}, {AWRF_MMR}\\n\")\n",
    "\n",
    "        ### MMR targets ###\n",
    "        AWRF_MMR_T = JS(get_fairness_NDCG(reranking_MMR[:ndcg_len])[1:], gender_targets[q_index][1:])\n",
    "        NDCG_MMR_T = NDCG(reranking_MMR_rels, ndcg_len)\n",
    "        alpha_NDCG_MMR_T = NDCG_2(ct_reranking_MMR, ndcg_len)\n",
    "        TREC_MMR_T = JS(get_fairness_NDCG(reranking_MMR[:ndcg_len])[1:], gender_targets[q_index][1:]) * NDCG(reranking_MMR_rels, ndcg_len)\n",
    "        csvfile.write(f\"MMR_T, {q_index}, {NDCG_MMR_T}, {alpha_NDCG_MMR_T}, {TREC_MMR_T}, {AWRF_MMR_T}\\n\")\n",
    "        \n",
    "        ### CLUSTER ###\n",
    "        AWRF_CL = JS(get_fairness_NDCG(reranking_CL[:ndcg_len])[1:], gender_targets[q_index][1:])\n",
    "        NDCG_CL = NDCG(reranking_CL_rels, ndcg_len)\n",
    "        alpha_NDCG_CL = NDCG_2(ct_reranking_CL, ndcg_len)\n",
    "        TREC_CL = JS(get_fairness_NDCG(reranking_CL[:ndcg_len])[1:], gender_targets[q_index][1:]) * NDCG(reranking_CL_rels, ndcg_len)\n",
    "        csvfile.write(f\"CL, {q_index}, {NDCG_CL}, {alpha_NDCG_CL}, {TREC_CL}, {AWRF_CL}\\n\")\n",
    "\n",
    "        ### Full-random ###\n",
    "        AWRF_FR = sum([JS(get_fairness_NDCG(shuffled[:ndcg_len])[1:], gender_targets[q_index][1:]) for shuffled in shuffled_lst])/len(shuffled_lst)\n",
    "        NDCG_FR = sum([NDCG(shuffled_rel, ndcg_len) for shuffled_rel in shuffled_rels])/len(shuffled_rels)\n",
    "        alpha_NDCG_FR = sum([NDCG_2(ct_s, ndcg_len) for ct_s in ct_reranking_SHUFFLEDs ])/len(ct_reranking_SHUFFLEDs)\n",
    "        TREC_FR = AWRF_FR*NDCG_FR\n",
    "        csvfile.write(f\"FR, {q_index}, {NDCG_FR}, {alpha_NDCG_FR}, {TREC_FR}, {AWRF_FR}\\n\")\n",
    "        \n",
    "        "
   ]
  },
  {
   "cell_type": "code",
   "execution_count": 28,
   "id": "e8d9df91-c9ad-4da4-8b59-8000d8042905",
   "metadata": {},
   "outputs": [],
   "source": [
    "bm25_pop = pd.concat([get_fairness(rankings_total[i][:100]) for i in rel_indexes])\n",
    "bm25_pop = bm25_pop.drop('@UNKNOWN', axis=1)\n",
    "bm25_pop.to_csv(f\"results/bm25_pop{version}\")\n",
    "\n",
    "MMR_POP = pd.concat([get_fairness(rerankings_MMR[i][:100]) for i in range(len(rel_indexes))])\n",
    "MMR_POP = MMR_POP.drop('@UNKNOWN', axis=1)\n",
    "MMR_POP.to_csv(f\"results/MMR_POP{version}\")\n",
    "\n",
    "CL_POP = pd.concat([get_fairness(rerankings_CL[i][:100]) for i in range(len(rel_indexes))])\n",
    "CL_POP = CL_POP.drop('@UNKNOWN', axis=1)\n",
    "CL_POP.to_csv(f\"results/CL_POP{version}\")\n",
    "\n",
    "FR_POP = pd.concat(sum([[get_fairness(x[:100]) for x in shuffle(rankings_total[i], 5)] for i in range(len(rel_indexes))], []))\n",
    "FR_POP = FR_POP.drop('@UNKNOWN', axis=1)\n",
    "FR_POP.to_csv(f\"results/FR_POP{version}\")"
   ]
  }
 ],
 "metadata": {
  "kernelspec": {
   "display_name": "pyserini",
   "language": "python",
   "name": "python3"
  },
  "language_info": {
   "codemirror_mode": {
    "name": "ipython",
    "version": 3
   },
   "file_extension": ".py",
   "mimetype": "text/x-python",
   "name": "python",
   "nbconvert_exporter": "python",
   "pygments_lexer": "ipython3",
   "version": "3.8.18"
  }
 },
 "nbformat": 4,
 "nbformat_minor": 5
}
