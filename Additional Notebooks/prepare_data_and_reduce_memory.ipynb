{
 "cells": [
  {
   "cell_type": "markdown",
   "id": "57b249b7-7833-454b-bf80-5a84b2f52558",
   "metadata": {},
   "source": [
    "# Initalisation\n",
    "A whole bunch of scripts used to set up the index and get the data in the correct formats."
   ]
  },
  {
   "cell_type": "code",
   "execution_count": 1,
   "id": "31f83e64-c809-4082-b7bb-54ff6051a368",
   "metadata": {},
   "outputs": [],
   "source": [
    "# import os\n",
    "# import json \n",
    "\n",
    "# for filename in os.listdir(\"jsonl\"):\n",
    "    \n",
    "#     with open(\"jsonl/\"+filename, \"r\") as file:\n",
    "#         data = file.read()\n",
    "#         data = data.replace(', \"plain\":', ', \"contents\":')\n",
    "    \n",
    "#     with open(\"jsonl/\"+filename, \"w\") as file:\n",
    "#         file.write(data)"
   ]
  },
  {
   "cell_type": "code",
   "execution_count": null,
   "id": "8c320130-2839-4ebe-9784-afd4db6e0154",
   "metadata": {},
   "outputs": [],
   "source": [
    "!python -m pyserini.index.lucene -collection JsonCollection -generator DefaultLuceneDocumentGenerator -threads 9 \\\n",
    "-input jsonl -index indexes/lucene-index -storePositions -storeDocvectors -storeRaw"
   ]
  },
  {
   "cell_type": "code",
   "execution_count": null,
   "id": "b0cce74e-217d-4caa-a145-9feade93729e",
   "metadata": {},
   "outputs": [],
   "source": [
    "for filename in os.listdir(\"fairness_original\"):\n",
    "    if filename != \"desktop.ini\":\n",
    "        with open(\"fairness_original/\"+filename, \"r\") as file:\n",
    "            newdata = \"\"\n",
    "            data = file.readlines()\n",
    "            print(filename)\n",
    "            for line in data:\n",
    "                obj = json.loads(line)\n",
    "                obj['page_countries'] = str(list(map(lambda x:x.replace(\"\\''\", \"\"), obj['page_countries']))) \n",
    "                obj.pop('first_letter')\n",
    "                newline = {\n",
    "                        'id':obj[\"page_id\"],\n",
    "                        'contents': json.dumps(obj)\n",
    "                }\n",
    "\n",
    "                newdata += json.dumps(newline) +\"\\n\"\n",
    "    \n",
    "        with open(\"fairness/\"+filename, \"w\") as file:\n",
    "            file.write(newdata)\n",
    "        \n",
    "#     with open(\"fairness/\"+filename, \"r\") as file:\n",
    "#         data = \"\"\n",
    "#         for obj in file:\n",
    "#             print(\"test\"+obj)\n",
    "#             js = [x for x in json.loads(obj).keys() if x!=\"id\"]\n",
    "#             data += json.dumps(js)\n",
    "#         print(data[:1000])\n",
    "#         break"
   ]
  },
  {
   "cell_type": "code",
   "execution_count": null,
   "id": "79ccae73-fdd3-4b76-b99f-674c8140db4b",
   "metadata": {},
   "outputs": [],
   "source": [
    "for filename in os.listdir(\"fairness\"):\n",
    "    if filename != \"desktop.ini\":\n",
    "        print(filename)\n",
    "        with open(\"fairness/\"+filename, \"r\") as file:\n",
    "            data = file.read()\n",
    "            print(data[:1000])\n",
    "#         data = data.replace('\"', \"'\")\n",
    "#         data = data.replace(\"\\\\'\", \"\")\n",
    "            data = data.replace('\\\\\"id\\\\\"', 'id')\n",
    "            data = data.replace('\\\\\"contents\\\\\"', 'contents')\n",
    "#         data = data.replace(\"'}\\n\", '\"}\\n')        \n",
    "        \n",
    "            print(data[:1000])\n",
    "        with open(\"fairness/\"+filename, \"w\") as file:\n",
    "            file.write(data)"
   ]
  },
  {
   "cell_type": "code",
   "execution_count": null,
   "id": "9c69c446-6980-4861-bc29-c37ee1edbcb0",
   "metadata": {},
   "outputs": [],
   "source": [
    "#  cat ../trec_2022_articles_discrete_V2.json  | split -C 500000000 -d -a4 - X\n",
    "\n",
    "for filename in os.listdir(\"fairness_split\"):\n",
    "    if filename != \"desktop.ini\":\n",
    "        with open(\"fairness_split/\"+filename, \"r\") as file:\n",
    "            newdata = \"\"\n",
    "            data = file.readlines()\n",
    "            \n",
    "            for line in tqdm(data):\n",
    "                obj = json.loads(line)\n",
    "\n",
    "                obj = {key: obj[key] for key in [\"page_id\",\"source_countries\", \"gender\"]}\n",
    "\n",
    "                newdata += json.dumps(obj) +\"\\n\"\n",
    "    \n",
    "        with open(\"fairness_split_modified/\"+filename, \"w+\") as file:\n",
    "            file.write(newdata)\n",
    "        \n",
    "#     with open(\"fairness/\"+filename, \"r\") as file:\n",
    "#         data = \"\"\n",
    "#         for obj in file:\n",
    "#             print(\"test\"+obj)\n",
    "#             js = [x for x in json.loads(obj).keys() if x!=\"id\"]\n",
    "#             data += json.dumps(js)\n",
    "#         print(data[:1000])\n",
    "#         break"
   ]
  },
  {
   "cell_type": "code",
   "execution_count": null,
   "id": "1075f242-c70e-44aa-b1f3-90e949bd00d0",
   "metadata": {},
   "outputs": [],
   "source": [
    "newdata = \"\"\n",
    "for filename in os.listdir(\"fairness_split_modified\"):\n",
    "    if filename != \"desktop.ini\":\n",
    "        with open(\"fairness_split_modified/\"+filename, \"r\") as file:\n",
    "            print(filename)\n",
    "            data = file.read()\n",
    "            newdata+=data\n",
    "    \n",
    "    with open(\"fairness.json\", \"w+\") as file:\n",
    "        file.write(newdata)"
   ]
  },
  {
   "cell_type": "code",
   "execution_count": null,
   "id": "2574b8dd-3818-4131-b882-12a65bd3eb82",
   "metadata": {},
   "outputs": [],
   "source": [
    "!python -m pyserini.index.lucene -collection JsonCollection -generator DefaultLuceneDocumentGenerator -threads 9 \\\n",
    "-input fairness -index indexes/lucene-index-fairness -storePositions -storeDocvectors -storeRaw"
   ]
  },
  {
   "cell_type": "code",
   "execution_count": null,
   "id": "066658ba-6c0d-4638-b50d-578c74226e5f",
   "metadata": {},
   "outputs": [],
   "source": [
    "import pandas as pd\n",
    "\n",
    "with open(\"fairness/x0000000000.json\", \"r\") as file:\n",
    "    #print(file.read()[:1000])\n",
    "    for obj in file:\n",
    "        print(json.loads(obj).keys())\n",
    "        break\n",
    "#     fairness = pd.DataFrame(json.load(file))"
   ]
  }
 ],
 "metadata": {
  "kernelspec": {
   "display_name": "Python [conda env:pyserini] *",
   "language": "python",
   "name": "conda-env-pyserini-py"
  },
  "language_info": {
   "codemirror_mode": {
    "name": "ipython",
    "version": 3
   },
   "file_extension": ".py",
   "mimetype": "text/x-python",
   "name": "python",
   "nbconvert_exporter": "python",
   "pygments_lexer": "ipython3",
   "version": "3.8.18"
  }
 },
 "nbformat": 4,
 "nbformat_minor": 5
}
