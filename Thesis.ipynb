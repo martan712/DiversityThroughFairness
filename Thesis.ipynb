{
 "cells": [
  {
   "cell_type": "markdown",
   "id": "2721017c",
   "metadata": {},
   "source": [
    "# Thesis notebook\n"
   ]
  },
  {
   "cell_type": "markdown",
   "id": "bc221b34-c797-4659-aea1-6b6b2e775fcc",
   "metadata": {},
   "source": [
    "### Setup and prep\n",
    "In this section we check that we are using the correct version of Python (3.8), and we import some of the basic libraries which we will need throughout the notebook."
   ]
  },
  {
   "cell_type": "code",
   "execution_count": null,
   "id": "900898ce",
   "metadata": {},
   "outputs": [],
   "source": [
    "!python --version"
   ]
  },
  {
   "cell_type": "code",
   "execution_count": 1,
   "id": "55b27376",
   "metadata": {},
   "outputs": [],
   "source": [
    "import json\n",
    "import os\n",
    "from tqdm import tqdm\n",
    "import pandas as pd\n",
    "import numpy as np\n",
    "import collections"
   ]
  },
  {
   "cell_type": "markdown",
   "id": "4cff5477",
   "metadata": {},
   "source": [
    "## Ranking Queries"
   ]
  },
  {
   "cell_type": "code",
   "execution_count": 2,
   "id": "d1605d6c-8bfa-406a-b814-3e4a4c0d4a03",
   "metadata": {},
   "outputs": [],
   "source": [
    "from pyserini.index import IndexReader\n",
    "index_reader = IndexReader('data/indexes/indexes/lucene-index')\n",
    "len_C = index_reader.stats()['total_terms']"
   ]
  },
  {
   "cell_type": "code",
   "execution_count": 3,
   "id": "ff8f81e3",
   "metadata": {},
   "outputs": [],
   "source": [
    "import pandas as pd\n",
    "\n",
    "with open(\"queries.json\", \"r\") as file:\n",
    "    queries = pd.DataFrame(json.load(file))\n",
    "\n",
    "assert( set(queries.columns) == set(['id', 'keywords', 'title', 'rel_docs', 'URL']) )\n",
    "\n",
    "# transform string to list\n",
    "queries[\"rel_docs\"]= list(map(lambda x: x.strip('][').split(', '), queries[\"rel_docs\"]))"
   ]
  },
  {
   "cell_type": "code",
   "execution_count": 4,
   "id": "43e78e33-96ca-428a-b45a-4869922268d5",
   "metadata": {},
   "outputs": [
    {
     "name": "stdout",
     "output_type": "stream",
     "text": [
      "      id                                           keywords  \\\n",
      "0     84  ['cultivated', 'agricultural', 'maize', 'corn'...   \n",
      "1    111  ['reptile', 'lizard', 'salamander', 'fossil', ...   \n",
      "2    265  ['astronomer', 'astronomy', 'astrophysicist', ...   \n",
      "3    323  ['aviation', 'airfield', 'airport', 'aerospace...   \n",
      "4    396  ['actor', 'cast', 'screenwriter', 'filmmaker',...   \n",
      "5    397  ['singer', 'musician', 'songwriter', 'guitaris...   \n",
      "6    403  ['philosopher', 'scientist', 'mathematician', ...   \n",
      "7    409  ['bird', 'island', 'plumage', 'falconidae', 'p...   \n",
      "8    426  ['novel', 'trilogy',  'paperback', 'miniseries...   \n",
      "9    475  [ 'financier', 'businessman', 'roosevelt', 'ri...   \n",
      "10   594  ['pharmacology', 'sulfur', 'sulfuric', 'sulfur...   \n",
      "11   620  ['charlemagne', 'cathedral', 'pope', 'babylon'...   \n",
      "12   666  ['hamburg', 'london', 'berlin', 'kyiv', 'riga'...   \n",
      "13   677  ['composer', 'musician', 'piano', 'libretto', ...   \n",
      "14   724  ['programming', 'java', 'computing', 'compiler...   \n",
      "15   726  ['software', 'macromedia', 'multimedia', 'free...   \n",
      "16   765  ['cricket', 'batsman', 'bowler', 'wicket', 'fi...   \n",
      "17   770  ['convicted', 'mp', 'homicide', 'fbi', 'murder...   \n",
      "18   785  ['cyclist', 'cycling', 'giro', 'racing', 'comp...   \n",
      "19   805  ['hydroelectric', 'hydroelectricity', 'dam', '...   \n",
      "20   893  ['engineer', 'computer', 'hardware', 'engineer...   \n",
      "21   956  ['screenplay', 'film', 'cartoon', 'cast', 'com...   \n",
      "22  1055  ['mahabharata', 'prussia', 'baltic', 'slavic',...   \n",
      "23  1102  ['sea', 'valley', 'river', 'gulf', 'ocean', 'o...   \n",
      "24  1225  ['slavery', 'enslaved', 'slave', 'klan', 'cons...   \n",
      "25  1319  ['insect', 'larva', 'mosquito', 'larval', 'pes...   \n",
      "26  1343  ['muhammad', 'muslim', 'caliph', 'prophet', 'q...   \n",
      "27  1368  ['japan', 'japanese', 'tokyo', 'nikkei', 'meij...   \n",
      "28  1371  ['japanese', 'nippon', 'takashi', 'akihito', '...   \n",
      "29  1412  ['judah', 'jewish', 'judaism', 'jerusalem', 't...   \n",
      "30  1457  ['hindi', 'bengali', 'marathi', 'arabic', 'ind...   \n",
      "31  1509  ['novelist', 'literature', 'writer', 'poetry',...   \n",
      "32  1565  ['medication', 'pharmacology', 'herbal', 'herb...   \n",
      "33  1625  ['prussia', 'mamluk', 'mamluks', 'mameluk', 'm...   \n",
      "34  1630  ['regiment', 'regimental', 'jacobite', 'infant...   \n",
      "35  1656  ['admiral', 'naval', 'captain', 'fleet', 'navy...   \n",
      "36  1715  ['motorsport', 'racing', 'prix', 'motorsport',...   \n",
      "37  1773  ['ruud', 'eindhoven', 'arubans', 'aruba', 'aru...   \n",
      "38  1970  ['photographer', 'camera', 'photographic', 'ph...   \n",
      "39  2006  ['diplomat', 'constituency', 'politician', 're...   \n",
      "40  2213  ['ski', 'skiing', 'olympics', 'olympic', 'skie...   \n",
      "41  2272  ['cambodia', 'thai', 'myanmar', 'thailand', 'b...   \n",
      "42  2365  ['cartoon', 'cast', 'itv', 'acting', 'actress'...   \n",
      "43  2429  ['tennis', 'wimbledon', 'federer', 'djokovic',...   \n",
      "44  2465  ['trains', 'railway', 'rail', 'railroad', 'tra...   \n",
      "45  2741  ['video games', 'arcade', 'gaming', 'nintendo'...   \n",
      "\n",
      "                                           title  \\\n",
      "0                                    Agriculture   \n",
      "1                        Amphibians and Reptiles   \n",
      "2                                      Astronomy   \n",
      "3                                       Aviation   \n",
      "4    Biography/WikiProject Actors and Filmmakers   \n",
      "5                Biography/WikiProject Musicians   \n",
      "6      Biography/science and academia work group   \n",
      "7                                          Birds   \n",
      "8                                          Books   \n",
      "9                                       Business   \n",
      "10                                     Chemicals   \n",
      "11                                  Christianity   \n",
      "12                                        Cities   \n",
      "13                               Classical music   \n",
      "14                              Computer science   \n",
      "15                                     Computing   \n",
      "16                                       Cricket   \n",
      "17                  Crime and Criminal Biography   \n",
      "18                                       Cycling   \n",
      "19                                          Dams   \n",
      "20                                   Engineering   \n",
      "21               Film/American cinema task force   \n",
      "22                              Former countries   \n",
      "23                                     Geography   \n",
      "24                                  Human rights   \n",
      "25                                       Insects   \n",
      "26                                         Islam   \n",
      "27                                         Japan   \n",
      "28                    Japan/Biography task force   \n",
      "29                                Jewish history   \n",
      "30                                     Languages   \n",
      "31                                    Literature   \n",
      "32                                      Medicine   \n",
      "33                                   Middle Ages   \n",
      "34                              Military history   \n",
      "35  Military history/Maritime warfare task force   \n",
      "36                                    Motorsport   \n",
      "37                                   Netherlands   \n",
      "38                                   Photography   \n",
      "39                                      Politics   \n",
      "40                       Skiing and Snowboarding   \n",
      "41                                Southeast Asia   \n",
      "42                                    Television   \n",
      "43                                        Tennis   \n",
      "44                                        Trains   \n",
      "45                                   Video games   \n",
      "\n",
      "                                             rel_docs  \\\n",
      "0   [572, 627, 678, 903, 1193, 1542, 1634, 3751, 3...   \n",
      "1   [621, 809, 1380, 6641, 8311, 8937, 13134, 1446...   \n",
      "2   [39, 308, 580, 664, 736, 748, 791, 798, 799, 1...   \n",
      "3   [849, 852, 1293, 1902, 1942, 2039, 2075, 2082,...   \n",
      "4   [344, 676, 808, 872, 1247, 1806, 1828, 2083, 2...   \n",
      "5   [700, 859, 864, 875, 880, 905, 1006, 1017, 102...   \n",
      "6   [308, 340, 700, 728, 736, 784, 851, 852, 892, ...   \n",
      "7   [1227, 2995, 3410, 3453, 4193, 4401, 4462, 452...   \n",
      "8   [332, 1136, 1756, 2834, 2853, 2956, 3390, 3778...   \n",
      "9   [1081, 1581, 1806, 1893, 1938, 2391, 2593, 259...   \n",
      "10  [1365, 1525, 1697, 1778, 1800, 1912, 2268, 250...   \n",
      "11  [651, 678, 740, 909, 1006, 1029, 1055, 1078, 1...   \n",
      "12  [802, 844, 1038, 1148, 1216, 1298, 1305, 1359,...   \n",
      "13  [309, 1029, 1425, 2329, 2411, 3435, 3436, 3437...   \n",
      "14  [742, 775, 1164, 1242, 1368, 1451, 1453, 1456,...   \n",
      "15  [586, 593, 655, 742, 775, 856, 887, 974, 1164,...   \n",
      "16  [1132, 4109, 4367, 7239, 11040, 12501, 13961, ...   \n",
      "17  [3212, 8799, 9048, 15919, 16218, 16240, 16277,...   \n",
      "18  [3973, 4960, 5693, 5931, 11513, 18724, 20601, ...   \n",
      "19  [14308, 17198, 48308, 51518, 65192, 67503, 693...   \n",
      "20  [1146, 2082, 2428, 2753, 2819, 3233, 4318, 452...   \n",
      "21  [316, 324, 869, 3217, 3333, 3746, 3837, 3947, ...   \n",
      "22  [783, 802, 842, 854, 874, 1527, 1528, 1529, 15...   \n",
      "23  [689, 694, 698, 842, 854, 903, 911, 981, 1082,...   \n",
      "24  [765, 1950, 2006, 2547, 2784, 2786, 2834, 2847...   \n",
      "25  [1740, 2594, 4374, 4654, 7044, 9032, 10313, 13...   \n",
      "26  [573, 740, 803, 1006, 1130, 1178, 1359, 1436, ...   \n",
      "27  [751, 800, 872, 1530, 2391, 2802, 2871, 3092, ...   \n",
      "28  [872, 3092, 10125, 10126, 10130, 10287, 10415,...   \n",
      "29  [736, 1078, 1389, 1438, 2006, 2187, 2632, 2741...   \n",
      "30  [597, 599, 803, 824, 825, 1201, 1890, 1897, 20...   \n",
      "31  [914, 1203, 1361, 1837, 2179, 2210, 2447, 2999...   \n",
      "32  [25, 653, 674, 765, 782, 876, 897, 922, 967, 9...   \n",
      "33  [841, 844, 868, 1078, 1130, 1360, 1373, 1408, ...   \n",
      "34  [305, 307, 662, 709, 711, 771, 783, 841, 863, ...   \n",
      "35  [662, 1576, 2219, 2563, 2988, 3147, 3218, 4031...   \n",
      "36  [1022, 4996, 5052, 8373, 9164, 10854, 10945, 1...   \n",
      "37  [690, 844, 1988, 2162, 2273, 2289, 2758, 2938,...   \n",
      "38  [864, 2083, 4158, 6585, 6751, 8367, 8487, 9779...   \n",
      "39  [12, 307, 308, 339, 665, 691, 705, 710, 771, 7...   \n",
      "40  [4405, 5399, 6721, 8508, 28262, 28478, 28489, ...   \n",
      "41  [597, 1494, 2847, 3253, 3262, 3466, 3658, 3661...   \n",
      "42  [1948, 2032, 2139, 2372, 2393, 2861, 3214, 337...   \n",
      "43  [595, 890, 4601, 10620, 13776, 17915, 18886, 1...   \n",
      "44  [708, 1938, 2244, 4384, 4385, 4425, 4635, 4640...   \n",
      "45  [785, 1203, 1980, 2078, 2116, 2141, 2197, 2215...   \n",
      "\n",
      "                                                  URL  \n",
      "0   https://en.wikipedia.org/wiki/Wikipedia:WikiPr...  \n",
      "1   https://en.wikipedia.org/wiki/Wikipedia:WikiPr...  \n",
      "2   https://en.wikipedia.org/wiki/Wikipedia:WikiPr...  \n",
      "3   https://en.wikipedia.org/wiki/Wikipedia:WikiPr...  \n",
      "4   https://en.wikipedia.org/wiki/Wikipedia:WikiPr...  \n",
      "5   https://en.wikipedia.org/wiki/Wikipedia:WikiPr...  \n",
      "6   https://en.wikipedia.org/wiki/Wikipedia:WikiPr...  \n",
      "7   https://en.wikipedia.org/wiki/Wikipedia:WikiPr...  \n",
      "8   https://en.wikipedia.org/wiki/Wikipedia:WikiPr...  \n",
      "9   https://en.wikipedia.org/wiki/Wikipedia:WikiPr...  \n",
      "10  https://en.wikipedia.org/wiki/Wikipedia:WikiPr...  \n",
      "11  https://en.wikipedia.org/wiki/Wikipedia:WikiPr...  \n",
      "12  https://en.wikipedia.org/wiki/Wikipedia:WikiPr...  \n",
      "13  https://en.wikipedia.org/wiki/Wikipedia:WikiPr...  \n",
      "14  https://en.wikipedia.org/wiki/Wikipedia:WikiPr...  \n",
      "15  https://en.wikipedia.org/wiki/Wikipedia:WikiPr...  \n",
      "16  https://en.wikipedia.org/wiki/Wikipedia:WikiPr...  \n",
      "17  https://en.wikipedia.org/wiki/Wikipedia:WikiPr...  \n",
      "18  https://en.wikipedia.org/wiki/Wikipedia:WikiPr...  \n",
      "19  https://en.wikipedia.org/wiki/Wikipedia:WikiPr...  \n",
      "20  https://en.wikipedia.org/wiki/Wikipedia:WikiPr...  \n",
      "21  https://en.wikipedia.org/wiki/Wikipedia:WikiPr...  \n",
      "22  https://en.wikipedia.org/wiki/Wikipedia:WikiPr...  \n",
      "23  https://en.wikipedia.org/wiki/Wikipedia:WikiPr...  \n",
      "24  https://en.wikipedia.org/wiki/Wikipedia:WikiPr...  \n",
      "25  https://en.wikipedia.org/wiki/Wikipedia:WikiPr...  \n",
      "26  https://en.wikipedia.org/wiki/Wikipedia:WikiPr...  \n",
      "27  https://en.wikipedia.org/wiki/Wikipedia:WikiPr...  \n",
      "28  https://en.wikipedia.org/wiki/Wikipedia:WikiPr...  \n",
      "29  https://en.wikipedia.org/wiki/Wikipedia:WikiPr...  \n",
      "30  https://en.wikipedia.org/wiki/Wikipedia:WikiPr...  \n",
      "31  https://en.wikipedia.org/wiki/Wikipedia:WikiPr...  \n",
      "32  https://en.wikipedia.org/wiki/Wikipedia:WikiPr...  \n",
      "33  https://en.wikipedia.org/wiki/Wikipedia:WikiPr...  \n",
      "34  https://en.wikipedia.org/wiki/Wikipedia:WikiPr...  \n",
      "35  https://en.wikipedia.org/wiki/Wikipedia:WikiPr...  \n",
      "36  https://en.wikipedia.org/wiki/Wikipedia:WikiPr...  \n",
      "37  https://en.wikipedia.org/wiki/Wikipedia:WikiPr...  \n",
      "38  https://en.wikipedia.org/wiki/Wikipedia:WikiPr...  \n",
      "39  https://en.wikipedia.org/wiki/Wikipedia:WikiPr...  \n",
      "40  https://en.wikipedia.org/wiki/Wikipedia:WikiPr...  \n",
      "41  https://en.wikipedia.org/wiki/Wikipedia:WikiPr...  \n",
      "42  https://en.wikipedia.org/wiki/Wikipedia:WikiPr...  \n",
      "43  https://en.wikipedia.org/wiki/Wikipedia:WikiPr...  \n",
      "44  https://en.wikipedia.org/wiki/Wikipedia:WikiPr...  \n",
      "45  https://en.wikipedia.org/wiki/Wikipedia:WikiPr...  \n"
     ]
    }
   ],
   "source": [
    "print(queries)"
   ]
  },
  {
   "cell_type": "code",
   "execution_count": 6,
   "id": "6e6619e8",
   "metadata": {},
   "outputs": [],
   "source": [
    "# check type\n",
    "assert(type(queries[\"rel_docs\"][0]) == list)"
   ]
  },
  {
   "cell_type": "code",
   "execution_count": 5,
   "id": "6e99d45c",
   "metadata": {},
   "outputs": [
    {
     "name": "stderr",
     "output_type": "stream",
     "text": [
      "C:\\Users\\marta\\anaconda3\\envs\\pyserini\\lib\\site-packages\\tqdm\\auto.py:21: TqdmWarning: IProgress not found. Please update jupyter and ipywidgets. See https://ipywidgets.readthedocs.io/en/stable/user_install.html\n",
      "  from .autonotebook import tqdm as notebook_tqdm\n"
     ]
    }
   ],
   "source": [
    "from pyserini.search.lucene import LuceneSearcher\n",
    "import json\n",
    "\n",
    "def search(s, e, k=500, verbose=True, expand= False):\n",
    "    # s is our starting query\n",
    "    # e is our final query\n",
    "    # k is the number of results we want to gather for each query\n",
    "\n",
    "    ###\n",
    "    # itterate over rows s until e\n",
    "    # extract information from our queries table\n",
    "    # return the list of combined results and relevancy labels\n",
    "    ###\n",
    "    \n",
    "    results = []\n",
    "    searcher = LuceneSearcher(\"data/indexes/indexes/lucene-index\")\n",
    "    fairness = LuceneSearcher(\"data/indexes/indexes/lucene-index-fairness\")\n",
    "\n",
    "    for index, row in queries[s:e].iterrows():\n",
    "        project = row[\"title\"]\n",
    "        q   = row[\"keywords\"]\n",
    "        r   = row[\"rel_docs\"]\n",
    "\n",
    "        # if expand == True:\n",
    "        #     q = ' '.join(expand_query(row[\"keywords\"], project))\n",
    "                    \n",
    "        if verbose:\n",
    "            print(project)\n",
    "            \n",
    "        topH = searcher.search(q, k=k)\n",
    "\n",
    "        results.append( ([doc for doc in topH], r) )\n",
    "        \n",
    "    return results"
   ]
  },
  {
   "cell_type": "code",
   "execution_count": 6,
   "id": "ffed984f-35f3-4d5e-997f-02b7ee679b47",
   "metadata": {},
   "outputs": [],
   "source": [
    "import numpy as np \n",
    "import math\n",
    "\n",
    "def get_relevancy_labels(ranking, rel_judge):\n",
    "    return [1 if x.docid in rel_judge else 0 for x in ranking]\n",
    "\n",
    "def DCG(query_relevancy_labels, k):\n",
    "    l = len(query_relevancy_labels)\n",
    "    return np.sum(\n",
    "        [0 if j == 0 else i / j for i, j in zip(query_relevancy_labels[:k], [math.log(2+i,2) for i in range(min(k, l))])]\n",
    "    )\n",
    "    \n",
    "def NDCG(query_relevancy_labels, k):\n",
    "    #ideal = np.sort(query_relevancy_labels)[::-1]\n",
    "    #print(ideal)\n",
    "    ideal = [1]*k\n",
    "    return 0 if DCG(ideal, k) == 0 else DCG(query_relevancy_labels, k)/DCG(ideal, k)\n",
    "\n",
    "# assert np.isclose(NDCG(np.array([0,0,0,0,0], dtype=int), k=5), 0)\n",
    "# assert np.isclose(NDCG(np.array([0,0,0,0,1], dtype=int), k=5), 0.38685280723454163)\n",
    "# assert np.isclose(NDCG(np.array([0,1,1,1,1], dtype=int), k=4), 0.6096199500078984)\n",
    "# assert np.isclose(NDCG(np.array([0, 1], dtype=int), k=5), 0.6309297535714575)"
   ]
  },
  {
   "cell_type": "code",
   "execution_count": 7,
   "id": "07ffd1e3-4665-41f5-8b1d-d747ef2b1297",
   "metadata": {},
   "outputs": [],
   "source": [
    "import math \n",
    "\n",
    "def J(document_topics, topic, alpha=0.5):\n",
    "    d = dict(document_topics)\n",
    "    if topic in d.keys():\n",
    "        return d[topic] #should this be alpha?\n",
    "    else:\n",
    "        return 0\n",
    "\n",
    "def r_i(i, clustering_topics_so_far):\n",
    "    return sum([ J(j, i) for j in clustering_topics_so_far])\n",
    "    \n",
    "def gain(k, clustering_topics, alpha = 0.5, n_topics = 10):\n",
    "    # gain for document k, with \n",
    "    cluster_topics = list(clustering_topics)[:]\n",
    "    d_k = cluster_topics[k]\n",
    "    k_prev = cluster_topics[:k]\n",
    "    if k == 0:\n",
    "        return  sum([J(d_k, i) for i in range(n_topics)])\n",
    "    else:\n",
    "        #print( [(J(d_k, i), r_i(i, k_prev)) for i in range(n_topics)])\n",
    "        return sum(\n",
    "            [ J(d_k, i) * (1 - alpha)**(r_i(i, k_prev)) for i in range(n_topics)]\n",
    "        )\n",
    "\n",
    "def DCG_2(clustering_topics, k):\n",
    "    return sum( \n",
    "        [ \n",
    "            (gain(k, clustering_topics[:k+1])/ (math.log2(2 + k)))\n",
    "            for k in range(min( len(clustering_topics), k))\n",
    "        ]\n",
    "    )\n",
    "\n",
    "def get_max_gain_element(current_list, items):\n",
    "    max_gain = 0\n",
    "    max_index = None\n",
    "    \n",
    "    current_list = current_list[:]\n",
    "    k = len(current_list) \n",
    "    \n",
    "    for i, item in enumerate(items):\n",
    "        lst = current_list[:]\n",
    "        lst.append(item)\n",
    "        new_gain = gain(k, lst)\n",
    "        if new_gain > max_gain:\n",
    "            max_index = i\n",
    "            max_gain = new_gain\n",
    "\n",
    "    return max_index\n",
    "\n",
    "def ideal(clustering_topics, k):\n",
    "    clustering_topics = clustering_topics[:]\n",
    "    ideal = []\n",
    "    size = min(len(clustering_topics), k)\n",
    "    while len(ideal) < size:\n",
    "        max_index = get_max_gain_element(ideal, clustering_topics)\n",
    "        max_element = clustering_topics.pop(max_index)\n",
    "        #print(gain_list, max_index, max_element)\n",
    "        ideal.append(max_element)\n",
    "    return ideal\n",
    "\n",
    "\n",
    "def NDCG_2(clustering_topics, k):\n",
    "    return DCG_2(clustering_topics, k)/DCG_2(ideal(clustering_topics, k), k)\n",
    "\n",
    "def get_topic_info_reranking(clustering_topics, ranking, reranking):\n",
    "    rr =  [x.docid for x in ranking]\n",
    "    return [ clustering_topics[rr.index(y)] for y in [x.docid for x in reranking]] "
   ]
  },
  {
   "cell_type": "code",
   "execution_count": 8,
   "id": "b303c602-3e5d-49a9-a719-a3c381e36d7b",
   "metadata": {},
   "outputs": [
    {
     "name": "stdout",
     "output_type": "stream",
     "text": [
      "Agriculture\n",
      "Amphibians and Reptiles\n",
      "Astronomy\n",
      "Aviation\n",
      "Biography/WikiProject Actors and Filmmakers\n",
      "Agriculture\n",
      "Amphibians and Reptiles\n",
      "Astronomy\n",
      "Aviation\n",
      "Biography/WikiProject Actors and Filmmakers\n",
      "0.43301057140649213\n",
      "0.43301057140649213\n",
      "0.5796176244972758\n",
      "0.5796176244972758\n",
      "0.7367988169552996\n",
      "0.7367988169552996\n",
      "0.8857038233406795\n",
      "0.8857038233406795\n",
      "0.6385168742336628\n",
      "0.6385168742336628\n"
     ]
    }
   ],
   "source": [
    "results = search(0, 5) \n",
    "results2 = search(0, 5, expand=True) \n",
    "\n",
    "for (result, rel_judge), (result2, rel_judge2) in zip(results, results2):\n",
    "    query_relevancy_labels = get_relevancy_labels(result, rel_judge)\n",
    "    query_relevancy_labels2 = get_relevancy_labels(result2, rel_judge2)\n",
    "    print(NDCG(query_relevancy_labels, 500))\n",
    "    print(NDCG(query_relevancy_labels2, 500))"
   ]
  },
  {
   "cell_type": "code",
   "execution_count": 9,
   "id": "6efe721f-d7ca-473b-951e-95dc9ab87d0d",
   "metadata": {},
   "outputs": [
    {
     "name": "stdout",
     "output_type": "stream",
     "text": [
      "54\n",
      "28\n",
      "7\n"
     ]
    }
   ],
   "source": [
    "ranking1 = results[0][0]\n",
    "relevance_1 = results[0][1]\n",
    "\n",
    "print(sum(get_relevancy_labels(ranking1[:100], relevance_1)))\n",
    "print(sum(get_relevancy_labels(ranking1[:50], relevance_1)))\n",
    "print(sum(get_relevancy_labels(ranking1[:10], relevance_1)))"
   ]
  },
  {
   "cell_type": "markdown",
   "id": "43d44ecb",
   "metadata": {
    "jp-MarkdownHeadingCollapsed": true
   },
   "source": [
    "#### Conclusions from default ranking\n",
    "As we can see by the result, of the 500 documents we put in our top 100, 54 are relevant according to our relevance judgments. So it works okay-ish but definitely it is not great. By inspecting the results for 50 and 10 as well we can observe that about 50% of our results at any point will be relevant, but we do not necessarily have more relevant documents near the top. Thus, our ranking method could definitely improve."
   ]
  },
  {
   "cell_type": "markdown",
   "id": "997c9215",
   "metadata": {},
   "source": [
    "## Fairness\n",
    "In this section we setup our lookup table for the fairness attributes."
   ]
  },
  {
   "cell_type": "code",
   "execution_count": 17,
   "id": "a54c87b6-5cd1-4701-8bda-1d585921a83f",
   "metadata": {},
   "outputs": [
    {
     "name": "stderr",
     "output_type": "stream",
     "text": [
      "C:\\Users\\marta\\Thesis\\trec2022-fair-public\\MetricInputs.py:49: UserWarning: No DATA_MODE specified, assuming ‘train’\n",
      "  warnings.warn('No DATA_MODE specified, assuming ‘train’')\n"
     ]
    },
    {
     "name": "stdout",
     "output_type": "stream",
     "text": [
      "data/trec_2022_train_reldocs.jsonl\n"
     ]
    }
   ],
   "source": [
    "from MetricInputs import *"
   ]
  },
  {
   "cell_type": "code",
   "execution_count": 18,
   "id": "bff7a152-2274-4878-90e6-aa16cff4b514",
   "metadata": {},
   "outputs": [
    {
     "data": {
      "text/html": [
       "<div>\n",
       "<style scoped>\n",
       "    .dataframe tbody tr th:only-of-type {\n",
       "        vertical-align: middle;\n",
       "    }\n",
       "\n",
       "    .dataframe tbody tr th {\n",
       "        vertical-align: top;\n",
       "    }\n",
       "\n",
       "    .dataframe thead th {\n",
       "        text-align: right;\n",
       "    }\n",
       "</style>\n",
       "<table border=\"1\" class=\"dataframe\">\n",
       "  <thead>\n",
       "    <tr style=\"text-align: right;\">\n",
       "      <th>gender</th>\n",
       "      <th>@UNKNOWN</th>\n",
       "      <th>female</th>\n",
       "      <th>male</th>\n",
       "      <th>NB</th>\n",
       "    </tr>\n",
       "    <tr>\n",
       "      <th>page_id</th>\n",
       "      <th></th>\n",
       "      <th></th>\n",
       "      <th></th>\n",
       "      <th></th>\n",
       "    </tr>\n",
       "  </thead>\n",
       "  <tbody>\n",
       "    <tr>\n",
       "      <th>12</th>\n",
       "      <td>1.0</td>\n",
       "      <td>0.0</td>\n",
       "      <td>0.0</td>\n",
       "      <td>0.0</td>\n",
       "    </tr>\n",
       "    <tr>\n",
       "      <th>25</th>\n",
       "      <td>1.0</td>\n",
       "      <td>0.0</td>\n",
       "      <td>0.0</td>\n",
       "      <td>0.0</td>\n",
       "    </tr>\n",
       "    <tr>\n",
       "      <th>39</th>\n",
       "      <td>1.0</td>\n",
       "      <td>0.0</td>\n",
       "      <td>0.0</td>\n",
       "      <td>0.0</td>\n",
       "    </tr>\n",
       "    <tr>\n",
       "      <th>290</th>\n",
       "      <td>1.0</td>\n",
       "      <td>0.0</td>\n",
       "      <td>0.0</td>\n",
       "      <td>0.0</td>\n",
       "    </tr>\n",
       "    <tr>\n",
       "      <th>303</th>\n",
       "      <td>1.0</td>\n",
       "      <td>0.0</td>\n",
       "      <td>0.0</td>\n",
       "      <td>0.0</td>\n",
       "    </tr>\n",
       "    <tr>\n",
       "      <th>...</th>\n",
       "      <td>...</td>\n",
       "      <td>...</td>\n",
       "      <td>...</td>\n",
       "      <td>...</td>\n",
       "    </tr>\n",
       "    <tr>\n",
       "      <th>70194419</th>\n",
       "      <td>1.0</td>\n",
       "      <td>0.0</td>\n",
       "      <td>0.0</td>\n",
       "      <td>0.0</td>\n",
       "    </tr>\n",
       "    <tr>\n",
       "      <th>70194480</th>\n",
       "      <td>1.0</td>\n",
       "      <td>0.0</td>\n",
       "      <td>0.0</td>\n",
       "      <td>0.0</td>\n",
       "    </tr>\n",
       "    <tr>\n",
       "      <th>70194481</th>\n",
       "      <td>1.0</td>\n",
       "      <td>0.0</td>\n",
       "      <td>0.0</td>\n",
       "      <td>0.0</td>\n",
       "    </tr>\n",
       "    <tr>\n",
       "      <th>70194489</th>\n",
       "      <td>1.0</td>\n",
       "      <td>0.0</td>\n",
       "      <td>0.0</td>\n",
       "      <td>0.0</td>\n",
       "    </tr>\n",
       "    <tr>\n",
       "      <th>70194530</th>\n",
       "      <td>1.0</td>\n",
       "      <td>0.0</td>\n",
       "      <td>0.0</td>\n",
       "      <td>0.0</td>\n",
       "    </tr>\n",
       "  </tbody>\n",
       "</table>\n",
       "<p>6460210 rows × 4 columns</p>\n",
       "</div>"
      ],
      "text/plain": [
       "gender    @UNKNOWN  female  male   NB\n",
       "page_id                              \n",
       "12             1.0     0.0   0.0  0.0\n",
       "25             1.0     0.0   0.0  0.0\n",
       "39             1.0     0.0   0.0  0.0\n",
       "290            1.0     0.0   0.0  0.0\n",
       "303            1.0     0.0   0.0  0.0\n",
       "...            ...     ...   ...  ...\n",
       "70194419       1.0     0.0   0.0  0.0\n",
       "70194480       1.0     0.0   0.0  0.0\n",
       "70194481       1.0     0.0   0.0  0.0\n",
       "70194489       1.0     0.0   0.0  0.0\n",
       "70194530       1.0     0.0   0.0  0.0\n",
       "\n",
       "[6460210 rows x 4 columns]"
      ]
     },
     "execution_count": 18,
     "metadata": {},
     "output_type": "execute_result"
    }
   ],
   "source": [
    "gender_align"
   ]
  },
  {
   "cell_type": "code",
   "execution_count": 19,
   "id": "39221e3b-faaf-4096-a287-6de8dc5b0883",
   "metadata": {},
   "outputs": [
    {
     "data": {
      "text/plain": [
       "female    0.495\n",
       "male      0.495\n",
       "NB        0.010\n",
       "Name: gender, dtype: float64"
      ]
     },
     "execution_count": 19,
     "metadata": {},
     "output_type": "execute_result"
    }
   ],
   "source": [
    "gender_tgt"
   ]
  },
  {
   "cell_type": "code",
   "execution_count": 20,
   "id": "49eb108e-e4c1-444c-9224-5dd58e2af96a",
   "metadata": {},
   "outputs": [
    {
     "data": {
      "text/html": [
       "<div>\n",
       "<style scoped>\n",
       "    .dataframe tbody tr th:only-of-type {\n",
       "        vertical-align: middle;\n",
       "    }\n",
       "\n",
       "    .dataframe tbody tr th {\n",
       "        vertical-align: top;\n",
       "    }\n",
       "\n",
       "    .dataframe thead th {\n",
       "        text-align: right;\n",
       "    }\n",
       "</style>\n",
       "<table border=\"1\" class=\"dataframe\">\n",
       "  <thead>\n",
       "    <tr style=\"text-align: right;\">\n",
       "      <th>gender</th>\n",
       "      <th>@UNKNOWN</th>\n",
       "      <th>female</th>\n",
       "      <th>male</th>\n",
       "      <th>NB</th>\n",
       "    </tr>\n",
       "    <tr>\n",
       "      <th>page_id</th>\n",
       "      <th></th>\n",
       "      <th></th>\n",
       "      <th></th>\n",
       "      <th></th>\n",
       "    </tr>\n",
       "  </thead>\n",
       "  <tbody>\n",
       "    <tr>\n",
       "      <th>627</th>\n",
       "      <td>1.0</td>\n",
       "      <td>0.0</td>\n",
       "      <td>0.0</td>\n",
       "      <td>0.0</td>\n",
       "    </tr>\n",
       "    <tr>\n",
       "      <th>1064</th>\n",
       "      <td>1.0</td>\n",
       "      <td>0.0</td>\n",
       "      <td>0.0</td>\n",
       "      <td>0.0</td>\n",
       "    </tr>\n",
       "    <tr>\n",
       "      <th>1542</th>\n",
       "      <td>1.0</td>\n",
       "      <td>0.0</td>\n",
       "      <td>0.0</td>\n",
       "      <td>0.0</td>\n",
       "    </tr>\n",
       "    <tr>\n",
       "      <th>2175</th>\n",
       "      <td>1.0</td>\n",
       "      <td>0.0</td>\n",
       "      <td>0.0</td>\n",
       "      <td>0.0</td>\n",
       "    </tr>\n",
       "    <tr>\n",
       "      <th>4487</th>\n",
       "      <td>1.0</td>\n",
       "      <td>0.0</td>\n",
       "      <td>0.0</td>\n",
       "      <td>0.0</td>\n",
       "    </tr>\n",
       "    <tr>\n",
       "      <th>...</th>\n",
       "      <td>...</td>\n",
       "      <td>...</td>\n",
       "      <td>...</td>\n",
       "      <td>...</td>\n",
       "    </tr>\n",
       "    <tr>\n",
       "      <th>64678597</th>\n",
       "      <td>1.0</td>\n",
       "      <td>0.0</td>\n",
       "      <td>0.0</td>\n",
       "      <td>0.0</td>\n",
       "    </tr>\n",
       "    <tr>\n",
       "      <th>65542369</th>\n",
       "      <td>1.0</td>\n",
       "      <td>0.0</td>\n",
       "      <td>0.0</td>\n",
       "      <td>0.0</td>\n",
       "    </tr>\n",
       "    <tr>\n",
       "      <th>66316091</th>\n",
       "      <td>1.0</td>\n",
       "      <td>0.0</td>\n",
       "      <td>0.0</td>\n",
       "      <td>0.0</td>\n",
       "    </tr>\n",
       "    <tr>\n",
       "      <th>68763241</th>\n",
       "      <td>1.0</td>\n",
       "      <td>0.0</td>\n",
       "      <td>0.0</td>\n",
       "      <td>0.0</td>\n",
       "    </tr>\n",
       "    <tr>\n",
       "      <th>69116943</th>\n",
       "      <td>1.0</td>\n",
       "      <td>0.0</td>\n",
       "      <td>0.0</td>\n",
       "      <td>0.0</td>\n",
       "    </tr>\n",
       "  </tbody>\n",
       "</table>\n",
       "<p>500 rows × 4 columns</p>\n",
       "</div>"
      ],
      "text/plain": [
       "gender    @UNKNOWN  female  male   NB\n",
       "page_id                              \n",
       "627            1.0     0.0   0.0  0.0\n",
       "1064           1.0     0.0   0.0  0.0\n",
       "1542           1.0     0.0   0.0  0.0\n",
       "2175           1.0     0.0   0.0  0.0\n",
       "4487           1.0     0.0   0.0  0.0\n",
       "...            ...     ...   ...  ...\n",
       "64678597       1.0     0.0   0.0  0.0\n",
       "65542369       1.0     0.0   0.0  0.0\n",
       "66316091       1.0     0.0   0.0  0.0\n",
       "68763241       1.0     0.0   0.0  0.0\n",
       "69116943       1.0     0.0   0.0  0.0\n",
       "\n",
       "[500 rows x 4 columns]"
      ]
     },
     "execution_count": 20,
     "metadata": {},
     "output_type": "execute_result"
    }
   ],
   "source": [
    "def get_fairness(ranking):\n",
    "    ranking_docids = [doc.docid for doc in ranking]\n",
    "    resulting_fairness = gender_align.loc[ gender_align.index.isin([eval(x) for x in ranking_docids])]\n",
    "\n",
    "    return resulting_fairness\n",
    "\n",
    "def get_fairness2(ranking_docids):\n",
    "    resulting_fairness = gender_align.loc[ gender_align.index.isin([eval(x) for x in ranking_docids])]\n",
    "\n",
    "    return resulting_fairness\n",
    "\n",
    "\n",
    "ranking1_fairness = get_fairness(ranking1)\n",
    "ranking1_fairness"
   ]
  },
  {
   "cell_type": "code",
   "execution_count": null,
   "id": "d763917b-b50c-4ffc-beaf-0c007f0c7833",
   "metadata": {},
   "outputs": [],
   "source": [
    "# fairness_df = pd.DataFrame()\n",
    "\n",
    "# fairness_df[\"gender\"] = gender_align.idxmax(axis=1)\n",
    "# fairness_df[\"page_id\"] = gender_align.index"
   ]
  },
  {
   "cell_type": "code",
   "execution_count": null,
   "id": "16cda6c9-75d7-4fe1-b755-dce6253c72a7",
   "metadata": {},
   "outputs": [],
   "source": [
    "import pandas as pd\n",
    "\n",
    "#fairness_df = pd.read_json(\"fairness.json\", lines=True)\n",
    "gender_align.head()"
   ]
  },
  {
   "cell_type": "code",
   "execution_count": null,
   "id": "039e80a3-7205-4e01-9874-390d461980f0",
   "metadata": {},
   "outputs": [],
   "source": [
    "len(gender_align.index)"
   ]
  },
  {
   "cell_type": "code",
   "execution_count": null,
   "id": "16e92cf9-e1eb-4607-a8e4-44d039d4ecb3",
   "metadata": {},
   "outputs": [],
   "source": [
    "#fairness_df.gender = fairness_df.gender.apply(lambda x: x[0] if len(x) > 0 else \"@UNKNOWN\")\n",
    "#fairness_df.page_id = fairness_df.page_id.apply(lambda x: str(x))"
   ]
  },
  {
   "cell_type": "code",
   "execution_count": null,
   "id": "cc57d12d-c383-48c7-a460-be547d105ec9",
   "metadata": {},
   "outputs": [],
   "source": [
    "gender_align.sum()"
   ]
  },
  {
   "cell_type": "code",
   "execution_count": null,
   "id": "7b4ceea7-414c-4495-8e22-00bcdc36c311",
   "metadata": {},
   "outputs": [],
   "source": [
    "gender_align.mean()"
   ]
  },
  {
   "cell_type": "code",
   "execution_count": null,
   "id": "15581e40",
   "metadata": {},
   "outputs": [],
   "source": [
    "term = 'played'\n",
    "\n",
    "# Look up its document frequency (df) and collection frequency (cf).\n",
    "df, cf = index_reader.get_term_counts(term)\n",
    "\n",
    "analyzed_form = index_reader.analyze(term)\n",
    "print(f'Analyzed form of term \"{analyzed_form[0]}\": df={df}, cf={cf}')"
   ]
  },
  {
   "cell_type": "code",
   "execution_count": null,
   "id": "5c123b10",
   "metadata": {},
   "outputs": [],
   "source": [
    "def len_doc(d):\n",
    "    document = index_reader.get_document_vector(d)\n",
    "    len_d = sum(document.values())\n",
    "    return len_d  \n",
    "\n",
    "def coll_freq(t):\n",
    "    cf = index_reader.get_term_counts(t)[1]\n",
    "    return cf\n",
    "\n",
    "def term_freq(t, d):\n",
    "    document = index_reader.get_document_vector(d)\n",
    "    tf = document[t] if t in document.keys() else 0\n",
    "    return tf\n",
    "\n",
    "### BASIC TESTS TO SEE OUR INDEXER WORKS ###\n",
    "assert(len_doc(\"12\") == 4421)\n",
    "assert(coll_freq(\"wikipedia\") == 41558)\n",
    "assert(term_freq(\"communist\", \"12\") == 7)"
   ]
  },
  {
   "cell_type": "markdown",
   "id": "132df36d-0ee6-4896-87bf-f8cb0c411cf1",
   "metadata": {
    "jp-MarkdownHeadingCollapsed": true
   },
   "source": [
    "## Query expansion"
   ]
  },
  {
   "cell_type": "code",
   "execution_count": 23,
   "id": "b2ecd4b9-1bdb-46c8-82db-27b6ba9aa270",
   "metadata": {},
   "outputs": [],
   "source": [
    "import sys\n",
    "from pathlib import Path\n",
    "import pandas as pd\n",
    "import xarray as xr\n",
    "import numpy as np\n",
    "import matplotlib.pyplot as plt\n",
    "import seaborn as sns\n",
    "import gzip\n",
    "import json\n",
    "from natural.size import binarysize"
   ]
  },
  {
   "cell_type": "code",
   "execution_count": 24,
   "id": "b5afdf48-d992-4c95-a3b4-9814ed8ae50f",
   "metadata": {},
   "outputs": [],
   "source": [
    "from tqdm.auto import tqdm\n",
    "tqdm.pandas(leave=False)"
   ]
  },
  {
   "cell_type": "code",
   "execution_count": 36,
   "id": "6a35ac3e-7a2d-48bd-a97c-8d7176becd8a",
   "metadata": {},
   "outputs": [
    {
     "data": {
      "text/plain": [
       "'19.50 MiB'"
      ]
     },
     "execution_count": 36,
     "metadata": {},
     "output_type": "execute_result"
    }
   ],
   "source": [
    "page_path = Path(f'data/train_topics_meta.jsonl')\n",
    "page_file_size = page_path.stat().st_size\n",
    "binarysize(page_file_size)"
   ]
  },
  {
   "cell_type": "code",
   "execution_count": 37,
   "id": "8bbb4849-c5e8-4bc7-a0b5-1397f6041137",
   "metadata": {},
   "outputs": [],
   "source": [
    "from itertools import chain\n",
    "from nltk.corpus import wordnet\n",
    "from wordcloud import WordCloud, STOPWORDS, ImageColorGenerator\n",
    "\n",
    "def get_synonyms(word):\n",
    "    synonyms = wordnet.synsets(word)\n",
    "    return list(set(chain.from_iterable([word.lemma_names() for word in synonyms])))\n",
    "\n",
    "def string_to_list(str_lst):\n",
    "    if not isinstance(str_lst, list): \n",
    "        return str_lst.replace(\"'\", \"\").strip(\"][\").split(\", \")\n",
    "    else:\n",
    "        return lst\n",
    "    \n",
    "def get_synsets(inp):\n",
    "    synsets = []\n",
    "    words = [\n",
    "                word \n",
    "                for word in inp.split(\" \")\n",
    "                if not word in STOPWORDS\n",
    "            ]\n",
    "    #print(words)\n",
    "    for word in words:\n",
    "        synsets += wordnet.synsets(word)\n",
    "    #print(synsets)\n",
    "    return synsets"
   ]
  },
  {
   "cell_type": "code",
   "execution_count": 38,
   "id": "3a0fe49c-fff2-475c-8d1e-545a370241f2",
   "metadata": {},
   "outputs": [],
   "source": [
    "from nltk.metrics import binary_distance\n",
    "from itertools import product\n",
    "\n",
    "\n",
    "def expand_query(q, title):\n",
    "    wordlist_old = string_to_list(q)\n",
    "    wordlist = list(set(sum([get_synonyms(w) + [w] for w in wordlist_old], [])))\n",
    "    \n",
    "    similarities = []\n",
    "    s2 = get_synsets(title)\n",
    "    \n",
    "    for word in wordlist:\n",
    "        sims = []\n",
    "        s1 = get_synsets(word)\n",
    "        for sense1, sense2 in product(s1, s2):\n",
    "            sims.append(sense1.path_similarity(sense2))\n",
    "\n",
    "        if (len(sims)>0):\n",
    "            avgsims = sum(sims)/len(sims)\n",
    "            similarities.append(avgsims)\n",
    "        else:\n",
    "            similarities.append(-1)\n",
    "\n",
    "    wordsims = zip(wordlist, similarities)\n",
    "    result = wordlist if s2 == [] else [word[0] for word in wordsims if word[1]>=0.05]\n",
    "\n",
    "    return result\n"
   ]
  },
  {
   "cell_type": "markdown",
   "id": "4894705b-9411-4d76-ad2c-729e68082068",
   "metadata": {},
   "source": [
    "## Clustering"
   ]
  },
  {
   "cell_type": "markdown",
   "id": "75e514c1-c956-4f59-b21e-db3463af5030",
   "metadata": {},
   "source": [
    "Data exploration for a new searcher"
   ]
  },
  {
   "cell_type": "code",
   "execution_count": null,
   "id": "5bcd4dfb-50f0-4537-81ac-b6ac1c4e5ab4",
   "metadata": {},
   "outputs": [],
   "source": [
    "searcher = LuceneSearcher(\"indexes/lucene-index\")\n",
    "\n",
    "results = search(1, 2) \n",
    "documents = list(\n",
    "    map(\n",
    "        lambda x: json.loads(searcher.doc(x.docid).raw())['contents'], results[0][0]\n",
    "    )\n",
    ")"
   ]
  },
  {
   "cell_type": "code",
   "execution_count": null,
   "id": "8b9f0ddb-1cd7-44c9-9c00-adc1dc69c7b4",
   "metadata": {},
   "outputs": [],
   "source": [
    "for result, rel_judge in results:\n",
    "    query_relevancy_labels = get_relevancy_labels(result, rel_judge)\n",
    "    print(NDCG(query_relevancy_labels, 100))"
   ]
  },
  {
   "cell_type": "code",
   "execution_count": null,
   "id": "7cd78a14-9fed-4b08-889a-7c8fedf4697f",
   "metadata": {},
   "outputs": [],
   "source": [
    "print( documents[0]  )"
   ]
  },
  {
   "cell_type": "markdown",
   "id": "a0fad504-8e95-41fb-8fb6-550028cdc8f0",
   "metadata": {},
   "source": [
    "### LDA"
   ]
  },
  {
   "cell_type": "markdown",
   "id": "349bbcfe-865a-4976-a780-1133bc23e960",
   "metadata": {},
   "source": [
    "#### Setup and prep"
   ]
  },
  {
   "cell_type": "code",
   "execution_count": 20,
   "id": "4395bb39-2358-4c30-be12-090484d0c5b7",
   "metadata": {},
   "outputs": [],
   "source": [
    "import re\n",
    "data = pd.DataFrame(documents, columns=[\"text\"])\n",
    "def preprocess_text(text):\n",
    "    text = re.sub('\\s+', ' ', text)  # Remove extra spaces\n",
    "    text = re.sub('\\S*@\\S*\\s?', '', text)  # Remove emails\n",
    "    text = re.sub('\\'', '', text)  # Remove apostrophes\n",
    "    text = re.sub('[^a-zA-Z]', ' ', text)  # Remove non-alphabet characters\n",
    "    text = text.lower()  # Convert to lowercase\n",
    "    return text\n",
    "\n",
    "data['cleaned_text'] = data[\"text\"].apply(preprocess_text)"
   ]
  },
  {
   "cell_type": "code",
   "execution_count": 21,
   "id": "19d5d245-4f25-406f-b428-e9b5a3c6d1c1",
   "metadata": {},
   "outputs": [
    {
     "name": "stderr",
     "output_type": "stream",
     "text": [
      "[nltk_data] Downloading package stopwords to\n",
      "[nltk_data]     C:\\Users\\marta\\AppData\\Roaming\\nltk_data...\n",
      "[nltk_data]   Package stopwords is already up-to-date!\n"
     ]
    }
   ],
   "source": [
    "import gensim\n",
    "import nltk\n",
    "from nltk.corpus import stopwords\n",
    "\n",
    "# Download NLTK stopwords\n",
    "nltk.download('stopwords')\n",
    "stop_words = stopwords.words('english')\n",
    "\n",
    "# Tokenize and remove stopwords\n",
    "def tokenize(text):\n",
    "    tokens = gensim.utils.simple_preprocess(text, deacc=True)\n",
    "    tokens = [token for token in tokens if token not in stop_words]\n",
    "    return tokens\n",
    "\n",
    "data['tokens'] = data['cleaned_text'].apply(tokenize)"
   ]
  },
  {
   "cell_type": "code",
   "execution_count": 22,
   "id": "cf8e1daa-d386-4b0b-a50d-f994516f415c",
   "metadata": {},
   "outputs": [
    {
     "name": "stdout",
     "output_type": "stream",
     "text": [
      "Collecting en-core-web-sm==3.6.0\n",
      "  Downloading https://github.com/explosion/spacy-models/releases/download/en_core_web_sm-3.6.0/en_core_web_sm-3.6.0-py3-none-any.whl (12.8 MB)\n",
      "     ---------------------------------------- 0.0/12.8 MB ? eta -:--:--\n",
      "     ---------------------------------------- 0.0/12.8 MB ? eta -:--:--\n",
      "     ---------------------------------------- 0.1/12.8 MB 1.0 MB/s eta 0:00:13\n",
      "     - -------------------------------------- 0.5/12.8 MB 4.1 MB/s eta 0:00:03\n",
      "     --- ------------------------------------ 1.1/12.8 MB 6.5 MB/s eta 0:00:02\n",
      "     ----- ---------------------------------- 1.9/12.8 MB 8.5 MB/s eta 0:00:02\n",
      "     -------- ------------------------------- 2.7/12.8 MB 10.1 MB/s eta 0:00:02\n",
      "     ----------- ---------------------------- 3.7/12.8 MB 11.9 MB/s eta 0:00:01\n",
      "     -------------- ------------------------- 4.5/12.8 MB 12.4 MB/s eta 0:00:01\n",
      "     ----------------- ---------------------- 5.7/12.8 MB 14.0 MB/s eta 0:00:01\n",
      "     --------------------- ------------------ 6.9/12.8 MB 15.2 MB/s eta 0:00:01\n",
      "     -------------------------- ------------- 8.4/12.8 MB 16.9 MB/s eta 0:00:01\n",
      "     ------------------------------ --------- 9.9/12.8 MB 18.0 MB/s eta 0:00:01\n",
      "     --------------------------------- ----- 11.0/12.8 MB 22.6 MB/s eta 0:00:01\n",
      "     ------------------------------------ -- 11.9/12.8 MB 24.3 MB/s eta 0:00:01\n",
      "     ------------------------------------ -- 11.9/12.8 MB 24.3 MB/s eta 0:00:01\n",
      "     ------------------------------------ -- 11.9/12.8 MB 24.3 MB/s eta 0:00:01\n",
      "     ------------------------------------- - 12.3/12.8 MB 18.7 MB/s eta 0:00:01\n",
      "     --------------------------------------  12.8/12.8 MB 19.3 MB/s eta 0:00:01\n",
      "     --------------------------------------  12.8/12.8 MB 19.3 MB/s eta 0:00:01\n",
      "     --------------------------------------- 12.8/12.8 MB 16.8 MB/s eta 0:00:00\n",
      "Requirement already satisfied: spacy<3.7.0,>=3.6.0 in c:\\users\\marta\\anaconda3\\envs\\pyserini\\lib\\site-packages (from en-core-web-sm==3.6.0) (3.6.1)\n",
      "Requirement already satisfied: spacy-legacy<3.1.0,>=3.0.11 in c:\\users\\marta\\anaconda3\\envs\\pyserini\\lib\\site-packages (from spacy<3.7.0,>=3.6.0->en-core-web-sm==3.6.0) (3.0.12)\n",
      "Requirement already satisfied: spacy-loggers<2.0.0,>=1.0.0 in c:\\users\\marta\\anaconda3\\envs\\pyserini\\lib\\site-packages (from spacy<3.7.0,>=3.6.0->en-core-web-sm==3.6.0) (1.0.5)\n",
      "Requirement already satisfied: murmurhash<1.1.0,>=0.28.0 in c:\\users\\marta\\anaconda3\\envs\\pyserini\\lib\\site-packages (from spacy<3.7.0,>=3.6.0->en-core-web-sm==3.6.0) (1.0.10)\n",
      "Requirement already satisfied: cymem<2.1.0,>=2.0.2 in c:\\users\\marta\\anaconda3\\envs\\pyserini\\lib\\site-packages (from spacy<3.7.0,>=3.6.0->en-core-web-sm==3.6.0) (2.0.8)\n",
      "Requirement already satisfied: preshed<3.1.0,>=3.0.2 in c:\\users\\marta\\anaconda3\\envs\\pyserini\\lib\\site-packages (from spacy<3.7.0,>=3.6.0->en-core-web-sm==3.6.0) (3.0.9)\n",
      "Requirement already satisfied: thinc<8.2.0,>=8.1.8 in c:\\users\\marta\\anaconda3\\envs\\pyserini\\lib\\site-packages (from spacy<3.7.0,>=3.6.0->en-core-web-sm==3.6.0) (8.1.12)\n",
      "Requirement already satisfied: wasabi<1.2.0,>=0.9.1 in c:\\users\\marta\\anaconda3\\envs\\pyserini\\lib\\site-packages (from spacy<3.7.0,>=3.6.0->en-core-web-sm==3.6.0) (1.1.2)\n",
      "Requirement already satisfied: srsly<3.0.0,>=2.4.3 in c:\\users\\marta\\anaconda3\\envs\\pyserini\\lib\\site-packages (from spacy<3.7.0,>=3.6.0->en-core-web-sm==3.6.0) (2.4.8)\n",
      "Requirement already satisfied: catalogue<2.1.0,>=2.0.6 in c:\\users\\marta\\anaconda3\\envs\\pyserini\\lib\\site-packages (from spacy<3.7.0,>=3.6.0->en-core-web-sm==3.6.0) (2.0.9)\n",
      "Requirement already satisfied: typer<0.10.0,>=0.3.0 in c:\\users\\marta\\anaconda3\\envs\\pyserini\\lib\\site-packages (from spacy<3.7.0,>=3.6.0->en-core-web-sm==3.6.0) (0.9.0)\n",
      "Requirement already satisfied: pathy>=0.10.0 in c:\\users\\marta\\anaconda3\\envs\\pyserini\\lib\\site-packages (from spacy<3.7.0,>=3.6.0->en-core-web-sm==3.6.0) (0.10.2)\n",
      "Requirement already satisfied: smart-open<7.0.0,>=5.2.1 in c:\\users\\marta\\anaconda3\\envs\\pyserini\\lib\\site-packages (from spacy<3.7.0,>=3.6.0->en-core-web-sm==3.6.0) (6.4.0)\n",
      "Requirement already satisfied: tqdm<5.0.0,>=4.38.0 in c:\\users\\marta\\anaconda3\\envs\\pyserini\\lib\\site-packages (from spacy<3.7.0,>=3.6.0->en-core-web-sm==3.6.0) (4.66.1)\n",
      "Requirement already satisfied: numpy>=1.15.0 in c:\\users\\marta\\anaconda3\\envs\\pyserini\\lib\\site-packages (from spacy<3.7.0,>=3.6.0->en-core-web-sm==3.6.0) (1.24.3)\n",
      "Requirement already satisfied: requests<3.0.0,>=2.13.0 in c:\\users\\marta\\anaconda3\\envs\\pyserini\\lib\\site-packages (from spacy<3.7.0,>=3.6.0->en-core-web-sm==3.6.0) (2.31.0)\n",
      "Requirement already satisfied: pydantic!=1.8,!=1.8.1,<3.0.0,>=1.7.4 in c:\\users\\marta\\anaconda3\\envs\\pyserini\\lib\\site-packages (from spacy<3.7.0,>=3.6.0->en-core-web-sm==3.6.0) (2.3.0)\n",
      "Requirement already satisfied: jinja2 in c:\\users\\marta\\anaconda3\\envs\\pyserini\\lib\\site-packages (from spacy<3.7.0,>=3.6.0->en-core-web-sm==3.6.0) (3.1.2)\n",
      "Requirement already satisfied: setuptools in c:\\users\\marta\\anaconda3\\envs\\pyserini\\lib\\site-packages (from spacy<3.7.0,>=3.6.0->en-core-web-sm==3.6.0) (68.2.2)\n",
      "Requirement already satisfied: packaging>=20.0 in c:\\users\\marta\\anaconda3\\envs\\pyserini\\lib\\site-packages (from spacy<3.7.0,>=3.6.0->en-core-web-sm==3.6.0) (23.1)\n",
      "Requirement already satisfied: langcodes<4.0.0,>=3.2.0 in c:\\users\\marta\\anaconda3\\envs\\pyserini\\lib\\site-packages (from spacy<3.7.0,>=3.6.0->en-core-web-sm==3.6.0) (3.3.0)\n",
      "Requirement already satisfied: annotated-types>=0.4.0 in c:\\users\\marta\\anaconda3\\envs\\pyserini\\lib\\site-packages (from pydantic!=1.8,!=1.8.1,<3.0.0,>=1.7.4->spacy<3.7.0,>=3.6.0->en-core-web-sm==3.6.0) (0.5.0)\n",
      "Requirement already satisfied: pydantic-core==2.6.3 in c:\\users\\marta\\anaconda3\\envs\\pyserini\\lib\\site-packages (from pydantic!=1.8,!=1.8.1,<3.0.0,>=1.7.4->spacy<3.7.0,>=3.6.0->en-core-web-sm==3.6.0) (2.6.3)\n",
      "Requirement already satisfied: typing-extensions>=4.6.1 in c:\\users\\marta\\anaconda3\\envs\\pyserini\\lib\\site-packages (from pydantic!=1.8,!=1.8.1,<3.0.0,>=1.7.4->spacy<3.7.0,>=3.6.0->en-core-web-sm==3.6.0) (4.8.0)\n",
      "Requirement already satisfied: charset-normalizer<4,>=2 in c:\\users\\marta\\anaconda3\\envs\\pyserini\\lib\\site-packages (from requests<3.0.0,>=2.13.0->spacy<3.7.0,>=3.6.0->en-core-web-sm==3.6.0) (2.0.4)\n",
      "Requirement already satisfied: idna<4,>=2.5 in c:\\users\\marta\\anaconda3\\envs\\pyserini\\lib\\site-packages (from requests<3.0.0,>=2.13.0->spacy<3.7.0,>=3.6.0->en-core-web-sm==3.6.0) (3.4)\n",
      "Requirement already satisfied: urllib3<3,>=1.21.1 in c:\\users\\marta\\anaconda3\\envs\\pyserini\\lib\\site-packages (from requests<3.0.0,>=2.13.0->spacy<3.7.0,>=3.6.0->en-core-web-sm==3.6.0) (1.26.18)\n",
      "Requirement already satisfied: certifi>=2017.4.17 in c:\\users\\marta\\anaconda3\\envs\\pyserini\\lib\\site-packages (from requests<3.0.0,>=2.13.0->spacy<3.7.0,>=3.6.0->en-core-web-sm==3.6.0) (2023.11.17)\n",
      "Requirement already satisfied: blis<0.8.0,>=0.7.8 in c:\\users\\marta\\anaconda3\\envs\\pyserini\\lib\\site-packages (from thinc<8.2.0,>=8.1.8->spacy<3.7.0,>=3.6.0->en-core-web-sm==3.6.0) (0.7.11)\n",
      "Requirement already satisfied: confection<1.0.0,>=0.0.1 in c:\\users\\marta\\anaconda3\\envs\\pyserini\\lib\\site-packages (from thinc<8.2.0,>=8.1.8->spacy<3.7.0,>=3.6.0->en-core-web-sm==3.6.0) (0.1.3)\n",
      "Requirement already satisfied: colorama in c:\\users\\marta\\anaconda3\\envs\\pyserini\\lib\\site-packages (from tqdm<5.0.0,>=4.38.0->spacy<3.7.0,>=3.6.0->en-core-web-sm==3.6.0) (0.4.6)\n",
      "Requirement already satisfied: click<9.0.0,>=7.1.1 in c:\\users\\marta\\anaconda3\\envs\\pyserini\\lib\\site-packages (from typer<0.10.0,>=0.3.0->spacy<3.7.0,>=3.6.0->en-core-web-sm==3.6.0) (8.1.7)\n",
      "Requirement already satisfied: MarkupSafe>=2.0 in c:\\users\\marta\\anaconda3\\envs\\pyserini\\lib\\site-packages (from jinja2->spacy<3.7.0,>=3.6.0->en-core-web-sm==3.6.0) (2.1.3)\n",
      "\u001b[38;5;3m[!] As of spaCy v3.0, shortcuts like 'en' are deprecated. Please use\n",
      "the full pipeline package name 'en_core_web_sm' instead.\u001b[0m\n",
      "\u001b[38;5;2m[+] Download and installation successful\u001b[0m\n",
      "You can now load the package via spacy.load('en_core_web_sm')\n"
     ]
    }
   ],
   "source": [
    "!python -m spacy download en"
   ]
  },
  {
   "cell_type": "code",
   "execution_count": 23,
   "id": "018ecdab-0650-4d92-bf94-27bde338b6d5",
   "metadata": {},
   "outputs": [],
   "source": [
    "import spacy\n",
    "\n",
    "# Load spaCy model\n",
    "nlp = spacy.load('en_core_web_sm', disable=['parser', 'ner'])\n",
    "\n",
    "def lemmatize(tokens):\n",
    "    doc = nlp(\" \".join(tokens))\n",
    "    return [token.lemma_ for token in doc]\n",
    "\n",
    "data['lemmas'] = data['tokens'].apply(lemmatize)"
   ]
  },
  {
   "cell_type": "code",
   "execution_count": 24,
   "id": "120af5c5-b883-4427-a1c9-3d5246c0dc0b",
   "metadata": {},
   "outputs": [],
   "source": [
    "import gensim.corpora as corpora\n",
    "\n",
    "# Create dictionary and corpus\n",
    "id2word = corpora.Dictionary(data['lemmas'])\n",
    "texts = data['lemmas']\n",
    "corpus = [id2word.doc2bow(text) for text in texts]"
   ]
  },
  {
   "cell_type": "code",
   "execution_count": 25,
   "id": "325f8675-3e7d-4ee9-b17f-9c23a402ea85",
   "metadata": {},
   "outputs": [],
   "source": [
    "# Build LDA model\n",
    "lda_model = gensim.models.ldamodel.LdaModel(corpus=corpus,\n",
    "                                            id2word=id2word,\n",
    "                                            num_topics=10, \n",
    "                                            random_state=100,\n",
    "                                            update_every=1,\n",
    "                                            chunksize=100,\n",
    "                                            passes=10,\n",
    "                                            alpha='auto',\n",
    "                                            per_word_topics=True)"
   ]
  },
  {
   "cell_type": "code",
   "execution_count": 26,
   "id": "38924ea8-791b-4da4-a9e1-7743208a39b9",
   "metadata": {},
   "outputs": [
    {
     "name": "stdout",
     "output_type": "stream",
     "text": [
      "(0, '0.028*\"millet\" + 0.023*\"taiwan\" + 0.017*\"sorghum\" + 0.013*\"taiwanese\" + 0.013*\"soybean\" + 0.011*\"soy\" + 0.010*\"japanese\" + 0.007*\"proso\" + 0.006*\"indian\" + 0.006*\"india\"')\n",
      "(1, '0.013*\"agricultural\" + 0.011*\"production\" + 0.011*\"agriculture\" + 0.010*\"farm\" + 0.009*\"land\" + 0.009*\"crop\" + 0.008*\"large\" + 0.008*\"ton\" + 0.008*\"million\" + 0.006*\"area\"')\n",
      "(2, '0.003*\"kcal\" + 0.000*\"macroscopic\" + 0.000*\"guerrilla\" + 0.000*\"eucommia\" + 0.000*\"alga\" + 0.000*\"yohimbee\" + 0.000*\"kharif\" + 0.000*\"intercropping\" + 0.000*\"rabi\" + 0.000*\"parenthese\"')\n",
      "(3, '0.013*\"make\" + 0.011*\"dish\" + 0.011*\"cuisine\" + 0.011*\"food\" + 0.009*\"meat\" + 0.008*\"also\" + 0.008*\"serve\" + 0.008*\"use\" + 0.007*\"rice\" + 0.006*\"eat\"')\n",
      "(4, '0.120*\"virus\" + 0.049*\"bee\" + 0.023*\"honey\" + 0.015*\"hive\" + 0.012*\"mosaic\" + 0.011*\"queen\" + 0.010*\"colony\" + 0.010*\"yellow\" + 0.009*\"leaf\" + 0.009*\"worker\"')\n",
      "(5, '0.030*\"corn\" + 0.024*\"mexico\" + 0.018*\"chile\" + 0.017*\"de\" + 0.017*\"tamale\" + 0.014*\"mexican\" + 0.012*\"spanish\" + 0.011*\"avocado\" + 0.011*\"maize\" + 0.008*\"maya\"')\n",
      "(6, '0.008*\"potato\" + 0.008*\"taro\" + 0.007*\"native\" + 0.007*\"yam\" + 0.007*\"island\" + 0.007*\"asia\" + 0.006*\"common\" + 0.006*\"guinea\" + 0.006*\"america\" + 0.006*\"also\"')\n",
      "(7, '0.029*\"fruit\" + 0.013*\"tree\" + 0.010*\"olive\" + 0.009*\"apple\" + 0.009*\"chestnut\" + 0.008*\"berry\" + 0.006*\"wine\" + 0.006*\"peach\" + 0.006*\"tomato\" + 0.005*\"almond\"')\n",
      "(8, '0.016*\"pollen\" + 0.013*\"amaranth\" + 0.012*\"family\" + 0.012*\"flower\" + 0.011*\"angiosperm\" + 0.009*\"specie\" + 0.009*\"amaranthus\" + 0.008*\"honeyeater\" + 0.008*\"genus\" + 0.006*\"species\"')\n",
      "(9, '0.012*\"plant\" + 0.012*\"use\" + 0.008*\"food\" + 0.007*\"also\" + 0.006*\"crop\" + 0.005*\"may\" + 0.005*\"include\" + 0.005*\"specie\" + 0.005*\"animal\" + 0.004*\"seed\"')\n"
     ]
    }
   ],
   "source": [
    "topics = lda_model.print_topics(num_words=10)\n",
    "for topic in topics:\n",
    "    print(topic)"
   ]
  },
  {
   "cell_type": "code",
   "execution_count": 27,
   "id": "65b185de-1e3c-4fa2-aa39-8f50f0816704",
   "metadata": {},
   "outputs": [
    {
     "name": "stdout",
     "output_type": "stream",
     "text": [
      "\n",
      "Coherence Score:  0.49208607017008826\n"
     ]
    }
   ],
   "source": [
    "from gensim.models import CoherenceModel\n",
    "\n",
    "# Compute coherence score\n",
    "coherence_model_lda = CoherenceModel(model=lda_model, texts=data['lemmas'], dictionary=id2word, coherence='c_v')\n",
    "coherence_lda = coherence_model_lda.get_coherence()\n",
    "print('\\nCoherence Score: ', coherence_lda)"
   ]
  },
  {
   "cell_type": "code",
   "execution_count": 28,
   "id": "ff273cf6-538d-45f3-a3ca-5b06407126d9",
   "metadata": {},
   "outputs": [
    {
     "name": "stdout",
     "output_type": "stream",
     "text": [
      "[7, 9, 1, 3, 9, 1, 9, 9, 9, 1, 1, 9, 9, 3, 1, 9, 1, 3, 9, 1, 9, 9, 9, 9, 9, 9, 7, 1, 1, 6, 1, 1, 9, 3, 3, 1, 3, 3, 3, 1, 9, 9, 9, 7, 9, 3, 3, 9, 6, 1, 9, 3, 1, 1, 1, 9, 3, 1, 3, 3, 9, 3, 9, 3, 1, 9, 9, 3, 9, 9, 3, 3, 9, 9, 9, 3, 9, 9, 1, 1, 9, 3, 9, 9, 1, 9, 3, 1, 3, 1, 1, 1, 9, 9, 9, 9, 3, 1, 1, 3, 9, 3, 3, 9, 9, 9, 3, 3, 9, 3, 1, 3, 1, 1, 9, 9, 3, 3, 9, 3, 9, 9, 1, 9, 3, 3, 9, 9, 3, 3, 3, 1, 9, 3, 1, 9, 9, 9, 3, 3, 3, 3, 3, 9, 3, 9, 9, 1, 9, 9, 9, 9, 1, 1, 1, 9, 9, 9, 9, 1, 3, 9, 3, 9, 3, 1, 9, 3, 3, 3, 9, 9, 9, 9, 9, 7, 3, 7, 9, 9, 9, 3, 1, 9, 9, 1, 3, 1, 3, 9, 9, 3, 9, 9, 3, 1, 1, 1, 9, 1, 3, 9, 3, 1, 7, 9, 3, 1, 3, 1, 6, 9, 9, 9, 3, 3, 9, 3, 9, 3, 1, 9, 1, 1, 9, 3, 1, 1, 3, 9, 1, 1, 1, 3, 3, 3, 3, 4, 9, 9, 3, 3, 3, 9, 3, 3, 3, 1, 3, 3, 1, 9, 9, 1, 9, 9, 3, 1, 9, 9, 1, 3, 1, 9, 1, 9, 3, 3, 1, 9, 9, 3, 3, 1, 1, 1, 9, 9, 9, 9, 3, 9, 9, 3, 9, 9, 3, 1, 1, 3, 3, 9, 9, 1, 3, 9, 9, 9, 3, 9, 1, 1, 9, 3, 9, 9, 6, 9, 3, 9, 9, 3, 9, 9, 3, 3, 7, 1, 1, 9, 3, 3, 1, 3, 9, 9, 9, 1, 3, 9, 9, 9, 3, 3, 1, 9, 9, 9, 1, 6, 9, 9, 9, 1, 3, 7, 3, 3, 1, 1, 1, 1, 1, 9, 9, 9, 3, 9, 9, 9, 3, 3, 9, 9, 1, 3, 1, 9, 9, 3, 1, 6, 3, 9, 3, 3, 1, 3, 1, 9, 9, 9, 1, 3, 9, 1, 9, 9, 3, 9, 9, 3, 9, 9, 9, 1, 1, 1, 1, 3, 9, 3, 9, 9, 9, 3, 3, 1, 9, 9, 9, 9, 9, 7, 9, 9, 1, 9, 9, 9, 9, 7, 1, 9, 3, 3, 9, 1, 9, 1, 9, 3, 1, 1, 4, 3, 1, 9, 9, 3, 1, 3, 9, 9, 9, 9, 3, 9, 9, 9, 3, 9, 9, 4, 4, 3, 6, 1, 4, 3, 1, 1, 3, 9, 9, 9, 3, 1, 9, 9, 7, 1, 9, 9, 9, 1, 9, 3, 9, 9, 3, 3, 1, 3, 9, 1, 1, 9, 1, 9, 1, 4, 9, 9, 3, 3, 9, 9, 9, 3]\n"
     ]
    }
   ],
   "source": [
    "rankedClusters = list(\n",
    "    map(lambda d: \n",
    "        d[[y for (x,y) in d].index(max([y for (x,y) in d]))][0], lda_model.get_document_topics(corpus))\n",
    ")\n",
    "print(rankedClusters)"
   ]
  },
  {
   "cell_type": "markdown",
   "id": "91ccf021-ff99-4346-b3eb-34e7ecd026e8",
   "metadata": {},
   "source": [
    "#### Final model"
   ]
  },
  {
   "cell_type": "code",
   "execution_count": 29,
   "id": "7fba2e01-e718-420c-afa4-214c71b19533",
   "metadata": {},
   "outputs": [
    {
     "name": "stderr",
     "output_type": "stream",
     "text": [
      "[nltk_data] Downloading package stopwords to\n",
      "[nltk_data]     C:\\Users\\marta\\AppData\\Roaming\\nltk_data...\n",
      "[nltk_data]   Package stopwords is already up-to-date!\n"
     ]
    },
    {
     "name": "stdout",
     "output_type": "stream",
     "text": [
      "Amphibians and Reptiles\n",
      "([1, 5, 7, 7, 2, 1, 1, 7, 7, 1], [(0, 0.04097463), (1, 0.3361371), (2, 0.07652795), (3, 0.041625153), (4, 0.054759018), (5, 0.08609392), (6, 0.058024812), (7, 0.20282887), (8, 0.062329423), (9, 0.040699117)], <gensim.interfaces.TransformedCorpus object at 0x000001D6900A2460>)\n"
     ]
    }
   ],
   "source": [
    "import re\n",
    "import gensim\n",
    "import nltk\n",
    "from nltk.corpus import stopwords\n",
    "import spacy\n",
    "import gensim.corpora as corpora\n",
    "\n",
    "# Download NLTK stopwords\n",
    "nltk.download('stopwords')\n",
    "stop_words = stopwords.words('english')\n",
    "\n",
    "def get_clustering(result, ranking_index = 0, searcher = LuceneSearcher(\"indexes/lucene-index\"), n_clusters = 10):\n",
    "    def preprocess_text(text):\n",
    "        text = re.sub('\\s+', ' ', text)  # Remove extra spaces\n",
    "        text = re.sub('\\S*@\\S*\\s?', '', text)  # Remove emails\n",
    "        text = re.sub('\\'', '', text)  # Remove apostrophes\n",
    "        text = re.sub('[^a-zA-Z]', ' ', text)  # Remove non-alphabet characters\n",
    "        text = text.lower()  # Convert to lowercase\n",
    "        return text\n",
    "    def tokenize(text):\n",
    "        tokens = gensim.utils.simple_preprocess(text, deacc=True)\n",
    "        tokens = [token for token in tokens if token not in stop_words]\n",
    "        return tokens\n",
    "\n",
    "    def lemmatize(tokens):\n",
    "        doc = nlp(\" \".join(tokens))\n",
    "        return [token.lemma_ for token in doc]\n",
    "    \n",
    "    documents = list(\n",
    "        map(\n",
    "            lambda x: json.loads(searcher.doc(x.docid).raw())['contents'], result\n",
    "        )\n",
    "    )\n",
    "\n",
    "    data = pd.DataFrame(documents, columns=[\"text\"])\n",
    "    data['cleaned_text'] = data[\"text\"].apply(preprocess_text)\n",
    "\n",
    "    # Load spaCy model\n",
    "    nlp = spacy.load('en_core_web_sm', disable=['parser', 'ner'])\n",
    "\n",
    "    data['tokens'] = data['cleaned_text'].apply(tokenize)\n",
    "    data['lemmas'] = data['tokens'].apply(lemmatize)\n",
    "\n",
    "    # Create dictionary and corpus\n",
    "    id2word = corpora.Dictionary(data['lemmas'])\n",
    "    texts = data['lemmas']\n",
    "    corpus = [id2word.doc2bow(text) for text in texts]\n",
    "\n",
    "    # Build LDA model\n",
    "    lda_model = gensim.models.ldamodel.LdaModel(corpus=corpus,\n",
    "                                                id2word=id2word,\n",
    "                                                num_topics= n_clusters, \n",
    "                                                random_state=100,\n",
    "                                                update_every=1,\n",
    "                                                chunksize=100,\n",
    "                                                passes=10,\n",
    "                                                alpha='auto',\n",
    "                                                per_word_topics=True)\n",
    "\n",
    "    rankedClusters = list(\n",
    "    map(lambda d: \n",
    "        d[[y for (x,y) in d].index(max([y for (x,y) in d]))][0], lda_model.get_document_topics(corpus))\n",
    "    )\n",
    "\n",
    "    lda_model.print_topics()\n",
    "    \n",
    "    x = corpora.Dictionary(lemmatize(tokenize(preprocess_text(\n",
    "        ' '.join(queries.iloc[ranking_index][\"keywords\"])\n",
    "    ))))\n",
    "    \n",
    "    cluster_preferences = lda_model[ id2word.doc2bow(x)]\n",
    "\n",
    "    return rankedClusters, cluster_preferences, lda_model.get_document_topics(corpus, minimum_probability=0)\n",
    "\n",
    "results = search(1, 2, k=10) \n",
    "print(get_clustering(results[0][0]))"
   ]
  },
  {
   "cell_type": "code",
   "execution_count": 30,
   "id": "22b247ba-fa44-4943-9385-6109e0958dff",
   "metadata": {},
   "outputs": [],
   "source": [
    "def preprocess_text(text):\n",
    "    text = re.sub('\\s+', ' ', text)  # Remove extra spaces\n",
    "    text = re.sub('\\S*@\\S*\\s?', '', text)  # Remove emails\n",
    "    text = re.sub('\\'', '', text)  # Remove apostrophes\n",
    "    text = re.sub('[^a-zA-Z]', ' ', text)  # Remove non-alphabet characters\n",
    "    text = text.lower()  # Convert to lowercase\n",
    "    return text\n",
    "def tokenize(text):\n",
    "    tokens = gensim.utils.simple_preprocess(text, deacc=True)\n",
    "    tokens = [token for token in tokens if token not in stop_words]\n",
    "    return tokens\n",
    "\n",
    "def lemmatize(tokens):\n",
    "    doc = nlp(\" \".join(tokens))\n",
    "    return [token.lemma_ for token in doc]\n",
    "\n",
    "documents = list(\n",
    "    map(\n",
    "        lambda x: json.loads(searcher.doc(x.docid).raw())['contents'], result\n",
    "    )\n",
    ")\n",
    "\n",
    "data = pd.DataFrame(documents, columns=[\"text\"])\n",
    "data['cleaned_text'] = data[\"text\"].apply(preprocess_text)\n",
    "\n",
    "# Load spaCy model\n",
    "nlp = spacy.load('en_core_web_sm', disable=['parser', 'ner'])\n",
    "\n",
    "data['tokens'] = data['cleaned_text'].apply(tokenize)\n",
    "data['lemmas'] = data['tokens'].apply(lemmatize)\n",
    "\n",
    "# Create dictionary and corpus\n",
    "id2word = corpora.Dictionary(data['lemmas'])\n",
    "texts = data['lemmas']\n",
    "corpus = [id2word.doc2bow(text) for text in texts]\n",
    "\n",
    "# Build LDA model\n",
    "lda_model = gensim.models.ldamodel.LdaModel(corpus=corpus,\n",
    "                                            id2word=id2word,\n",
    "                                            num_topics=20, \n",
    "                                            random_state=100,\n",
    "                                            update_every=1,\n",
    "                                            chunksize=100,\n",
    "                                            passes=10,\n",
    "                                            alpha='auto',\n",
    "                                            per_word_topics=True)"
   ]
  },
  {
   "cell_type": "code",
   "execution_count": 31,
   "id": "539d9b92-9808-4ae2-ae1d-efada74db3f8",
   "metadata": {},
   "outputs": [
    {
     "name": "stdout",
     "output_type": "stream",
     "text": [
      "[(6, 0.24182001), (7, 0.43836877), (12, 0.07312418), (18, 0.24066472)]\n",
      "[(3, 0.105352454), (6, 0.09248289), (10, 0.4601462), (12, 0.04702697), (13, 0.019459132), (18, 0.2686661)]\n",
      "[(3, 0.01705686), (6, 0.23133528), (7, 0.016289668), (11, 0.20917284), (12, 0.109480694), (18, 0.41612244)]\n",
      "[(3, 0.016480843), (6, 0.16563576), (7, 0.138052), (12, 0.26947948), (18, 0.35573897), (19, 0.041772228)]\n",
      "[(3, 0.06179299), (6, 0.11473547), (7, 0.38866153), (12, 0.14369452), (18, 0.28247792)]\n",
      "[(6, 0.016976986), (7, 0.026032135), (10, 0.37261626), (12, 0.4827734), (18, 0.10123922)]\n",
      "[(6, 0.52266705), (7, 0.34931958), (12, 0.04387133), (18, 0.079965055)]\n",
      "[(3, 0.030010873), (12, 0.19513766), (15, 0.6357703), (18, 0.1288881)]\n",
      "[(6, 0.010451168), (7, 0.04043478), (12, 0.02007475), (18, 0.92877954)]\n",
      "[(3, 0.04044689), (6, 0.57032007), (18, 0.37968668)]\n",
      "[(7, 0.10605166), (12, 0.060786847), (18, 0.81632894)]\n",
      "[(6, 0.8633463), (12, 0.03446649), (18, 0.09428466)]\n",
      "[(6, 0.5381812), (7, 0.043822974), (10, 0.04329792), (12, 0.01863635), (18, 0.35209727)]\n",
      "[(3, 0.1642559), (10, 0.013655032), (15, 0.7114537), (18, 0.10585507)]\n",
      "[(6, 0.40742818), (13, 0.037691243), (18, 0.55374414)]\n",
      "[(6, 0.15074056), (7, 0.31277066), (12, 0.03712919), (18, 0.49432367)]\n",
      "[(3, 0.019080928), (4, 0.015954556), (6, 0.24680719), (7, 0.045791302), (10, 0.0234251), (12, 0.04056207), (18, 0.6082991)]\n",
      "[(6, 0.27650723), (7, 0.18129238), (18, 0.5377335)]\n",
      "[(3, 0.011484355), (6, 0.1919991), (7, 0.16985983), (12, 0.027328033), (18, 0.5914749)]\n",
      "[(6, 0.40178573), (7, 0.12863089), (10, 0.017428879), (12, 0.29568613), (18, 0.15528299)]\n",
      "[(6, 0.029576238), (12, 0.04626749), (13, 0.010330043), (15, 0.84616727), (18, 0.06718248)]\n",
      "[(6, 0.026067777), (7, 0.053102154), (12, 0.3392592), (18, 0.531892), (19, 0.04497588)]\n",
      "[(6, 0.08133563), (7, 0.045005795), (12, 0.010512446), (18, 0.86297435)]\n",
      "[(7, 0.28415126), (10, 0.017592056), (18, 0.6973159)]\n",
      "[(6, 0.43732095), (7, 0.1951946), (12, 0.11067741), (15, 0.015210462), (18, 0.24138308)]\n",
      "[(3, 0.013009135), (6, 0.311707), (7, 0.076707624), (12, 0.09255814), (18, 0.50568765)]\n",
      "[(6, 0.0781549), (10, 0.09642147), (12, 0.6553547), (18, 0.16843998)]\n",
      "[(6, 0.119801484), (7, 0.064451024), (12, 0.062373918), (15, 0.626831), (18, 0.12636724)]\n",
      "[(6, 0.08194677), (7, 0.075619206), (10, 0.013025956), (12, 0.08644102), (18, 0.74043065)]\n",
      "[(6, 0.3495505), (10, 0.12482739), (12, 0.43454394), (18, 0.09015579)]\n",
      "[(6, 0.44577643), (7, 0.18576692), (12, 0.05277202), (18, 0.30663162)]\n",
      "[(6, 0.01459216), (7, 0.010230011), (12, 0.14782983), (15, 0.5604541), (16, 0.052148048), (18, 0.2143326)]\n",
      "[(4, 0.33954802), (6, 0.20847523), (7, 0.04309145), (10, 0.11769419), (12, 0.0903697), (18, 0.20079516)]\n",
      "[(6, 0.01146689), (7, 0.09677455), (10, 0.015081453), (12, 0.013478923), (15, 0.043438595), (18, 0.8140631)]\n",
      "[(3, 0.016483512), (6, 0.20314704), (10, 0.017351761), (12, 0.115203775), (13, 0.095871456), (18, 0.55159014)]\n",
      "[(3, 0.012007642), (4, 0.05973614), (6, 0.11093566), (7, 0.25017038), (12, 0.23390707), (18, 0.33311197)]\n",
      "[(6, 0.52579415), (7, 0.01220019), (12, 0.011819416), (18, 0.43814403)]\n",
      "[(6, 0.14620301), (7, 0.2065076), (12, 0.037393235), (15, 0.06439347), (18, 0.53973484)]\n",
      "[(6, 0.4449375), (12, 0.012284089), (13, 0.14448471), (15, 0.05784665), (18, 0.33992845)]\n",
      "[(6, 0.40018088), (7, 0.36294335), (10, 0.01820415), (18, 0.21826795)]\n",
      "[(3, 0.021187473), (6, 0.07754293), (12, 0.08380124), (18, 0.76106197), (19, 0.055855155)]\n",
      "[(6, 0.105729945), (7, 0.08946917), (12, 0.038361095), (13, 0.010114844), (18, 0.7561717)]\n",
      "[(6, 0.11894746), (7, 0.07565067), (10, 0.3964991), (12, 0.32576314), (18, 0.082945935)]\n",
      "[(3, 0.048837837), (6, 0.018599696), (10, 0.029697645), (12, 0.67702776), (18, 0.22556369)]\n",
      "[(6, 0.04257148), (12, 0.0116587365), (15, 0.8305885), (18, 0.109424435)]\n",
      "[(3, 0.04902902), (4, 0.038390294), (6, 0.07786164), (12, 0.31298256), (16, 0.053030826), (18, 0.46803415)]\n",
      "[(7, 0.42901522), (12, 0.029646505), (18, 0.5379106)]\n",
      "[(3, 0.053405512), (6, 0.022411298), (7, 0.16264416), (12, 0.026901538), (15, 0.03404301), (18, 0.6941957)]\n",
      "[(6, 0.26417276), (7, 0.101728365), (10, 0.21190315), (12, 0.23707666), (18, 0.18502173)]\n",
      "[(3, 0.011931338), (6, 0.23901312), (10, 0.01836064), (11, 0.02827887), (12, 0.37138548), (13, 0.018174198), (18, 0.3125939)]\n",
      "[(3, 0.01527104), (6, 0.07200452), (10, 0.103254326), (12, 0.67451376), (15, 0.013316084), (18, 0.1213411)]\n",
      "[(6, 0.15168814), (15, 0.7905028), (18, 0.0561952)]\n",
      "[(6, 0.38075587), (10, 0.14273117), (12, 0.067298785), (18, 0.40800092)]\n",
      "[(6, 0.1275218), (7, 0.017088078), (10, 0.31220335), (12, 0.38916183), (18, 0.14854817)]\n",
      "[(7, 0.06981073), (12, 0.024765838), (15, 0.677785), (18, 0.22606102)]\n",
      "[(6, 0.37605685), (7, 0.039717387), (12, 0.13459888), (18, 0.44922948)]\n",
      "[(6, 0.32621345), (7, 0.09633258), (10, 0.09434565), (12, 0.21493612), (18, 0.26585567)]\n",
      "[(3, 0.014777577), (12, 0.09916393), (15, 0.020662999), (18, 0.8598436)]\n",
      "[(3, 0.026856959), (6, 0.5218161), (12, 0.10113071), (14, 0.03510053), (18, 0.3145666)]\n",
      "[(3, 0.010532246), (6, 0.2881552), (12, 0.038144324), (18, 0.662728)]\n",
      "[(6, 0.30253166), (7, 0.4813744), (10, 0.046838254), (18, 0.16188212)]\n",
      "[(6, 0.6453248), (7, 0.05082314), (10, 0.032372236), (12, 0.13415629), (18, 0.13717276)]\n",
      "[(6, 0.030734628), (7, 0.095039934), (12, 0.013884244), (15, 0.84698284), (18, 0.012846096)]\n",
      "[(7, 0.032377064), (15, 0.85270923), (18, 0.104020804)]\n",
      "[(6, 0.20580347), (10, 0.013083173), (12, 0.04614419), (13, 0.40392432), (18, 0.32896334)]\n",
      "[(6, 0.22070643), (7, 0.34711558), (12, 0.020264836), (13, 0.0127451895), (18, 0.399039)]\n",
      "[(3, 0.10492622), (6, 0.031832468), (10, 0.37692598), (18, 0.4771361)]\n",
      "[(6, 0.28192702), (7, 0.015590084), (12, 0.13793026), (18, 0.5571663)]\n",
      "[(6, 0.019649655), (15, 0.7476866), (18, 0.22764671)]\n",
      "[(3, 0.02206385), (12, 0.23626778), (18, 0.7394346)]\n",
      "[(6, 0.4632729), (18, 0.53613436)]\n",
      "[(6, 0.016375218), (7, 0.08050858), (16, 0.062637016), (18, 0.8384843)]\n",
      "[(7, 0.6477375), (10, 0.03134171), (18, 0.29723847)]\n",
      "[(3, 0.07634045), (6, 0.17579295), (18, 0.7409502)]\n",
      "[(4, 0.039534815), (6, 0.17081921), (10, 0.026184773), (12, 0.06208728), (18, 0.7008772)]\n",
      "[(6, 0.23544662), (7, 0.09038656), (10, 0.012802338), (12, 0.10259237), (18, 0.55440706)]\n",
      "[(6, 0.30115795), (10, 0.016599327), (18, 0.6819155)]\n",
      "[(3, 0.016643347), (6, 0.103602335), (10, 0.035649966), (12, 0.6774947), (13, 0.023896981), (18, 0.13632259)]\n",
      "[(6, 0.3553384), (7, 0.03035096), (10, 0.030543547), (11, 0.025086883), (12, 0.037992723), (13, 0.3239749), (18, 0.19459593)]\n",
      "[(4, 0.019036602), (6, 0.2640523), (7, 0.16610606), (10, 0.17855982), (12, 0.04715932), (13, 0.027962964), (18, 0.29699206)]\n",
      "[(6, 0.22081019), (7, 0.4745913), (12, 0.05577239), (18, 0.23938012)]\n",
      "[(3, 0.03562675), (7, 0.032772686), (12, 0.8684782), (18, 0.048999526)]\n",
      "[(4, 0.022207912), (6, 0.018094007), (7, 0.10551599), (10, 0.0678135), (12, 0.32133925), (15, 0.257354), (18, 0.20762964)]\n",
      "[(6, 0.24048498), (7, 0.025961298), (8, 0.04666944), (10, 0.015240363), (12, 0.16302696), (18, 0.50821465)]\n",
      "[(3, 0.04483997), (6, 0.015050056), (7, 0.022552175), (10, 0.033537023), (12, 0.5499632), (18, 0.33390483)]\n",
      "[(4, 0.072122805), (6, 0.3717892), (7, 0.17068247), (10, 0.17862794), (18, 0.20653476)]\n",
      "[(3, 0.04621342), (10, 0.032253142), (12, 0.043651488), (15, 0.019890606), (18, 0.8571654)]\n",
      "[(3, 0.062117632), (6, 0.29685926), (10, 0.02743158), (12, 0.36893776), (18, 0.24291432)]\n",
      "[(6, 0.64657915), (10, 0.050058607), (12, 0.021228306), (13, 0.21752886), (18, 0.054799285)]\n",
      "[(6, 0.55793506), (7, 0.018690258), (12, 0.032961853), (18, 0.38994285)]\n",
      "[(6, 0.15043095), (7, 0.4137906), (10, 0.017731098), (12, 0.08056557), (18, 0.3258373)]\n",
      "[(4, 0.097460344), (13, 0.09140333), (15, 0.036670335), (18, 0.7614588)]\n",
      "[(6, 0.043674637), (7, 0.098709695), (12, 0.015214926), (18, 0.83957046)]\n",
      "[(4, 0.37488982), (6, 0.067791626), (7, 0.24669448), (12, 0.0114167845), (18, 0.29687867)]\n",
      "[(3, 0.0251581), (7, 0.3104488), (12, 0.13861994), (18, 0.52161044)]\n",
      "[(3, 0.03571381), (6, 0.1468213), (12, 0.19444218), (18, 0.6226128)]\n",
      "[(6, 0.20153925), (10, 0.047575634), (18, 0.7415885)]\n",
      "[(6, 0.080794275), (7, 0.06556), (12, 0.036180407), (18, 0.81124556)]\n",
      "[(3, 0.059206717), (6, 0.090894304), (7, 0.086418256), (10, 0.118361525), (12, 0.49974808), (18, 0.14516322)]\n",
      "[(3, 0.018296435), (15, 0.7474073), (18, 0.2261797)]\n",
      "[(3, 0.024983125), (6, 0.041735567), (7, 0.021602282), (12, 0.12222221), (18, 0.78182423)]\n",
      "[(4, 0.012652012), (6, 0.0737936), (7, 0.64597714), (10, 0.058097325), (12, 0.02213367), (18, 0.18731017)]\n",
      "[(4, 0.27840096), (7, 0.32692617), (15, 0.024839299), (18, 0.3545011)]\n",
      "[(6, 0.030229159), (7, 0.14876494), (10, 0.012588893), (12, 0.40705153), (18, 0.38611522)]\n",
      "[(6, 0.587879), (18, 0.40632138)]\n",
      "[(4, 0.0124445185), (6, 0.16383874), (7, 0.04702542), (18, 0.7462964), (19, 0.02973775)]\n",
      "[(4, 0.042741112), (6, 0.113357775), (7, 0.36970076), (11, 0.059824727), (12, 0.077519976), (18, 0.32457766)]\n",
      "[(6, 0.13042463), (7, 0.28589624), (12, 0.39471087), (18, 0.17609368)]\n",
      "[(4, 0.06547175), (6, 0.010460897), (7, 0.25244102), (18, 0.6705476)]\n",
      "[(6, 0.50200176), (7, 0.15535505), (12, 0.0489011), (18, 0.2453053), (19, 0.039765753)]\n",
      "[(6, 0.44019243), (10, 0.027204938), (12, 0.27191877), (18, 0.2517004)]\n",
      "[(6, 0.036625676), (7, 0.42858064), (18, 0.5292569)]\n",
      "[(4, 0.0103844), (6, 0.24588548), (7, 0.5072368), (10, 0.011065242), (18, 0.22106382)]\n",
      "[(6, 0.13013777), (7, 0.055083394), (10, 0.01887266), (12, 0.5578885), (18, 0.23581678)]\n",
      "[(6, 0.043622177), (7, 0.04543397), (15, 0.6227662), (18, 0.28761902)]\n",
      "[(6, 0.135988), (7, 0.17681122), (10, 0.09982696), (12, 0.024462646), (18, 0.562523)]\n",
      "[(6, 0.19282368), (15, 0.18095247), (18, 0.6229813)]\n",
      "[(3, 0.12042447), (10, 0.4264358), (18, 0.44523552)]\n",
      "[(6, 0.022704072), (12, 0.024441218), (15, 0.8368286), (18, 0.11463666)]\n",
      "[(3, 0.027426844), (6, 0.38237712), (12, 0.025514882), (18, 0.5613999)]\n",
      "[(3, 0.018665742), (4, 0.017922), (6, 0.11668046), (7, 0.07410083), (10, 0.011816585), (12, 0.10984527), (18, 0.64561707)]\n",
      "[(3, 0.07121916), (10, 0.034140624), (12, 0.14534606), (18, 0.7480893)]\n",
      "[(6, 0.1260731), (7, 0.1019142), (18, 0.75778776)]\n",
      "[(6, 0.17695944), (10, 0.5968636), (12, 0.21681698)]\n",
      "[(6, 0.016877545), (10, 0.057086606), (12, 0.032914303), (18, 0.8927488)]\n",
      "[(6, 0.036470678), (7, 0.09750935), (18, 0.86552685)]\n",
      "[(6, 0.16372631), (10, 0.65715414), (12, 0.15716389), (18, 0.021747718)]\n",
      "[(6, 0.24042054), (10, 0.03729256), (12, 0.03739923), (18, 0.6842511)]\n",
      "[(3, 0.015109087), (6, 0.047597345), (7, 0.08683066), (10, 0.07984197), (12, 0.7256987), (18, 0.044767383)]\n",
      "[(4, 0.095490985), (6, 0.32990542), (7, 0.18511571), (10, 0.019088399), (12, 0.034509826), (18, 0.33426628)]\n",
      "[(6, 0.5471644), (13, 0.013850703), (18, 0.42738298)]\n",
      "[(3, 0.0283533), (4, 0.015615538), (6, 0.4534588), (7, 0.018320478), (10, 0.03966503), (12, 0.37156492), (18, 0.07280833)]\n",
      "[(4, 0.010273456), (6, 0.11163582), (10, 0.116644874), (12, 0.5369666), (18, 0.22391799)]\n",
      "[(6, 0.031835802), (7, 0.5479), (18, 0.41591)]\n",
      "[(10, 0.29621977), (12, 0.1122257), (18, 0.58300996)]\n",
      "[(4, 0.051029682), (6, 0.24156517), (10, 0.029504677), (12, 0.04139679), (18, 0.63620687)]\n",
      "[(12, 0.25249326), (15, 0.6853601), (18, 0.046389226)]\n",
      "[(6, 0.14669377), (13, 0.012556554), (15, 0.011361625), (18, 0.82361203)]\n",
      "[(6, 0.24602754), (7, 0.3390826), (18, 0.41268766)]\n",
      "[(6, 0.5185666), (18, 0.47380492)]\n",
      "[(6, 0.17110202), (12, 0.06395403), (18, 0.7644803)]\n",
      "[(6, 0.39623016), (7, 0.11948722), (12, 0.025111685), (18, 0.4488741)]\n",
      "[(6, 0.1447216), (10, 0.1433186), (12, 0.44292945), (18, 0.26866832)]\n",
      "[(6, 0.29571217), (7, 0.0153175695), (18, 0.6864453)]\n",
      "[(6, 0.61380595), (7, 0.024689682), (12, 0.13459206), (18, 0.22625823)]\n",
      "[(6, 0.6835128), (12, 0.0144377975), (18, 0.3009485)]\n",
      "[(3, 0.035142332), (6, 0.02819918), (7, 0.04352056), (10, 0.19051103), (12, 0.5128451), (18, 0.1799717)]\n",
      "[(6, 0.18084894), (7, 0.56495553), (10, 0.07561158), (12, 0.03373759), (18, 0.14338751)]\n",
      "[(6, 0.11946359), (10, 0.24548966), (12, 0.56289375), (18, 0.06579788)]\n",
      "[(6, 0.7860907), (12, 0.02296078), (18, 0.19055836)]\n",
      "[(6, 0.21294194), (12, 0.060177933), (18, 0.72367775)]\n",
      "[(4, 0.24042335), (6, 0.38215378), (7, 0.046750575), (10, 0.10074474), (12, 0.028624056), (18, 0.2012305)]\n",
      "[(6, 0.072657), (7, 0.23232877), (10, 0.30456355), (12, 0.03608047), (18, 0.35285535)]\n",
      "[(6, 0.053797245), (7, 0.05289344), (10, 0.024425905), (12, 0.046552785), (18, 0.82143754)]\n",
      "[(6, 0.042258114), (7, 0.56565464), (12, 0.12239852), (18, 0.25620833)]\n",
      "[(6, 0.5891956), (7, 0.059442766), (18, 0.3462742)]\n",
      "[(3, 0.17346449), (10, 0.52015036), (18, 0.30339766)]\n",
      "[(6, 0.4884394), (12, 0.035707194), (18, 0.4695077)]\n",
      "[(4, 0.12636685), (7, 0.6296887), (15, 0.019242676), (18, 0.21265946)]\n",
      "[(4, 0.03582472), (6, 0.062479794), (10, 0.06696137), (12, 0.11166531), (18, 0.71913546)]\n",
      "[(6, 0.17736237), (7, 0.019064251), (10, 0.21716167), (12, 0.4314619), (15, 0.037178256), (18, 0.117295675)]\n",
      "[(6, 0.43171278), (12, 0.031617563), (18, 0.52713454)]\n",
      "[(3, 0.052183155), (6, 0.09682705), (7, 0.024993114), (10, 0.011044697), (12, 0.6413522), (14, 0.040499914), (18, 0.13301347)]\n",
      "[(3, 0.012230011), (6, 0.3034177), (12, 0.09839784), (18, 0.58046556)]\n",
      "[(3, 0.029889354), (6, 0.14064705), (7, 0.05080507), (10, 0.027461927), (12, 0.010734027), (13, 0.41203868), (18, 0.32595962)]\n",
      "[(4, 0.029100876), (6, 0.16121617), (7, 0.34991568), (10, 0.20061994), (18, 0.2547732)]\n",
      "[(6, 0.053381626), (7, 0.058367345), (12, 0.052175466), (15, 0.7646325), (18, 0.07136019)]\n",
      "[(6, 0.1357185), (7, 0.1489841), (18, 0.71432835)]\n",
      "[(3, 0.02261272), (4, 0.021091536), (6, 0.05531135), (7, 0.011706267), (10, 0.17446896), (12, 0.5344864), (18, 0.17999165)]\n",
      "[(4, 0.031420514), (6, 0.14385557), (7, 0.5205189), (10, 0.04009662), (18, 0.26396826)]\n",
      "[(3, 0.011263749), (6, 0.10249221), (7, 0.37412485), (12, 0.15786926), (18, 0.3541629)]\n",
      "[(6, 0.031499736), (7, 0.29866335), (15, 0.44519654), (18, 0.2098306)]\n",
      "[(3, 0.0106918), (7, 0.16124086), (12, 0.057671316), (15, 0.52262425), (18, 0.2461568)]\n",
      "[(6, 0.06058265), (7, 0.13986361), (18, 0.7993721)]\n",
      "[(3, 0.0687519), (6, 0.37434468), (10, 0.029824251), (12, 0.34844017), (18, 0.17777437)]\n",
      "[(3, 0.0371335), (6, 0.1285608), (10, 0.11738433), (12, 0.6472359), (13, 0.0140918065), (15, 0.020117251), (18, 0.035134997)]\n",
      "[(4, 0.023995975), (6, 0.18185955), (7, 0.33875412), (12, 0.2547481), (18, 0.20052917)]\n",
      "[(4, 0.23064303), (6, 0.11819348), (7, 0.33547765), (10, 0.06479227), (12, 0.08793747), (18, 0.16289103)]\n",
      "[(3, 0.03540911), (4, 0.0134229455), (6, 0.35468283), (10, 0.22833237), (12, 0.23959132), (18, 0.12346096)]\n",
      "[(6, 0.13366657), (7, 0.013242777), (18, 0.8523363)]\n",
      "[(3, 0.040040277), (6, 0.025712013), (12, 0.024097094), (15, 0.65811527), (18, 0.25040895)]\n",
      "[(12, 0.015321789), (15, 0.014596716), (18, 0.96294004)]\n",
      "[(4, 0.21882018), (6, 0.10195239), (7, 0.34590796), (10, 0.017570494), (12, 0.08047315), (18, 0.23521931)]\n",
      "[(6, 0.44577578), (7, 0.23898992), (10, 0.020048128), (12, 0.220422), (18, 0.07466645)]\n",
      "[(6, 0.6718348), (18, 0.3196168)]\n",
      "[(3, 0.052714624), (6, 0.024719473), (10, 0.08571837), (12, 0.7696983), (18, 0.066743866)]\n",
      "[(6, 0.326387), (8, 0.053692665), (12, 0.081944846), (18, 0.5336511)]\n",
      "[(6, 0.3747827), (7, 0.012310741), (12, 0.081694916), (18, 0.47238818), (19, 0.05362859)]\n",
      "[(6, 0.03025704), (7, 0.18426059), (12, 0.030935403), (14, 0.014335331), (15, 0.5085975), (18, 0.23092552)]\n",
      "[(6, 0.15637203), (7, 0.059824318), (18, 0.775238)]\n",
      "[(6, 0.21450403), (7, 0.3561564), (12, 0.011731176), (18, 0.4121973)]\n",
      "[(7, 0.2707741), (12, 0.08375519), (15, 0.43586573), (18, 0.20120752)]\n",
      "[(4, 0.2511261), (6, 0.118123315), (7, 0.16234154), (12, 0.16063067), (18, 0.30188963)]\n",
      "[(6, 0.026056793), (7, 0.47074762), (12, 0.05787215), (18, 0.44273576)]\n",
      "[(4, 0.024792768), (6, 0.05669838), (7, 0.37850064), (10, 0.034825884), (12, 0.15429612), (18, 0.3507279)]\n",
      "[(6, 0.07814163), (7, 0.059377424), (12, 0.32028076), (18, 0.5354078)]\n",
      "[(6, 0.16604859), (7, 0.48458192), (12, 0.03270247), (18, 0.3064871)]\n",
      "[(3, 0.02637422), (6, 0.010422301), (7, 0.017226554), (10, 0.23661144), (12, 0.06944765), (18, 0.63953793)]\n",
      "[(4, 0.10298111), (6, 0.108524814), (7, 0.13367257), (10, 0.31454283), (12, 0.13048117), (18, 0.20707859)]\n",
      "[(3, 0.044622075), (4, 0.024127306), (7, 0.23490801), (10, 0.40896505), (18, 0.27855393)]\n",
      "[(6, 0.068074234), (7, 0.16709138), (12, 0.032845598), (15, 0.61894196), (18, 0.11276236)]\n",
      "[(3, 0.012973392), (6, 0.1023114), (11, 0.050548255), (15, 0.037325207), (18, 0.7924734)]\n",
      "[(7, 0.4881042), (18, 0.50363886)]\n",
      "[(3, 0.046919666), (6, 0.10503518), (10, 0.14698407), (12, 0.4350721), (18, 0.2649945)]\n",
      "[(12, 0.39476758), (18, 0.5974814)]\n",
      "[(3, 0.036042027), (6, 0.018607534), (7, 0.017058127), (10, 0.034821488), (12, 0.7639349), (18, 0.12937963)]\n",
      "[(6, 0.5077899), (7, 0.026014201), (15, 0.03957928), (18, 0.42555958)]\n",
      "[(7, 0.037881058), (12, 0.038405433), (18, 0.91742873)]\n",
      "[(4, 0.016659083), (6, 0.5350932), (7, 0.3501136), (10, 0.012570864), (12, 0.03423533), (18, 0.051233646)]\n",
      "[(6, 0.14642404), (10, 0.06265954), (12, 0.05129073), (18, 0.7342216)]\n",
      "[(6, 0.21444987), (10, 0.030522065), (12, 0.01988371), (13, 0.4398168), (18, 0.28209317)]\n",
      "[(6, 0.81200707), (12, 0.022014126), (18, 0.16529909)]\n",
      "[(6, 0.379007), (12, 0.04228753), (18, 0.5592366)]\n",
      "[(6, 0.06737817), (7, 0.033349846), (15, 0.77140343), (18, 0.12720543)]\n",
      "[(6, 0.097673535), (7, 0.11062001), (12, 0.01456234), (18, 0.7769662)]\n",
      "[(6, 0.1311078), (7, 0.065621), (15, 0.023642197), (18, 0.77757055)]\n",
      "[(3, 0.04275693), (12, 0.73834854), (18, 0.2091225)]\n",
      "[(6, 0.08287893), (7, 0.03854218), (15, 0.48156008), (18, 0.39688557)]\n",
      "[(6, 0.38685888), (10, 0.15008307), (12, 0.09199164), (18, 0.3706555)]\n",
      "[(7, 0.13911521), (10, 0.1349444), (12, 0.33622807), (18, 0.3813018)]\n",
      "[(6, 0.19500543), (7, 0.021812148), (10, 0.19011132), (12, 0.12787962), (18, 0.46482533)]\n",
      "[(4, 0.014739516), (6, 0.0840906), (7, 0.27490395), (10, 0.26650748), (12, 0.15235545), (18, 0.20730197)]\n",
      "[(6, 0.5114183), (7, 0.0345123), (10, 0.019900363), (12, 0.21512733), (18, 0.21885355)]\n",
      "[(6, 0.046731286), (7, 0.6444828), (12, 0.034027368), (18, 0.26296422)]\n",
      "[(3, 0.052814025), (6, 0.07234504), (12, 0.16972987), (18, 0.7042508)]\n",
      "[(6, 0.6953701), (10, 0.017959213), (18, 0.27886498)]\n",
      "[(6, 0.4627973), (7, 0.015285079), (12, 0.08034664), (18, 0.44121912)]\n",
      "[(6, 0.019904964), (7, 0.19663852), (12, 0.029961849), (18, 0.7519114)]\n",
      "[(6, 0.35530454), (12, 0.019131735), (13, 0.39399892), (18, 0.22827335)]\n",
      "[(6, 0.09209771), (7, 0.3779728), (10, 0.20449018), (12, 0.089226194), (18, 0.22623312)]\n",
      "[(6, 0.094598226), (7, 0.09209612), (10, 0.14232509), (12, 0.53441036), (18, 0.13628785)]\n",
      "[(6, 0.7610443), (7, 0.021297438), (12, 0.03210645), (18, 0.18178064)]\n",
      "[(6, 0.023615072), (7, 0.13437563), (18, 0.82774556)]\n",
      "[(3, 0.6600326), (6, 0.030260336), (10, 0.017147887), (12, 0.041028187), (18, 0.2511364)]\n",
      "[(6, 0.018082535), (10, 0.023204992), (12, 0.04106908), (18, 0.9166833)]\n",
      "[(12, 0.012410301), (15, 0.6042347), (18, 0.3730518)]\n",
      "[(6, 0.10478589), (7, 0.07811301), (18, 0.81504834)]\n",
      "[(3, 0.024527593), (6, 0.014829635), (7, 0.12036386), (12, 0.11521611), (15, 0.01212092), (18, 0.71057314)]\n",
      "[(3, 0.012424213), (6, 0.18028478), (7, 0.01812341), (10, 0.025844106), (18, 0.76069844)]\n",
      "[(3, 0.17725079), (10, 0.4231261), (18, 0.39907452)]\n",
      "[(6, 0.2053801), (7, 0.5251184), (10, 0.061856337), (12, 0.022775954), (18, 0.1796924)]\n",
      "[(6, 0.5311927), (18, 0.46764877)]\n",
      "[(6, 0.24079308), (10, 0.13878736), (12, 0.09472452), (18, 0.50671357)]\n",
      "[(6, 0.18463008), (10, 0.052416533), (15, 0.020448115), (18, 0.7357659)]\n",
      "[(6, 0.5418032), (12, 0.017153174), (18, 0.43462354)]\n",
      "[(4, 0.010670138), (6, 0.014927224), (7, 0.07495749), (10, 0.048831616), (15, 0.8241579), (18, 0.019305566)]\n",
      "[(7, 0.10681675), (12, 0.04010954), (18, 0.8507637)]\n",
      "[(6, 0.3835487), (7, 0.45380962), (12, 0.0591967), (18, 0.103035904)]\n",
      "[(6, 0.38817552), (10, 0.045982048), (18, 0.5543976)]\n",
      "[(4, 0.014655492), (6, 0.11263245), (7, 0.16133109), (10, 0.03145412), (12, 0.56989133), (18, 0.10997442)]\n",
      "[(6, 0.6222133), (10, 0.026028346), (12, 0.1305101), (18, 0.2207716)]\n",
      "[(3, 0.028072825), (10, 0.20446333), (12, 0.73271716), (18, 0.033663485)]\n",
      "[(6, 0.4917234), (7, 0.10701637), (12, 0.15754837), (18, 0.24345325)]\n",
      "[(6, 0.041530676), (7, 0.18009354), (12, 0.06313328), (15, 0.62541133), (18, 0.08962326)]\n",
      "[(6, 0.42677602), (12, 0.011459455), (18, 0.5590359)]\n",
      "[(3, 0.012845706), (6, 0.33206034), (7, 0.3014727), (10, 0.039339602), (12, 0.118512414), (18, 0.19090527)]\n",
      "[(6, 0.22911792), (10, 0.020384952), (15, 0.5596026), (18, 0.18876252)]\n",
      "[(3, 0.03578009), (6, 0.18462135), (12, 0.3295153), (16, 0.048743475), (18, 0.39912337)]\n",
      "[(3, 0.045104604), (6, 0.018811436), (12, 0.16088077), (18, 0.7696231)]\n",
      "[(3, 0.03815795), (6, 0.043901734), (7, 0.10098001), (12, 0.022254921), (15, 0.091821894), (18, 0.7025142)]\n",
      "[(6, 0.011861511), (7, 0.21429333), (12, 0.037008815), (15, 0.011786792), (18, 0.72489446)]\n",
      "[(4, 0.5232865), (6, 0.20011637), (7, 0.035603575), (10, 0.013219512), (12, 0.017385876), (18, 0.21036899)]\n",
      "[(3, 0.04335766), (6, 0.026006997), (12, 0.29584622), (18, 0.6340325)]\n",
      "[(3, 0.011677594), (6, 0.17761698), (12, 0.018435702), (13, 0.46721026), (18, 0.306111)]\n",
      "[(4, 0.041682266), (6, 0.024014087), (7, 0.084413), (15, 0.6510788), (18, 0.19822577)]\n",
      "[(6, 0.075844936), (7, 0.08255011), (12, 0.039120544), (18, 0.8020919)]\n",
      "[(3, 0.03771333), (6, 0.068434335), (12, 0.5794489), (13, 0.10837753), (18, 0.20496911)]\n",
      "[(6, 0.04455114), (7, 0.20306517), (12, 0.018688237), (15, 0.59333485), (18, 0.14011179)]\n",
      "[(6, 0.0645536), (10, 0.04420132), (12, 0.34199175), (18, 0.5490182)]\n",
      "[(6, 0.055505365), (7, 0.03259214), (15, 0.013973593), (18, 0.89220047)]\n",
      "[(6, 0.19594225), (7, 0.0889911), (18, 0.7119433)]\n",
      "[(7, 0.25949305), (12, 0.011461813), (18, 0.72091764)]\n",
      "[(3, 0.033815313), (6, 0.34473625), (12, 0.06842075), (18, 0.54854935)]\n",
      "[(4, 0.053568292), (6, 0.15519635), (7, 0.5179699), (10, 0.10724716), (18, 0.15643665)]\n",
      "[(3, 0.028753063), (6, 0.2561321), (12, 0.075636245), (18, 0.63583136)]\n",
      "[(6, 0.046448577), (7, 0.01297032), (12, 0.0722093), (18, 0.86641294)]\n",
      "[(6, 0.029071039), (7, 0.09114584), (15, 0.06009349), (18, 0.81355834)]\n",
      "[(15, 0.95863056), (18, 0.03861367)]\n",
      "[(7, 0.10745243), (15, 0.02985087), (18, 0.86021906)]\n",
      "[(6, 0.15761119), (10, 0.07184619), (12, 0.063476294), (18, 0.70317215)]\n",
      "[(3, 0.026416825), (6, 0.04667374), (10, 0.05146307), (12, 0.02400826), (18, 0.8510193)]\n",
      "[(6, 0.7749849), (7, 0.018117234), (10, 0.032944433), (12, 0.045721892), (18, 0.12141007)]\n",
      "[(3, 0.010216233), (6, 0.022084529), (7, 0.028658886), (18, 0.9309379)]\n",
      "[(3, 0.25598547), (10, 0.22825035), (12, 0.012524028), (14, 0.06554103), (18, 0.43337846)]\n",
      "[(6, 0.043760408), (12, 0.01984822), (15, 0.7917704), (18, 0.14424026)]\n",
      "[(3, 0.15354714), (10, 0.5778009), (18, 0.26273462)]\n",
      "[(6, 0.17096564), (7, 0.1917551), (12, 0.11618866), (18, 0.51932687)]\n",
      "[(7, 0.6252029), (12, 0.023279501), (18, 0.34357244)]\n",
      "[(3, 0.04522521), (6, 0.16813378), (10, 0.04833909), (12, 0.65828156), (18, 0.07879662)]\n",
      "[(6, 0.5421855), (7, 0.047455907), (10, 0.038036413), (12, 0.11178207), (18, 0.2603949)]\n",
      "[(4, 0.052625995), (6, 0.38741854), (7, 0.18145849), (10, 0.11107917), (12, 0.116085745), (18, 0.1510588)]\n",
      "[(6, 0.13581568), (12, 0.27067846), (18, 0.5853194)]\n",
      "[(4, 0.1715543), (6, 0.10449009), (7, 0.10260786), (12, 0.03805891), (18, 0.5723944)]\n",
      "[(6, 0.62057936), (7, 0.122896574), (10, 0.03515423), (12, 0.04655718), (18, 0.17469949)]\n",
      "[(6, 0.121981636), (7, 0.042451777), (12, 0.047187917), (18, 0.7833503)]\n",
      "[(6, 0.23836194), (7, 0.34654638), (10, 0.102610804), (12, 0.060978625), (18, 0.24364854)]\n",
      "[(3, 0.044592764), (6, 0.121387176), (12, 0.026467457), (15, 0.78618795), (18, 0.020139607)]\n",
      "[(6, 0.4039216), (7, 0.047870047), (13, 0.074963115), (18, 0.47190404)]\n",
      "[(18, 0.98249966)]\n",
      "[(7, 0.25412866), (11, 0.0648647), (15, 0.016633855), (18, 0.6535552)]\n",
      "[(4, 0.04063373), (6, 0.24132265), (7, 0.04307313), (10, 0.19224872), (12, 0.0528348), (18, 0.4296847)]\n",
      "[(3, 0.09822166), (6, 0.36689073), (12, 0.17795609), (18, 0.3556986)]\n",
      "[(4, 0.035733636), (6, 0.04157132), (15, 0.014444647), (18, 0.8952647)]\n",
      "[(6, 0.025034823), (7, 0.12498607), (18, 0.84822774)]\n",
      "[(3, 0.11011842), (12, 0.11791445), (18, 0.7702352)]\n",
      "[(6, 0.6786923), (7, 0.066583626), (12, 0.03940302), (15, 0.01642599), (18, 0.19872537)]\n",
      "[(6, 0.75832045), (7, 0.021888431), (15, 0.011389912), (18, 0.20785831)]\n",
      "[(4, 0.08777945), (6, 0.010178422), (7, 0.36279628), (10, 0.029413955), (12, 0.010393665), (18, 0.49357173)]\n",
      "[(6, 0.5135614), (7, 0.21703248), (12, 0.020630913), (18, 0.24869522)]\n",
      "[(6, 0.038082838), (7, 0.019151026), (12, 0.031559948), (18, 0.91100323)]\n",
      "[(6, 0.3493522), (7, 0.012288206), (10, 0.027932601), (13, 0.35420254), (18, 0.24213567)]\n",
      "[(6, 0.07013889), (7, 0.46718556), (12, 0.26287764), (18, 0.19932662)]\n",
      "[(7, 0.04368505), (10, 0.011104572), (15, 0.8555266), (18, 0.08347518)]\n",
      "[(6, 0.23268348), (18, 0.751016)]\n",
      "[(12, 0.08295387), (18, 0.9022294)]\n",
      "[(3, 0.01485791), (6, 0.34216264), (12, 0.14596015), (18, 0.49476466)]\n",
      "[(6, 0.7395339), (18, 0.25459766)]\n",
      "[(3, 0.014840325), (6, 0.4307412), (12, 0.34798598), (18, 0.20575356)]\n",
      "[(3, 0.17107551), (6, 0.010731287), (10, 0.5066598), (18, 0.29587114)]\n",
      "[(4, 0.017584305), (6, 0.13079028), (7, 0.2594377), (11, 0.113431066), (12, 0.031024883), (18, 0.4476244)]\n",
      "[(6, 0.69312197), (7, 0.058901336), (18, 0.23739009)]\n",
      "[(6, 0.12694712), (7, 0.31744385), (12, 0.028408604), (18, 0.5255402)]\n",
      "[(7, 0.079352185), (18, 0.9168027)]\n",
      "[(6, 0.04478821), (7, 0.10307673), (12, 0.08405742), (15, 0.65561014), (18, 0.11216802)]\n",
      "[(4, 0.045051295), (7, 0.057756547), (10, 0.1387147), (12, 0.53910506), (18, 0.20504487)]\n",
      "[(6, 0.68210495), (7, 0.06437977), (10, 0.012268467), (12, 0.019700121), (18, 0.22144139)]\n",
      "[(4, 0.027151154), (6, 0.6085852), (7, 0.13661414), (12, 0.02444792), (18, 0.19524033)]\n",
      "[(6, 0.058951426), (7, 0.160211), (12, 0.07877461), (18, 0.7013603)]\n",
      "[(4, 0.122989856), (7, 0.4482172), (18, 0.4211581)]\n",
      "[(6, 0.49856582), (7, 0.10028169), (10, 0.043918572), (12, 0.23502077), (18, 0.11941954)]\n",
      "[(3, 0.56726295), (6, 0.067009546), (10, 0.14998882), (18, 0.20227101)]\n",
      "[(6, 0.019689819), (7, 0.02809102), (15, 0.78891516), (18, 0.15852882)]\n",
      "[(6, 0.47103438), (7, 0.16363776), (10, 0.041134417), (12, 0.05072815), (18, 0.26907632)]\n",
      "[(7, 0.21210007), (10, 0.010673798), (12, 0.40106684), (18, 0.3687577)]\n",
      "[(6, 0.044062886), (7, 0.24771747), (12, 0.08504003), (15, 0.28179032), (18, 0.33871445)]\n",
      "[(6, 0.10933389), (7, 0.026308797), (10, 0.061105896), (12, 0.5885026), (13, 0.0108186025), (18, 0.2007461)]\n",
      "[(4, 0.029748846), (6, 0.11105843), (7, 0.10655437), (10, 0.30227312), (12, 0.4090695), (18, 0.040960345)]\n",
      "[(6, 0.26783127), (7, 0.031309925), (10, 0.017507859), (12, 0.2882556), (18, 0.3895639)]\n",
      "[(6, 0.061402958), (10, 0.1533071), (12, 0.77209723), (18, 0.012773256)]\n",
      "[(6, 0.032501627), (15, 0.87083894), (18, 0.09610082)]\n",
      "[(6, 0.28690404), (7, 0.020930478), (18, 0.69086957)]\n",
      "[(6, 0.040041815), (7, 0.075176954), (10, 0.07631493), (12, 0.76830477), (18, 0.04007097)]\n",
      "[(6, 0.0636317), (7, 0.030598829), (12, 0.09157392), (18, 0.81398004)]\n",
      "[(3, 0.015573136), (6, 0.1391996), (10, 0.019075138), (12, 0.57956386), (18, 0.2460231)]\n",
      "[(7, 0.17331657), (15, 0.5689868), (18, 0.25234818)]\n",
      "[(3, 0.01026582), (6, 0.13633156), (12, 0.106500946), (18, 0.74671215)]\n",
      "[(6, 0.5939403), (7, 0.10141755), (10, 0.032328293), (12, 0.14640969), (18, 0.120798215)]\n",
      "[(6, 0.2229035), (7, 0.2007548), (12, 0.020571638), (18, 0.5555378)]\n",
      "[(3, 0.028745143), (6, 0.06165276), (7, 0.15456238), (12, 0.04056546), (18, 0.71406686)]\n",
      "[(4, 0.011192268), (6, 0.6197353), (7, 0.013562024), (12, 0.0572454), (18, 0.29496083)]\n",
      "[(3, 0.023305183), (10, 0.6513208), (18, 0.30760396)]\n",
      "[(3, 0.016413042), (6, 0.5880271), (10, 0.023209397), (12, 0.20478323), (18, 0.16699217)]\n",
      "[(12, 0.01478801), (18, 0.98222864)]\n",
      "[(3, 0.026502648), (4, 0.08342176), (6, 0.38010505), (7, 0.07286355), (10, 0.0155919455), (12, 0.010764445), (18, 0.41057667)]\n",
      "[(6, 0.6612385), (7, 0.014629328), (12, 0.013677397), (18, 0.3102849)]\n",
      "[(6, 0.5109209), (12, 0.05142399), (18, 0.43398896)]\n",
      "[(13, 0.07657974), (15, 0.010570727), (18, 0.91185623)]\n",
      "[(7, 0.059984937), (10, 0.020128544), (12, 0.05750918), (18, 0.85191566)]\n",
      "[(3, 0.023004916), (4, 0.06227692), (6, 0.13896252), (7, 0.107900545), (12, 0.11129363), (18, 0.5466837)]\n",
      "[(6, 0.12418733), (12, 0.26571903), (18, 0.6037697)]\n",
      "[(4, 0.04181756), (6, 0.03454279), (7, 0.3650128), (13, 0.01017863), (15, 0.036270287), (18, 0.49621376)]\n",
      "[(6, 0.19893372), (10, 0.03126217), (13, 0.034027323), (18, 0.7222415)]\n",
      "[(3, 0.10543328), (6, 0.09912026), (12, 0.4031905), (18, 0.3914045)]\n",
      "[(6, 0.73326194), (7, 0.012411465), (15, 0.01936376), (18, 0.23435268)]\n",
      "[(6, 0.5791503), (13, 0.03526361), (18, 0.37748343)]\n",
      "[(6, 0.2424195), (18, 0.7545758)]\n",
      "[(7, 0.0784098), (12, 0.04442583), (15, 0.6548782), (18, 0.2193418)]\n",
      "[(4, 0.01812707), (6, 0.24880174), (10, 0.047897566), (12, 0.4595107), (18, 0.2164803)]\n",
      "[(6, 0.24052826), (18, 0.7552927)]\n",
      "[(6, 0.24146019), (7, 0.04240097), (18, 0.71514356)]\n",
      "[(6, 0.10750868), (10, 0.012776573), (12, 0.017283289), (13, 0.06234856), (18, 0.79972273)]\n",
      "[(6, 0.38689077), (7, 0.14613204), (12, 0.21762013), (18, 0.23764929)]\n",
      "[(6, 0.7498757), (7, 0.017611967), (12, 0.012339372), (18, 0.22003955)]\n",
      "[(4, 0.02820017), (6, 0.7143548), (7, 0.06717073), (10, 0.028434578), (12, 0.03612156), (18, 0.12444547)]\n",
      "[(6, 0.015541348), (15, 0.7792398), (18, 0.19894253)]\n",
      "[(7, 0.18430997), (12, 0.10711894), (15, 0.30586886), (18, 0.39945284)]\n",
      "[(6, 0.281194), (10, 0.03372002), (12, 0.04124756), (18, 0.59839994), (19, 0.042780034)]\n",
      "[(6, 0.19932668), (7, 0.018635008), (18, 0.78123707)]\n",
      "[(7, 0.06787219), (15, 0.8378043), (18, 0.08589283)]\n",
      "[(4, 0.042585585), (6, 0.48743352), (7, 0.19287477), (12, 0.079442255), (18, 0.19705556)]\n",
      "[(3, 0.10482404), (6, 0.27426666), (7, 0.13241643), (10, 0.11210943), (12, 0.046807904), (18, 0.32930368)]\n",
      "[(3, 0.04434025), (10, 0.03749604), (12, 0.76331574), (18, 0.14838263)]\n",
      "[(6, 0.3380609), (12, 0.011053837), (18, 0.64424825)]\n",
      "[(4, 0.011445748), (6, 0.051868044), (7, 0.2140058), (10, 0.03516389), (12, 0.44543642), (18, 0.24200794)]\n",
      "[(6, 0.013264607), (15, 0.21566664), (18, 0.770588)]\n",
      "[(6, 0.03077565), (7, 0.3588769), (12, 0.07738961), (18, 0.5238117)]\n",
      "[(6, 0.27899995), (12, 0.031054527), (18, 0.6895001)]\n",
      "[(3, 0.02560504), (6, 0.5579062), (7, 0.10964385), (12, 0.050458062), (18, 0.25600505)]\n",
      "[(4, 0.020404471), (6, 0.07380658), (7, 0.099539764), (10, 0.08790141), (12, 0.6578087), (15, 0.02719876), (18, 0.033125423)]\n",
      "[(6, 0.53205585), (10, 0.077877015), (12, 0.04156433), (18, 0.34169334)]\n",
      "[(6, 0.5902378), (7, 0.045255553), (12, 0.028971743), (18, 0.33036032)]\n",
      "[(6, 0.29653805), (10, 0.014860662), (12, 0.058650896), (13, 0.36273196), (18, 0.26134953)]\n",
      "[(6, 0.06421039), (10, 0.03148433), (15, 0.6077947), (18, 0.29079762)]\n",
      "[(6, 0.12925486), (7, 0.10769326), (18, 0.76073205)]\n",
      "[(6, 0.37862778), (10, 0.04678075), (12, 0.27885064), (13, 0.2822037)]\n",
      "[(12, 0.11993582), (15, 0.8225384), (18, 0.043932445)]\n",
      "[(3, 0.026815897), (6, 0.025795668), (7, 0.057561427), (10, 0.05119065), (12, 0.75936896), (18, 0.07763358)]\n",
      "[(6, 0.20464426), (7, 0.083694555), (12, 0.022918958), (13, 0.28165662), (18, 0.40675426)]\n",
      "[(12, 0.07155333), (18, 0.92442954)]\n",
      "[(3, 0.012246372), (6, 0.6076081), (12, 0.04906897), (18, 0.32710642)]\n",
      "[(6, 0.037157975), (7, 0.12803556), (12, 0.41906205), (18, 0.41193753)]\n",
      "[(6, 0.6496778), (12, 0.023413561), (18, 0.326524)]\n",
      "[(6, 0.67737967), (10, 0.010341531), (12, 0.027808497), (18, 0.28419015)]\n",
      "[(6, 0.38261658), (10, 0.018221276), (12, 0.17103477), (18, 0.41796774)]\n",
      "[(6, 0.12884904), (7, 0.35971767), (12, 0.27536428), (18, 0.23558122)]\n",
      "[(4, 0.024310714), (6, 0.27798927), (7, 0.3245927), (10, 0.016309856), (12, 0.015322388), (18, 0.3412951)]\n",
      "[(6, 0.19978249), (7, 0.31640288), (10, 0.01664412), (12, 0.015327009), (18, 0.4515213)]\n",
      "[(3, 0.5149226), (6, 0.11800539), (10, 0.18268168), (18, 0.17519659)]\n",
      "[(6, 0.04840742), (7, 0.090193875), (12, 0.013345672), (15, 0.03398479), (18, 0.81389654)]\n",
      "[(6, 0.043479133), (7, 0.0517575), (12, 0.08986873), (15, 0.3471498), (18, 0.46745458)]\n",
      "[(6, 0.01300225), (7, 0.010987433), (15, 0.57485133), (18, 0.40080854)]\n",
      "[(3, 0.23897843), (6, 0.037257724), (10, 0.40656996), (12, 0.024370883), (18, 0.29178554)]\n",
      "[(3, 0.056430135), (4, 0.043221377), (12, 0.06653216), (18, 0.81752163)]\n",
      "[(4, 0.030674161), (6, 0.11878999), (7, 0.38260692), (12, 0.30005798), (18, 0.16259317)]\n",
      "[(6, 0.05422308), (15, 0.79902965), (18, 0.14358169)]\n",
      "[(6, 0.1320485), (7, 0.07273323), (12, 0.04686398), (13, 0.40351003), (18, 0.34186405)]\n",
      "[(3, 0.011343236), (6, 0.16423951), (7, 0.20993559), (12, 0.325039), (18, 0.28932396)]\n",
      "[(4, 0.2859672), (6, 0.14439353), (7, 0.14103891), (10, 0.2220262), (12, 0.013663895), (18, 0.19284762)]\n",
      "[(6, 0.92226493), (12, 0.015842268), (18, 0.047431435)]\n",
      "[(6, 0.69208497), (18, 0.2992915)]\n",
      "[(6, 0.058507614), (12, 0.029997632), (15, 0.71860796), (18, 0.18855941)]\n",
      "[(4, 0.028855432), (6, 0.7226833), (7, 0.033873886), (10, 0.045380574), (12, 0.04159056), (18, 0.12614153)]\n",
      "[(6, 0.035376206), (10, 0.3304282), (12, 0.52921396), (18, 0.10424491)]\n",
      "[(6, 0.08692338), (7, 0.07566494), (10, 0.0237563), (18, 0.81257355)]\n",
      "[(6, 0.02443687), (12, 0.09222451), (15, 0.021521574), (18, 0.86115)]\n",
      "[(6, 0.55340165), (18, 0.4354551)]\n",
      "[(6, 0.29315186), (18, 0.6979266)]\n",
      "[(6, 0.055560004), (15, 0.74468577), (18, 0.1989531)]\n",
      "[(3, 0.05073376), (12, 0.61084646), (18, 0.3354018)]\n",
      "[(6, 0.4878441), (15, 0.056572102), (18, 0.45283613)]\n",
      "[(6, 0.028971946), (7, 0.22674242), (12, 0.18919273), (18, 0.546967)]\n",
      "[(6, 0.22515576), (10, 0.14134602), (12, 0.33328646), (18, 0.29941997)]\n",
      "[(7, 0.1220994), (15, 0.7955627), (18, 0.072703116)]\n",
      "[(3, 0.018868623), (7, 0.21981464), (12, 0.012894082), (18, 0.7466848)]\n",
      "[(6, 0.040030494), (12, 0.14028694), (15, 0.03169498), (18, 0.78644055)]\n",
      "[(6, 0.059228294), (7, 0.37386662), (12, 0.029033989), (18, 0.5375952)]\n",
      "[(10, 0.05177103), (12, 0.6584888), (18, 0.285741)]\n",
      "[(6, 0.38197744), (12, 0.3159726), (18, 0.29937032)]\n",
      "[(6, 0.23116024), (12, 0.023564858), (18, 0.73374075)]\n",
      "[(3, 0.035214778), (6, 0.07849941), (12, 0.3142259), (18, 0.57003945)]\n",
      "[(6, 0.2934624), (7, 0.12788159), (10, 0.08900527), (12, 0.04655126), (18, 0.44262373)]\n",
      "[(3, 0.018139608), (6, 0.053493604), (7, 0.05054299), (12, 0.16792747), (18, 0.7008373)]\n",
      "[(3, 0.011136316), (6, 0.3548247), (7, 0.14799337), (12, 0.14913005), (13, 0.049873788), (18, 0.28477114)]\n",
      "[(6, 0.10557852), (7, 0.026637284), (12, 0.06802118), (15, 0.5186494), (18, 0.28096575)]\n",
      "[(7, 0.19425614), (15, 0.6375164), (18, 0.16563351)]\n",
      "[(3, 0.24877091), (6, 0.011140363), (10, 0.32720676), (12, 0.019766452), (18, 0.3930068)]\n",
      "[(3, 0.010479262), (6, 0.20782791), (10, 0.010123692), (12, 0.263104), (13, 0.09555748), (18, 0.412758)]\n",
      "[(12, 0.14383484), (15, 0.032502506), (18, 0.8214571)]\n",
      "[(4, 0.2510877), (6, 0.13525997), (7, 0.1131017), (10, 0.044866644), (12, 0.3479482), (18, 0.107647166)]\n",
      "[(3, 0.012827581), (6, 0.8154547), (18, 0.17080979)]\n",
      "[(6, 0.16060874), (10, 0.6497089), (12, 0.1849107)]\n",
      "[(6, 0.2020724), (7, 0.1677885), (12, 0.39379245), (18, 0.22384143)]\n",
      "[(6, 0.39685956), (7, 0.15425938), (12, 0.027452035), (18, 0.41860974)]\n",
      "[(7, 0.18899722), (15, 0.6699165), (18, 0.13823077)]\n",
      "[(6, 0.3015934), (7, 0.041011803), (18, 0.6551867)]\n",
      "[(3, 0.023270465), (6, 0.092449054), (12, 0.042798035), (18, 0.84035593)]\n",
      "[(7, 0.23900475), (12, 0.06876365), (15, 0.4861033), (18, 0.20309721)]\n",
      "[(3, 0.017947566), (4, 0.020443294), (6, 0.08541107), (7, 0.053235274), (10, 0.034601722), (12, 0.64394546), (18, 0.14428304)]\n",
      "[(6, 0.026679507), (7, 0.013923964), (10, 0.12789248), (12, 0.7158359), (18, 0.101972215)]\n",
      "[(6, 0.11480668), (10, 0.15411243), (12, 0.14033471), (18, 0.5886773)]\n",
      "[(6, 0.23632422), (7, 0.05913892), (10, 0.014324528), (12, 0.0658134), (18, 0.624313)]\n",
      "[(4, 0.013110743), (6, 0.019771976), (7, 0.017905045), (15, 0.07777122), (18, 0.8710688)]\n",
      "[(3, 0.054690488), (6, 0.116798505), (7, 0.016884113), (10, 0.021837331), (12, 0.67588145), (18, 0.11116193)]\n",
      "[(6, 0.088113256), (15, 0.043485455), (18, 0.866312)]\n",
      "[(6, 0.06383019), (7, 0.110174), (10, 0.057350583), (12, 0.60164297), (18, 0.16694844)]\n",
      "[(6, 0.74353516), (7, 0.0748586), (12, 0.047481366), (18, 0.1340011)]\n",
      "[(6, 0.22302642), (7, 0.49171028), (12, 0.05170117), (18, 0.21847574)]\n",
      "[(4, 0.027531356), (6, 0.26373407), (7, 0.32134277), (12, 0.09684637), (15, 0.011566969), (18, 0.2788138)]\n",
      "[(7, 0.23790531), (12, 0.10687879), (15, 0.47940415), (18, 0.17478152)]\n",
      "[(6, 0.6204196), (7, 0.022809172), (12, 0.035922654), (18, 0.31947157)]\n",
      "[(3, 0.48607486), (6, 0.12553006), (7, 0.01403901), (10, 0.061709914), (15, 0.0215079), (18, 0.29088256)]\n",
      "[(4, 0.03245961), (6, 0.014215753), (10, 0.023112772), (12, 0.018189974), (18, 0.90921885)]\n",
      "[(3, 0.017247817), (6, 0.06834305), (10, 0.032407556), (12, 0.69588345), (18, 0.1807916)]\n",
      "[(3, 0.027381413), (6, 0.13928807), (7, 0.16004786), (10, 0.0631292), (12, 0.15238819), (18, 0.4575291)]\n",
      "[(6, 0.20302199), (7, 0.010926878), (10, 0.025526106), (12, 0.039139487), (13, 0.40725437), (18, 0.29871127)]\n",
      "[(3, 0.07161751), (6, 0.11517427), (7, 0.20778081), (18, 0.60387695)]\n",
      "[(4, 0.22175825), (6, 0.032714576), (7, 0.468231), (12, 0.069928765), (18, 0.2071168)]\n",
      "[(3, 0.04870639), (4, 0.014324704), (6, 0.09731098), (12, 0.025176788), (18, 0.81403697)]\n",
      "[(6, 0.0682232), (7, 0.3071317), (12, 0.019766888), (18, 0.6046932)]\n",
      "[(7, 0.01110103), (12, 0.44064042), (18, 0.5431568)]\n",
      "[(7, 0.33467346), (12, 0.060638558), (15, 0.45468688), (18, 0.14775707)]\n",
      "[(6, 0.17263421), (10, 0.0136090275), (12, 0.5742558), (18, 0.231581)]\n",
      "[(6, 0.2865207), (7, 0.124703124), (12, 0.019183494), (18, 0.56937504)]\n",
      "[(10, 0.012781259), (12, 0.06992936), (15, 0.8752642), (18, 0.03194533)]\n",
      "[(7, 0.016076745), (10, 0.33141738), (12, 0.49455345), (18, 0.15299663)]\n",
      "[(3, 0.011711934), (6, 0.019614203), (18, 0.95955354)]\n",
      "[(6, 0.2562807), (7, 0.06302323), (10, 0.09447513), (12, 0.37679434), (18, 0.20239791)]\n",
      "[(7, 0.22993067), (12, 0.016541896), (15, 0.45005512), (18, 0.29959738)]\n",
      "[(6, 0.20832139), (7, 0.07754844), (10, 0.025011132), (18, 0.68498385)]\n",
      "[(3, 0.0145666925), (4, 0.034150686), (6, 0.12007843), (7, 0.10062969), (10, 0.028394498), (12, 0.5877928), (18, 0.11430873)]\n",
      "[(6, 0.22757003), (12, 0.15670015), (18, 0.6149774)]\n",
      "[(6, 0.027322914), (7, 0.22785313), (15, 0.48344114), (18, 0.25967586)]\n",
      "[(6, 0.37527078), (7, 0.19114602), (10, 0.05088303), (12, 0.25943246), (18, 0.12306091)]\n",
      "[(6, 0.5657687), (7, 0.020569213), (18, 0.41330144)]\n",
      "[(6, 0.053478282), (10, 0.13004391), (12, 0.61529946), (13, 0.04500614), (18, 0.1483174)]\n",
      "[(6, 0.7483249), (10, 0.014206414), (12, 0.021386936), (18, 0.21544276)]\n",
      "[(4, 0.02126235), (6, 0.12123817), (10, 0.3765677), (12, 0.2222553), (13, 0.02955561), (18, 0.22866185)]\n",
      "[(6, 0.018163886), (7, 0.099585116), (12, 0.33277658), (18, 0.54264593)]\n",
      "[(3, 0.015771165), (6, 0.31265864), (10, 0.025612473), (12, 0.20804136), (18, 0.43662938)]\n",
      "[(3, 0.014171528), (7, 0.13219413), (12, 0.14106439), (18, 0.7032698)]\n"
     ]
    }
   ],
   "source": [
    "for x in lda_model.get_document_topics(corpus):\n",
    "    print(x)"
   ]
  },
  {
   "cell_type": "code",
   "execution_count": 32,
   "id": "1ad4b2d1-5d1a-4bc2-ba5a-39102250e6cb",
   "metadata": {},
   "outputs": [
    {
     "name": "stdout",
     "output_type": "stream",
     "text": [
      "Dictionary<0 unique tokens: []>\n"
     ]
    },
    {
     "data": {
      "text/plain": [
       "[(3, 0.021249663),\n",
       " (4, 0.018303305),\n",
       " (6, 0.20115791),\n",
       " (7, 0.08282494),\n",
       " (10, 0.045066234),\n",
       " (12, 0.1323505),\n",
       " (15, 0.025362454),\n",
       " (18, 0.42782268)]"
      ]
     },
     "execution_count": 32,
     "metadata": {},
     "output_type": "execute_result"
    }
   ],
   "source": [
    "lda_model.print_topics()\n",
    "x = corpora.Dictionary(lemmatize(tokenize(preprocess_text(\n",
    "    ' '.join(queries.iloc[0][\"keywords\"])\n",
    "))))\n",
    "print(x)\n",
    "lda_model[ id2word.doc2bow(x)]"
   ]
  },
  {
   "cell_type": "markdown",
   "id": "fa711457-9d5d-43ea-b26f-88b47121f579",
   "metadata": {},
   "source": [
    "## Clustering Based reranking"
   ]
  },
  {
   "cell_type": "code",
   "execution_count": 33,
   "id": "052a71a2-96fd-4096-af96-8284140509b6",
   "metadata": {},
   "outputs": [
    {
     "name": "stdout",
     "output_type": "stream",
     "text": [
      "Agriculture\n",
      "Amphibians and Reptiles\n",
      "Astronomy\n",
      "Aviation\n",
      "Biography/WikiProject Actors and Filmmakers\n",
      "Biography/WikiProject Musicians\n",
      "Biography/science and academia work group\n",
      "Birds\n",
      "Books\n",
      "Business\n"
     ]
    }
   ],
   "source": [
    "searcher = LuceneSearcher(\"indexes/lucene-index\")\n",
    "\n",
    "results = search(0, 10, k=500) \n",
    "documents = list(\n",
    "    map(\n",
    "        lambda x: json.loads(searcher.doc(x.docid).raw())['contents'], results[0][0]\n",
    "    )\n",
    ")"
   ]
  },
  {
   "cell_type": "code",
   "execution_count": 34,
   "id": "fde5c1ba-60f2-4fc1-b71f-e7103337f9c6",
   "metadata": {},
   "outputs": [],
   "source": [
    "# old_ndcg = []\n",
    "\n",
    "# for ranking, rel_judge in results:\n",
    "#     fairness_ranking_i = get_fairness(ranking)[:100]\n",
    "#     print(collections.Counter(list(fairness_ranking_i[\"gender\"])))\n",
    "\n",
    "#     query_relevancy_labels = get_relevancy_labels(ranking, rel_judge)\n",
    "#     ndcg_i = NDCG(query_relevancy_labels, 100)\n",
    "#     old_ndcg.append(ndcg_i)\n",
    "#     print(ndcg_i)\n",
    "#     print()"
   ]
  },
  {
   "cell_type": "code",
   "execution_count": 35,
   "id": "74bed617-0213-4eb0-bad8-525ab5d3f198",
   "metadata": {},
   "outputs": [],
   "source": [
    "# result7 = results[7]\n",
    "# ranking7 = [x.docid for x in result7[0]]\n",
    "# relevance7 = queries.iloc[7][\"rel_docs\"]\n",
    "\n",
    "# print(all([document in relevance7 for document in ranking7]))\n",
    "# print()\n",
    "# for i in range(45):\n",
    "#     print( len(queries.iloc[i][\"rel_docs\"]) )"
   ]
  },
  {
   "cell_type": "markdown",
   "id": "291c4a56-ac29-4497-b8f9-6219c87635d3",
   "metadata": {},
   "source": [
    "### Round Robin Clusters"
   ]
  },
  {
   "cell_type": "code",
   "execution_count": 36,
   "id": "23b8e90b-0a5f-4397-bd40-40f09cbe2f02",
   "metadata": {},
   "outputs": [],
   "source": [
    "import copy \n",
    "\n",
    "import itertools\n",
    "\n",
    "def roundrobin(*iterables):\n",
    "    \"Visit input iterables in a cycle until each is exhausted.\"\n",
    "    # roundrobin('ABC', 'D', 'EF') → A D E B F C\n",
    "    # Algorithm credited to George Sakkis\n",
    "    iterators = map(iter, iterables)\n",
    "    for num_active in range(len(iterables), 0, -1):\n",
    "        iterators = itertools.cycle(itertools.islice(iterators, num_active))\n",
    "        yield from map(next, iterators)\n",
    "        \n",
    "def roundRobinWithClusters(ranking, clusters, cluster_preferences, n_clusters=10, l=100):\n",
    "    order = list(map(lambda x: x[0], sorted(cluster_preferences, key=lambda x: x[1])[::-1]))\n",
    "    ranking = ranking[:]\n",
    "    clusters = clusters[:]\n",
    "    cluster_list = [ [(ranking[x], clusters[x])  for x in range(len(ranking)) if clusters[x]==i] for i in range(n_clusters)]\n",
    "\n",
    "    ###\n",
    "    #    Order clusters in terms of BM25\n",
    "    cluster_list = list(\n",
    "            map(\n",
    "                lambda x: sorted(x, key=lambda x: x[0].score, reverse=True), \n",
    "                    cluster_list,\n",
    "               )\n",
    "    )\n",
    "\n",
    "    ordered_clusters = []\n",
    "    rr = []\n",
    "    ### Take first 5 items ###\n",
    "    # if len(order) > 0:\n",
    "    #     rr =  cluster_list[order[0]][:min(len(cluster_list[order[0]]), 5)]\n",
    "    #     cluster_list[order[0]] = cluster_list[order[0]][min(len(cluster_list[order[0]]), 5):]\n",
    "    \n",
    "    for item in order:\n",
    "        ordered_clusters.append(cluster_list[item])    \n",
    "\n",
    "    rr += list(roundrobin(*ordered_clusters))\n",
    "\n",
    "    cluster_list = [cluster_list[x] for x in range(len(cluster_list)) if x not in order]\n",
    "    remaining_clusters = sum(cluster_list, [])\n",
    "    remaining_clusters.sort(key=lambda x:x[0].score, reverse=True)\n",
    "\n",
    "    rr+=remaining_clusters\n",
    "    return rr[:100]    "
   ]
  },
  {
   "cell_type": "markdown",
   "id": "897349e8-943c-475d-ace3-2fa4d5c1fb53",
   "metadata": {},
   "source": [
    "## MMR"
   ]
  },
  {
   "cell_type": "markdown",
   "id": "6eed7b48-8624-4e6b-825a-bcb42ef9c60b",
   "metadata": {},
   "source": [
    "$$ \\text{{MMR}} = \\arg\\max_{d_i \\in D \\setminus R} [ \\lambda \\cdot Sim_1(d_i, q) - (1 - \\lambda) \\cdot \\max_{d_j \\in R} Sim_2(d_i, d_j) ] $$\n",
    "\n",
    "Here, D is the set of all candidate documents, R is the set of already selected documents, q is the query, $Sim_1$ is the similarity function between a document and the query, and $Sim_2$ is the similarity function between two documents. $d_i$ and $d_j$ are documents in D and R respectively."
   ]
  },
  {
   "cell_type": "code",
   "execution_count": 37,
   "id": "fef62dc8-c225-421c-a7de-ab6a327b71ae",
   "metadata": {},
   "outputs": [],
   "source": [
    "from copy import deepcopy\n",
    "from time import sleep\n",
    "def MMR(ranked_list_inp, comp_function, lamb = 0.5):\n",
    "    ranked_list = ranked_list_inp[:]\n",
    "    output_list = [ranked_list[0]]\n",
    "    ranked_list.pop(0)\n",
    "        \n",
    "    # compute an optimum with lambda between ranking score and similarity (comp_fucntion)\n",
    "\n",
    "    while len(output_list) < 100:\n",
    "        intermediate_list = [\n",
    "            lamb*item.score - ((1- lamb) * comp_function(item, output_list))\n",
    "            for item in ranked_list]\n",
    "\n",
    "        index = intermediate_list.index(max(intermediate_list))\n",
    "        output_list.append( \n",
    "            ranked_list.pop(index)\n",
    "        ) \n",
    "    return output_list"
   ]
  },
  {
   "cell_type": "code",
   "execution_count": 38,
   "id": "f5d3084d-da8a-484c-9e61-1ea250cb56be",
   "metadata": {},
   "outputs": [
    {
     "name": "stdout",
     "output_type": "stream",
     "text": [
      "Biography/WikiProject Musicians\n"
     ]
    }
   ],
   "source": [
    "searcher = LuceneSearcher(\"indexes/lucene-index\")\n",
    "\n",
    "results = search(5, 6, k=500) \n",
    "documents = list(\n",
    "    map(\n",
    "        lambda x: json.loads(searcher.doc(x.docid).raw())['contents'], results[0][0]\n",
    "    )\n",
    ")"
   ]
  },
  {
   "cell_type": "code",
   "execution_count": 39,
   "id": "442a021b-02f9-4ad1-beec-2709e3d8334a",
   "metadata": {},
   "outputs": [],
   "source": [
    "ranking = results[0][0]\n",
    "relevancy_labels = results[0][1]\n",
    "reranking = MMR(ranking, lambda x,y:0) \n",
    "assert(reranking == ranking[:len(reranking)])"
   ]
  },
  {
   "cell_type": "markdown",
   "id": "a5208fe9-8634-45b1-a2b2-bc7059d49350",
   "metadata": {},
   "source": [
    "#### MMR on fairness features"
   ]
  },
  {
   "cell_type": "code",
   "execution_count": 40,
   "id": "fbd21964-1180-4563-929f-ec3cbf12d97d",
   "metadata": {},
   "outputs": [],
   "source": [
    "def NormalizeData(data):\n",
    "    return (data - np.min(data)) / (np.max(data) - np.min(data))"
   ]
  },
  {
   "cell_type": "code",
   "execution_count": 41,
   "id": "510ebb5b-ec3e-41db-835e-b6f646b5bcfc",
   "metadata": {},
   "outputs": [],
   "source": [
    "# def get_gender_overview(ranking):\n",
    "#     fairness = get_fairness(ranking)\n",
    "#     gender = collections.Counter(list(fairness[\"gender\"]))\n",
    "#     return gender\n",
    "\n",
    "# def get_gender_overview_lst(overview):\n",
    "#     gender = collections.Counter(list(overview))\n",
    "#     return gender\n",
    "    \n",
    "# def gender_dist(gender):\n",
    "#     total_gender_items = sum( gender.values() )\n",
    "#     for key in gender.keys():\n",
    "#         gender[key] = gender[key]/total_gender_items\n",
    "#     return gender\n",
    "\n",
    "# def update_gender_overview(gender, item):\n",
    "#     try:\n",
    "#         item_gender = item[\"gender\"].values[0]\n",
    "#         gender[item_gender] += 1\n",
    "#         return gender\n",
    "#     except:\n",
    "#         return gender\n",
    "# gender_overview = get_gender_overview(ranking1)\n",
    "# gender_dist(gender_overview)"
   ]
  },
  {
   "cell_type": "code",
   "execution_count": 42,
   "id": "37473755-a209-4b6d-a646-e0046af4ed82",
   "metadata": {},
   "outputs": [
    {
     "name": "stdout",
     "output_type": "stream",
     "text": [
      "Missing fairness info for 0 values!\n"
     ]
    },
    {
     "name": "stderr",
     "output_type": "stream",
     "text": [
      " 99%|████████████████████████████████████████████████████████████████████████████████▏| 99/100 [01:05<00:00,  1.51it/s]\n"
     ]
    }
   ],
   "source": [
    "import scipy \n",
    "import copy \n",
    "\n",
    "def MMR_gender(ranked_list_inp, lamb = 0.5):\n",
    "\n",
    "    TOTAL_RERANK = 100\n",
    "    ranked_list = ranked_list_inp[:]\n",
    "    fairness_df = get_fairness(ranked_list)\n",
    "    print(f\"Missing fairness info for {len(ranked_list)-len(fairness_df)} values!\")\n",
    "    output_list = [ranked_list.pop(0)]\n",
    "\n",
    "    scores = list(NormalizeData([doc.score for doc in ranked_list]))\n",
    "\n",
    "    def compare_d1_d2_fairness(d, curr, fairness_df):\n",
    "        docs = [x.docid for x in curr]\n",
    "        before = fairness_df.loc[ fairness_df.index.isin([eval(x) for x in docs])].mean()\n",
    "        after = fairness_df.loc[ fairness_df.index.isin([eval(x) for x in docs+[d]])].mean()\n",
    "        \n",
    "        return scipy.spatial.distance.jensenshannon( before, after)  \n",
    "\n",
    "    # compute an optimum with lambda between ranking score and similarity (comp_fucntion)\n",
    "    with tqdm(total=TOTAL_RERANK, position=0) as pbar:\n",
    "        while len(output_list) < TOTAL_RERANK:\n",
    "            pbar.update(1)\n",
    "            intermediate_list = [\n",
    "                lamb*scores[i] + ((1- lamb) * compare_d1_d2_fairness(item.docid, output_list, fairness_df))\n",
    "                for i, item in enumerate(ranked_list)]\n",
    "            \n",
    "            index = intermediate_list.index(max(intermediate_list))\n",
    "            optimum = ranked_list.pop(index)\n",
    "            scores.pop(index)\n",
    "            output_list.append( \n",
    "                optimum\n",
    "            ) \n",
    "            \n",
    "    return output_list\n",
    "\n",
    "reranking = MMR_gender(ranking, lamb=0)\n",
    "assert(reranking != ranking[:len(reranking)])"
   ]
  },
  {
   "cell_type": "code",
   "execution_count": 57,
   "id": "272a1f92-b2eb-4292-87cc-95ee1536156c",
   "metadata": {},
   "outputs": [],
   "source": [
    "import scipy \n",
    "import copy \n",
    "\n",
    "def MMR_gender_target(ranked_list_inp, lamb = 0.5):\n",
    "    TOTAL_RERANK = 100\n",
    "    ranked_list = ranked_list_inp[:]\n",
    "    fairness_df = get_fairness(ranked_list)\n",
    "    \n",
    "    print(f\"Missing fairness info for {len(ranked_list)-len(fairness_df)} values!\")\n",
    "    output_list = [ranked_list.pop(0)]\n",
    "\n",
    "    scores = list(NormalizeData([doc.score for doc in ranked_list]))\n",
    "    \n",
    "    def compare_d1_d2_fairness(d, curr, fairness_df):\n",
    "        docs = [x.docid for x in curr]\n",
    "        after = fairness_df.loc[ fairness_df.index.isin([eval(x) for x in docs+[d]])].sum()\n",
    "        return 1-scipy.spatial.distance.jensenshannon( after[1:], gender_tgt)  \n",
    "\n",
    "    # compute an optimum with lambda between ranking score and similarity (comp_fucntion)\n",
    "    with tqdm(total=TOTAL_RERANK, position=0) as pbar:\n",
    "        while len(output_list) < TOTAL_RERANK:\n",
    "            pbar.update(1)\n",
    "            intermediate_list = [\n",
    "                lamb*scores[i] + ((1- lamb) * compare_d1_d2_fairness(item.docid, output_list, fairness_df))\n",
    "                for i, item in enumerate(ranked_list)]\n",
    "            \n",
    "            index = intermediate_list.index(max(intermediate_list))\n",
    "            optimum = ranked_list.pop(index)\n",
    "            scores.pop(index)\n",
    "            output_list.append( \n",
    "                optimum\n",
    "            ) \n",
    "\n",
    "    return output_list"
   ]
  },
  {
   "cell_type": "code",
   "execution_count": 58,
   "id": "0047cb0d-2def-439c-aa9e-d1381c37d372",
   "metadata": {},
   "outputs": [
    {
     "name": "stdout",
     "output_type": "stream",
     "text": [
      "gender\n",
      "@UNKNOWN    36.0\n",
      "female      29.0\n",
      "male        35.0\n",
      "NB           0.0\n",
      "dtype: float64\n",
      "gender\n",
      "@UNKNOWN    0.676\n",
      "female      0.076\n",
      "male        0.248\n",
      "NB          0.000\n",
      "dtype: float64\n"
     ]
    }
   ],
   "source": [
    "print(get_fairness(reranking).sum())\n",
    "print(get_fairness(ranking).mean())"
   ]
  },
  {
   "cell_type": "code",
   "execution_count": 45,
   "id": "f90bf249-ea1f-46bd-8d4f-c3558ae97fc3",
   "metadata": {},
   "outputs": [
    {
     "name": "stdout",
     "output_type": "stream",
     "text": [
      "Missing fairness info for 0 values!\n"
     ]
    },
    {
     "name": "stderr",
     "output_type": "stream",
     "text": [
      " 99%|████████████████████████████████████████████████████████████████████████████████▏| 99/100 [01:08<00:00,  1.45it/s]\n"
     ]
    }
   ],
   "source": [
    "reranking2 = MMR_gender(ranking)"
   ]
  },
  {
   "cell_type": "code",
   "execution_count": 46,
   "id": "132eab0a-f2ee-4350-a283-e9e29be5e5e0",
   "metadata": {},
   "outputs": [],
   "source": [
    "query_relevancy_labels = get_relevancy_labels(ranking, relevancy_labels)\n",
    "query_relevancy_labels_reranking = get_relevancy_labels(reranking, relevancy_labels)\n",
    "query_relevancy_labels_reranking2 = get_relevancy_labels(reranking2, relevancy_labels)"
   ]
  },
  {
   "cell_type": "code",
   "execution_count": 56,
   "id": "d58e4d0f-dfd8-4200-9264-467e0c19bb4a",
   "metadata": {},
   "outputs": [],
   "source": [
    "# print(gender_dist(get_gender_overview(reranking2)))\n",
    "# print(get_gender_overview(ranking[:len(reranking)]))\n",
    "# print(gender_dist(get_gender_overview(ranking[:len(reranking)])))\n",
    "\n",
    "# print(NDCG(query_relevancy_labels, 500))\n",
    "# print(NDCG(query_relevancy_labels, len(reranking)))\n",
    "# print(NDCG(query_relevancy_labels_reranking, len(reranking)))\n",
    "# print(NDCG(query_relevancy_labels_reranking2, len(reranking2)))"
   ]
  },
  {
   "cell_type": "markdown",
   "id": "c9db10f2-cc74-4577-8357-bf1dba6dfacd",
   "metadata": {},
   "source": [
    "## Experiments\n",
    "In this section we set up and run a few experiments."
   ]
  },
  {
   "cell_type": "code",
   "execution_count": 47,
   "id": "c690f389-06af-47c1-a8a7-258a1f5f9988",
   "metadata": {},
   "outputs": [],
   "source": [
    "class Experiments:\n",
    "    rankings = None\n",
    "    relevancy_labels = None\n",
    "    s = 0\n",
    "    e = 45\n",
    "    k = 500\n",
    "    \n",
    "    def __init__(self):\n",
    "        None\n",
    "\n",
    "    def set_base(self, rankings, relevancy_labels, s=0, e=45, k=500):\n",
    "        self.rankings = rankings\n",
    "        self.relevancy_labels = relevancy_labels\n",
    "        self.s = s\n",
    "        self.e = e\n",
    "        self.k = k\n",
    "        \n",
    "    def evaluate_NDCG(self, rerankings, k=100):\n",
    "        for i, reranking in enumerate(rerankings):\n",
    "            ranking = self.rankings[s+i]\n",
    "            query_relevancy_labels = get_relevancy_labels(ranking, relevancy_labels[i])\n",
    "            query_relevancy_labels_reranking = get_relevancy_labels(reranking, relevancy_labels[i])\n",
    "            print(f\"for dataset {i+s}\")\n",
    "            print(f\"NDCG for original ranking {NDCG(query_relevancy_labels, k=k)}\")\n",
    "            print(f\"NDCG for reranking {NDCG(query_relevancy_labels_reranking, k=k)}\")\n",
    "            print()\n",
    "\n",
    "    def evaluate_NDCG_diverse(self, rerankings, k=100):\n",
    "        for i, reranking in enumerate(rerankings):\n",
    "            ranking = self.rankings[s+i]\n",
    "            print(f\"for dataset {i+s}\")\n",
    "            print(f\"NDCG for original ranking {NDCG2(ranking)}\")\n",
    "            print(f\"NDCG for reranking {NDCG2(reranking)}\")\n",
    "            print()\n",
    "\n",
    "    def evaluate_custom(self, rerankings, function, function_name= \"custom function for\"):\n",
    "         for i, reranking in enumerate(rerankings):\n",
    "            print(f\"for dataset {i}\")\n",
    "            print(f\"{function_name} for original ranking {function(self.rankings[i])}\")\n",
    "            print(f\"{function_name} for original ranking limited to first {len(reranking)} {function(self.rankings[i][:len(reranking)])}\")\n",
    "            print(f\"{function_name} for reranking of length {len(reranking)} {function(reranking)}\")\n",
    "            print()"
   ]
  },
  {
   "cell_type": "markdown",
   "id": "df49c13a-9ab6-4918-86c2-8549abe8fee6",
   "metadata": {},
   "source": [
    "### Setup"
   ]
  },
  {
   "cell_type": "markdown",
   "id": "0bd9a3c6-3c51-441e-82e9-5bca9cf25616",
   "metadata": {},
   "source": [
    "#### Baseline\n",
    "Get the baseline for each of our queries in the experiments and split the rankings and relevancy labels"
   ]
  },
  {
   "cell_type": "code",
   "execution_count": 48,
   "id": "22564e4a-5904-497f-8bb4-ecaf263e8cb0",
   "metadata": {},
   "outputs": [
    {
     "name": "stdout",
     "output_type": "stream",
     "text": [
      "Agriculture\n",
      "Amphibians and Reptiles\n",
      "Astronomy\n",
      "Aviation\n",
      "Biography/WikiProject Actors and Filmmakers\n",
      "Biography/WikiProject Musicians\n",
      "Biography/science and academia work group\n",
      "Birds\n",
      "Books\n",
      "Business\n",
      "Chemicals\n",
      "Christianity\n",
      "Cities\n",
      "Classical music\n",
      "Computer science\n",
      "Computing\n",
      "Cricket\n",
      "Crime and Criminal Biography\n",
      "Cycling\n",
      "Dams\n",
      "Engineering\n",
      "Film/American cinema task force\n",
      "Former countries\n",
      "Geography\n",
      "Human rights\n",
      "Insects\n",
      "Islam\n",
      "Japan\n",
      "Japan/Biography task force\n",
      "Jewish history\n",
      "Languages\n",
      "Literature\n",
      "Medicine\n",
      "Middle Ages\n",
      "Military history\n",
      "Military history/Maritime warfare task force\n",
      "Motorsport\n",
      "Netherlands\n",
      "Photography\n",
      "Politics\n",
      "Skiing and Snowboarding\n",
      "Southeast Asia\n",
      "Television\n",
      "Tennis\n",
      "Trains\n"
     ]
    }
   ],
   "source": [
    "searcher = LuceneSearcher(\"indexes/lucene-index\")\n",
    "s = 0\n",
    "e = 45\n",
    "k = 500\n",
    "rankings_total, relevancy_labels_total = zip(*search(s, e, k=k))"
   ]
  },
  {
   "cell_type": "markdown",
   "id": "d087c46f-8aee-4fad-964f-44cd7719d5f0",
   "metadata": {},
   "source": [
    "### Clustering\n",
    "Either create or load the stored clusting of our original rankin"
   ]
  },
  {
   "cell_type": "code",
   "execution_count": 49,
   "id": "be5acf4c-d5a8-46c2-b6cf-8e518e8bbeee",
   "metadata": {},
   "outputs": [],
   "source": [
    "import csv\n",
    "clusterings = []\n",
    "clustering_preferences = []\n",
    "clustering_topics = []\n",
    "\n",
    "version = \"500items_10_clusters\"\n",
    "file = f\"clusters/clusterings{version}.csv\"\n",
    "file2 = f\"clusters/clustering_preferences{version}.csv\"\n",
    "file3 = f\"clusters/clustering_topics{version}.csv\"\n",
    "if not (os.path.isfile(file)):\n",
    "    \n",
    "    for i, ranking in enumerate(tqdm(rankings_total)):\n",
    "        clusters, preferences, topics = get_clustering(ranking, ranking_index=i, searcher=searcher)\n",
    "        \n",
    "        clusterings.append(clusters)\n",
    "        clustering_preferences.append(preferences)\n",
    "        clustering_topics.append(list(topics))\n",
    "        \n",
    "    with open(file, 'w', newline='') as f:\n",
    "        writer = csv.writer(f)\n",
    "        writer.writerows(clusterings)\n",
    "\n",
    "    with open(file2, 'w', newline='') as f:\n",
    "        writer = csv.writer(f)\n",
    "        writer.writerows(clustering_preferences)\n",
    "\n",
    "    with open(file3, 'w', newline='') as f:\n",
    "        writer = csv.writer(f)\n",
    "        writer.writerows(clustering_topics)\n",
    "\n",
    "else:\n",
    "    with open(file) as f:\n",
    "        clusterings = list(\n",
    "            map(lambda x: x.split(\",\"), f.read().splitlines())\n",
    "        )\n",
    "        clusterings = list(\n",
    "            map( lambda x: list(map( lambda y: eval(y), x)), clusterings)\n",
    "        )\n",
    "    with open(file2) as f:\n",
    "        lines = f.read()\n",
    "        clustering_preferences= list(\n",
    "            csv.reader(lines.splitlines())\n",
    "        )\n",
    "    \n",
    "        clustering_preferences = list(\n",
    "            map( lambda x: list(map( lambda y: eval(y), x)), clustering_preferences)\n",
    "        )\n",
    "        \n",
    "\n",
    "    with open(file3) as f:\n",
    "        lines = f.read()\n",
    "        \n",
    "        clustering_topics= list(\n",
    "            csv.reader(lines.splitlines())\n",
    "        )\n",
    "    \n",
    "        clustering_topics = list(\n",
    "            map( lambda x: list(map( lambda y: eval(y), x)), clustering_topics)\n",
    "        )\n"
   ]
  },
  {
   "cell_type": "code",
   "execution_count": 50,
   "id": "3ec3126c-3f49-4cb4-aa36-f62e172d439f",
   "metadata": {},
   "outputs": [
    {
     "name": "stdout",
     "output_type": "stream",
     "text": [
      "[(0, 0.22743246), (1, 0.092498556), (2, 4.889585e-06), (3, 0.14233871), (4, 4.109632e-05), (5, 1.7180402e-05), (6, 0.033089202), (7, 8.071449e-05), (8, 1.3253429e-05), (9, 0.50448394)]\n"
     ]
    }
   ],
   "source": [
    "print(max(clustering_topics[0]))"
   ]
  },
  {
   "cell_type": "code",
   "execution_count": 81,
   "id": "889e3096-143d-4f2c-8857-c3623c13070a",
   "metadata": {},
   "outputs": [
    {
     "name": "stdout",
     "output_type": "stream",
     "text": [
      "0.5462574254588145\n",
      "0.5926825204089029\n"
     ]
    }
   ],
   "source": [
    "# print(clusterings[0])\n",
    "# print(list(map(lambda x: x[0], clustering_preferences[0][::-1])))\n",
    "reranking0, queries = zip(*roundRobinWithClusters(rankings_total[0], clusterings[0], clustering_preferences[0]))\n",
    "rel_labs = get_relevancy_labels(rankings_total[0], relevancy_labels_total[0])\n",
    "rel_labs_r = get_relevancy_labels(reranking0, relevancy_labels_total[0])\n",
    "print(NDCG(rel_labs, k=10))\n",
    "print(NDCG(rel_labs_r, k=10))"
   ]
  },
  {
   "cell_type": "code",
   "execution_count": 82,
   "id": "d759501b-006e-4591-b627-03831f63dd53",
   "metadata": {},
   "outputs": [
    {
     "data": {
      "text/plain": [
       "True"
      ]
     },
     "execution_count": 82,
     "metadata": {},
     "output_type": "execute_result"
    }
   ],
   "source": [
    "import os.path\n",
    "os.path.isfile(\"clusterings.csv\")"
   ]
  },
  {
   "cell_type": "code",
   "execution_count": 83,
   "id": "91b7dd70-5c63-45af-8690-6f7e94e1db10",
   "metadata": {},
   "outputs": [],
   "source": [
    "#print(list(clustering_topics[0]))"
   ]
  },
  {
   "cell_type": "code",
   "execution_count": 84,
   "id": "06b683d9-36d7-43a5-b4b1-4b2024688619",
   "metadata": {},
   "outputs": [
    {
     "name": "stdout",
     "output_type": "stream",
     "text": [
      "(0, 1, 8, 5, 4, 3, 9, 7, 6, 2, 0, 1, 8, 5, 4, 3, 9, 7, 2, 0, 1, 8, 5, 4, 3, 9, 7, 2, 0, 1, 8, 5, 4, 3, 9, 2, 0, 1, 8, 5, 4, 3, 9, 0, 1, 8, 5, 4, 3, 9, 0, 1, 8, 5, 4, 3, 9, 0, 1, 8, 5, 4, 3, 0, 1, 8, 5, 4, 0, 1, 8, 5, 4, 0, 1, 8, 5, 4, 0, 1, 8, 5, 4, 0, 1, 8, 5, 4, 0, 1, 8, 5, 4, 0, 1, 8, 5, 0, 1, 8)\n"
     ]
    },
    {
     "ename": "TypeError",
     "evalue": "NDCG_2() missing 1 required positional argument: 'k'",
     "output_type": "error",
     "traceback": [
      "\u001b[1;31m---------------------------------------------------------------------------\u001b[0m",
      "\u001b[1;31mTypeError\u001b[0m                                 Traceback (most recent call last)",
      "Cell \u001b[1;32mIn[84], line 9\u001b[0m\n\u001b[0;32m      4\u001b[0m ct_reranking_i \u001b[38;5;241m=\u001b[39m get_topic_info_reranking(clustering_topics[i], rankings_total[i], rerankingi)\n\u001b[0;32m      6\u001b[0m \u001b[38;5;66;03m# print([x.index(max(x, key=lambda x: x[1])) for x in ct_reranking])\u001b[39;00m\n\u001b[0;32m      7\u001b[0m \u001b[38;5;66;03m# print([x.index(max(x, key=lambda x: x[1])) for x in clustering_topics[0]])\u001b[39;00m\n\u001b[1;32m----> 9\u001b[0m \u001b[38;5;28mprint\u001b[39m(\u001b[43mNDCG_2\u001b[49m\u001b[43m(\u001b[49m\u001b[43mct_reranking_i\u001b[49m\u001b[43m)\u001b[49m, k)\n\u001b[0;32m     10\u001b[0m \u001b[38;5;28mprint\u001b[39m(NDCG_2(clustering_topics[i]), k)\n\u001b[0;32m     11\u001b[0m \u001b[38;5;28mprint\u001b[39m()\n",
      "\u001b[1;31mTypeError\u001b[0m: NDCG_2() missing 1 required positional argument: 'k'"
     ]
    }
   ],
   "source": [
    "for i in range(0, 45):\n",
    "    rerankingi, queries_r = zip(*roundRobinWithClusters(rankings_total[i], clusterings[i], clustering_preferences[i]))\n",
    "    print(queries_r)\n",
    "    ct_reranking_i = get_topic_info_reranking(clustering_topics[i], rankings_total[i], rerankingi)\n",
    "    \n",
    "    # print([x.index(max(x, key=lambda x: x[1])) for x in ct_reranking])\n",
    "    # print([x.index(max(x, key=lambda x: x[1])) for x in clustering_topics[0]])\n",
    "\n",
    "    print(NDCG_2(ct_reranking_i), k)\n",
    "    print(NDCG_2(clustering_topics[i]), k)\n",
    "    print()"
   ]
  },
  {
   "cell_type": "markdown",
   "id": "3146ff9f-70b5-4667-bec1-26053a689006",
   "metadata": {},
   "source": [
    "### Dummy experiments"
   ]
  },
  {
   "cell_type": "code",
   "execution_count": 85,
   "id": "5af9aa49-b480-4602-84c6-d97d403f7661",
   "metadata": {},
   "outputs": [
    {
     "ename": "NameError",
     "evalue": "name 'experiments' is not defined",
     "output_type": "error",
     "traceback": [
      "\u001b[1;31m---------------------------------------------------------------------------\u001b[0m",
      "\u001b[1;31mNameError\u001b[0m                                 Traceback (most recent call last)",
      "Cell \u001b[1;32mIn[85], line 3\u001b[0m\n\u001b[0;32m      1\u001b[0m \u001b[38;5;28;01mimport\u001b[39;00m \u001b[38;5;21;01mgc\u001b[39;00m\n\u001b[0;32m      2\u001b[0m gc\u001b[38;5;241m.\u001b[39mcollect()\n\u001b[1;32m----> 3\u001b[0m \u001b[38;5;28;01mdel\u001b[39;00m experiments\n",
      "\u001b[1;31mNameError\u001b[0m: name 'experiments' is not defined"
     ]
    }
   ],
   "source": [
    "import gc\n",
    "gc.collect()\n",
    "del experiments"
   ]
  },
  {
   "cell_type": "code",
   "execution_count": 86,
   "id": "f3b9a5a2-f396-4ca1-bfb7-542f58d4681c",
   "metadata": {},
   "outputs": [],
   "source": [
    "s = 0\n",
    "e = 10\n",
    "rankings_dummy = rankings_total[s:e]\n",
    "relevancy_labels = relevancy_labels_total[s:e]\n",
    "\n",
    "experiments = Experiments()\n",
    "experiments.set_base(rankings_dummy, relevancy_labels, s=s, e=e)"
   ]
  },
  {
   "cell_type": "code",
   "execution_count": null,
   "id": "06ae78cf-ec1a-4e06-8e8a-e362922b00bb",
   "metadata": {},
   "outputs": [],
   "source": [
    "### Clustering\n",
    "rerankings_CL, Cs = zip(*\n",
    "                        [zip(*roundRobinWithClusters(ranking, clusterings[index+s], clustering_preferences[index+s])[:100]) for index, ranking in enumerate(experiments.rankings)]  \n",
    "                       )\n",
    "print(Cs[1])\n",
    "\n",
    "print(\"Clustering results\")\n",
    "experiments.evaluate_NDCG(rerankings_CL, k=100)\n",
    "experiments.evaluate_custom(rerankings_CL, get_gender_overview)"
   ]
  },
  {
   "cell_type": "code",
   "execution_count": null,
   "id": "ac0a6807-ba0c-43af-ba2e-4d36b707b8eb",
   "metadata": {},
   "outputs": [],
   "source": [
    "## MMR\n",
    "print(\"MMR results\")\n",
    "rerankings_MMR = [MMR_gender(ranking, lamb=0.05) for ranking in experiments.rankings]  \n",
    "experiments.evaluate_NDCG(rerankings_MMR)\n",
    "experiments.evaluate_custom(rerankings_MMR, get_gender_overview)\n",
    "print()"
   ]
  },
  {
   "cell_type": "markdown",
   "id": "34d28a1f-1a8a-4e6c-8198-28affcda5a63",
   "metadata": {},
   "source": [
    "### MMR on gender"
   ]
  },
  {
   "cell_type": "code",
   "execution_count": 147,
   "id": "0082670b-a2e1-4720-b77c-e5032e60d245",
   "metadata": {},
   "outputs": [
    {
     "ename": "NameError",
     "evalue": "name 'rankings' is not defined",
     "output_type": "error",
     "traceback": [
      "\u001b[1;31m---------------------------------------------------------------------------\u001b[0m",
      "\u001b[1;31mNameError\u001b[0m                                 Traceback (most recent call last)",
      "Cell \u001b[1;32mIn[147], line 2\u001b[0m\n\u001b[0;32m      1\u001b[0m experiments \u001b[38;5;241m=\u001b[39m Experiments()\n\u001b[1;32m----> 2\u001b[0m experiments\u001b[38;5;241m.\u001b[39mset_base(\u001b[43mrankings\u001b[49m, relevancy_labels, s\u001b[38;5;241m=\u001b[39ms, e\u001b[38;5;241m=\u001b[39me)\n\u001b[0;32m      3\u001b[0m rerankings \u001b[38;5;241m=\u001b[39m [MMR_gender(ranking, lamb\u001b[38;5;241m=\u001b[39m\u001b[38;5;241m0.05\u001b[39m) \u001b[38;5;28;01mfor\u001b[39;00m ranking \u001b[38;5;129;01min\u001b[39;00m experiments\u001b[38;5;241m.\u001b[39mrankings]\n",
      "\u001b[1;31mNameError\u001b[0m: name 'rankings' is not defined"
     ]
    }
   ],
   "source": [
    "experiments = Experiments()\n",
    "experiments.set_base(rankings, relevancy_labels, s=s, e=e)\n",
    "rerankings = [MMR_gender(ranking, lamb=0.05) for ranking in experiments.rankings]  "
   ]
  },
  {
   "cell_type": "code",
   "execution_count": 148,
   "id": "19d3414b-f808-4aca-b2ad-3ee32e4c6946",
   "metadata": {},
   "outputs": [
    {
     "ename": "NameError",
     "evalue": "name 'rerankings' is not defined",
     "output_type": "error",
     "traceback": [
      "\u001b[1;31m---------------------------------------------------------------------------\u001b[0m",
      "\u001b[1;31mNameError\u001b[0m                                 Traceback (most recent call last)",
      "Cell \u001b[1;32mIn[148], line 1\u001b[0m\n\u001b[1;32m----> 1\u001b[0m experiments\u001b[38;5;241m.\u001b[39mevaluate_NDCG(\u001b[43mrerankings\u001b[49m)  \n\u001b[0;32m      2\u001b[0m experiments\u001b[38;5;241m.\u001b[39mevaluate_custom(rerankings, \u001b[38;5;28;01mlambda\u001b[39;00m x: get_gender_overview(x))\n",
      "\u001b[1;31mNameError\u001b[0m: name 'rerankings' is not defined"
     ]
    }
   ],
   "source": [
    "experiments.evaluate_NDCG(rerankings)  \n",
    "experiments.evaluate_custom(rerankings, lambda x: get_gender_overview(x))"
   ]
  },
  {
   "cell_type": "markdown",
   "id": "2147bdc1-6b05-4ef6-be41-61bbb151def9",
   "metadata": {},
   "source": [
    "### Experiments all queries"
   ]
  },
  {
   "cell_type": "code",
   "execution_count": 89,
   "id": "1cbadddf-fe83-4f6c-a016-08b7cd84bd77",
   "metadata": {},
   "outputs": [
    {
     "name": "stdout",
     "output_type": "stream",
     "text": [
      "4 4\n"
     ]
    }
   ],
   "source": [
    "s = 0\n",
    "e = 4\n",
    "rankings = rankings_total[s:e]\n",
    "relevancy_labels = relevancy_labels_total[s:e]\n",
    "\n",
    "experiments = Experiments()\n",
    "experiments.set_base(rankings, relevancy_labels, s=s, e=e)\n",
    "print(len(experiments.rankings), len(relevancy_labels))"
   ]
  },
  {
   "cell_type": "code",
   "execution_count": 90,
   "id": "1f35f4f6-bd25-4a3c-8773-9aee839f7ea9",
   "metadata": {},
   "outputs": [
    {
     "name": "stdout",
     "output_type": "stream",
     "text": [
      "Clustering results\n",
      "for dataset 0\n",
      "NDCG for original ranking 0.5359584451884094\n",
      "NDCG for reranking 0.5101818724590933\n",
      "\n",
      "for dataset 1\n",
      "NDCG for original ranking 0.7581109527983142\n",
      "NDCG for reranking 0.6524639210515778\n",
      "\n",
      "for dataset 2\n",
      "NDCG for original ranking 0.8637798214311406\n",
      "NDCG for reranking 0.8643025608725806\n",
      "\n",
      "for dataset 3\n",
      "NDCG for original ranking 0.9268754766349764\n",
      "NDCG for reranking 0.8977414846744851\n",
      "\n",
      "for dataset 0\n"
     ]
    },
    {
     "ename": "KeyError",
     "evalue": "'gender'",
     "output_type": "error",
     "traceback": [
      "\u001b[1;31m---------------------------------------------------------------------------\u001b[0m",
      "\u001b[1;31mKeyError\u001b[0m                                  Traceback (most recent call last)",
      "File \u001b[1;32m~\\anaconda3\\envs\\pyserini\\lib\\site-packages\\pandas\\core\\indexes\\base.py:3653\u001b[0m, in \u001b[0;36mIndex.get_loc\u001b[1;34m(self, key)\u001b[0m\n\u001b[0;32m   3652\u001b[0m \u001b[38;5;28;01mtry\u001b[39;00m:\n\u001b[1;32m-> 3653\u001b[0m     \u001b[38;5;28;01mreturn\u001b[39;00m \u001b[38;5;28;43mself\u001b[39;49m\u001b[38;5;241;43m.\u001b[39;49m\u001b[43m_engine\u001b[49m\u001b[38;5;241;43m.\u001b[39;49m\u001b[43mget_loc\u001b[49m\u001b[43m(\u001b[49m\u001b[43mcasted_key\u001b[49m\u001b[43m)\u001b[49m\n\u001b[0;32m   3654\u001b[0m \u001b[38;5;28;01mexcept\u001b[39;00m \u001b[38;5;167;01mKeyError\u001b[39;00m \u001b[38;5;28;01mas\u001b[39;00m err:\n",
      "File \u001b[1;32m~\\anaconda3\\envs\\pyserini\\lib\\site-packages\\pandas\\_libs\\index.pyx:147\u001b[0m, in \u001b[0;36mpandas._libs.index.IndexEngine.get_loc\u001b[1;34m()\u001b[0m\n",
      "File \u001b[1;32m~\\anaconda3\\envs\\pyserini\\lib\\site-packages\\pandas\\_libs\\index.pyx:176\u001b[0m, in \u001b[0;36mpandas._libs.index.IndexEngine.get_loc\u001b[1;34m()\u001b[0m\n",
      "File \u001b[1;32mpandas\\_libs\\hashtable_class_helper.pxi:7080\u001b[0m, in \u001b[0;36mpandas._libs.hashtable.PyObjectHashTable.get_item\u001b[1;34m()\u001b[0m\n",
      "File \u001b[1;32mpandas\\_libs\\hashtable_class_helper.pxi:7088\u001b[0m, in \u001b[0;36mpandas._libs.hashtable.PyObjectHashTable.get_item\u001b[1;34m()\u001b[0m\n",
      "\u001b[1;31mKeyError\u001b[0m: 'gender'",
      "\nThe above exception was the direct cause of the following exception:\n",
      "\u001b[1;31mKeyError\u001b[0m                                  Traceback (most recent call last)",
      "Cell \u001b[1;32mIn[90], line 8\u001b[0m\n\u001b[0;32m      6\u001b[0m \u001b[38;5;28mprint\u001b[39m(\u001b[38;5;124m\"\u001b[39m\u001b[38;5;124mClustering results\u001b[39m\u001b[38;5;124m\"\u001b[39m)\n\u001b[0;32m      7\u001b[0m experiments\u001b[38;5;241m.\u001b[39mevaluate_NDCG(rerankings_CL, k\u001b[38;5;241m=\u001b[39m\u001b[38;5;241m100\u001b[39m)\n\u001b[1;32m----> 8\u001b[0m \u001b[43mexperiments\u001b[49m\u001b[38;5;241;43m.\u001b[39;49m\u001b[43mevaluate_custom\u001b[49m\u001b[43m(\u001b[49m\u001b[43mrerankings_CL\u001b[49m\u001b[43m,\u001b[49m\u001b[43m \u001b[49m\u001b[43mget_gender_overview\u001b[49m\u001b[43m)\u001b[49m\n",
      "Cell \u001b[1;32mIn[79], line 39\u001b[0m, in \u001b[0;36mExperiments.evaluate_custom\u001b[1;34m(self, rerankings, function, function_name)\u001b[0m\n\u001b[0;32m     37\u001b[0m \u001b[38;5;28;01mfor\u001b[39;00m i, reranking \u001b[38;5;129;01min\u001b[39;00m \u001b[38;5;28menumerate\u001b[39m(rerankings):\n\u001b[0;32m     38\u001b[0m    \u001b[38;5;28mprint\u001b[39m(\u001b[38;5;124mf\u001b[39m\u001b[38;5;124m\"\u001b[39m\u001b[38;5;124mfor dataset \u001b[39m\u001b[38;5;132;01m{\u001b[39;00mi\u001b[38;5;132;01m}\u001b[39;00m\u001b[38;5;124m\"\u001b[39m)\n\u001b[1;32m---> 39\u001b[0m    \u001b[38;5;28mprint\u001b[39m(\u001b[38;5;124mf\u001b[39m\u001b[38;5;124m\"\u001b[39m\u001b[38;5;132;01m{\u001b[39;00mfunction_name\u001b[38;5;132;01m}\u001b[39;00m\u001b[38;5;124m for original ranking \u001b[39m\u001b[38;5;132;01m{\u001b[39;00mfunction(\u001b[38;5;28mself\u001b[39m\u001b[38;5;241m.\u001b[39mrankings[i])\u001b[38;5;132;01m}\u001b[39;00m\u001b[38;5;124m\"\u001b[39m)\n\u001b[0;32m     40\u001b[0m    \u001b[38;5;28mprint\u001b[39m(\u001b[38;5;124mf\u001b[39m\u001b[38;5;124m\"\u001b[39m\u001b[38;5;132;01m{\u001b[39;00mfunction_name\u001b[38;5;132;01m}\u001b[39;00m\u001b[38;5;124m for original ranking limited to first \u001b[39m\u001b[38;5;132;01m{\u001b[39;00m\u001b[38;5;28mlen\u001b[39m(reranking)\u001b[38;5;132;01m}\u001b[39;00m\u001b[38;5;124m \u001b[39m\u001b[38;5;132;01m{\u001b[39;00mfunction(\u001b[38;5;28mself\u001b[39m\u001b[38;5;241m.\u001b[39mrankings[i][:\u001b[38;5;28mlen\u001b[39m(reranking)])\u001b[38;5;132;01m}\u001b[39;00m\u001b[38;5;124m\"\u001b[39m)\n\u001b[0;32m     41\u001b[0m    \u001b[38;5;28mprint\u001b[39m(\u001b[38;5;124mf\u001b[39m\u001b[38;5;124m\"\u001b[39m\u001b[38;5;132;01m{\u001b[39;00mfunction_name\u001b[38;5;132;01m}\u001b[39;00m\u001b[38;5;124m for reranking of length \u001b[39m\u001b[38;5;132;01m{\u001b[39;00m\u001b[38;5;28mlen\u001b[39m(reranking)\u001b[38;5;132;01m}\u001b[39;00m\u001b[38;5;124m \u001b[39m\u001b[38;5;132;01m{\u001b[39;00mfunction(reranking)\u001b[38;5;132;01m}\u001b[39;00m\u001b[38;5;124m\"\u001b[39m)\n",
      "Cell \u001b[1;32mIn[68], line 3\u001b[0m, in \u001b[0;36mget_gender_overview\u001b[1;34m(ranking)\u001b[0m\n\u001b[0;32m      1\u001b[0m \u001b[38;5;28;01mdef\u001b[39;00m \u001b[38;5;21mget_gender_overview\u001b[39m(ranking):\n\u001b[0;32m      2\u001b[0m     fairness \u001b[38;5;241m=\u001b[39m get_fairness(ranking)\n\u001b[1;32m----> 3\u001b[0m     gender \u001b[38;5;241m=\u001b[39m collections\u001b[38;5;241m.\u001b[39mCounter(\u001b[38;5;28mlist\u001b[39m(\u001b[43mfairness\u001b[49m\u001b[43m[\u001b[49m\u001b[38;5;124;43m\"\u001b[39;49m\u001b[38;5;124;43mgender\u001b[39;49m\u001b[38;5;124;43m\"\u001b[39;49m\u001b[43m]\u001b[49m))\n\u001b[0;32m      4\u001b[0m     \u001b[38;5;28;01mreturn\u001b[39;00m gender\n",
      "File \u001b[1;32m~\\anaconda3\\envs\\pyserini\\lib\\site-packages\\pandas\\core\\frame.py:3761\u001b[0m, in \u001b[0;36mDataFrame.__getitem__\u001b[1;34m(self, key)\u001b[0m\n\u001b[0;32m   3759\u001b[0m \u001b[38;5;28;01mif\u001b[39;00m \u001b[38;5;28mself\u001b[39m\u001b[38;5;241m.\u001b[39mcolumns\u001b[38;5;241m.\u001b[39mnlevels \u001b[38;5;241m>\u001b[39m \u001b[38;5;241m1\u001b[39m:\n\u001b[0;32m   3760\u001b[0m     \u001b[38;5;28;01mreturn\u001b[39;00m \u001b[38;5;28mself\u001b[39m\u001b[38;5;241m.\u001b[39m_getitem_multilevel(key)\n\u001b[1;32m-> 3761\u001b[0m indexer \u001b[38;5;241m=\u001b[39m \u001b[38;5;28;43mself\u001b[39;49m\u001b[38;5;241;43m.\u001b[39;49m\u001b[43mcolumns\u001b[49m\u001b[38;5;241;43m.\u001b[39;49m\u001b[43mget_loc\u001b[49m\u001b[43m(\u001b[49m\u001b[43mkey\u001b[49m\u001b[43m)\u001b[49m\n\u001b[0;32m   3762\u001b[0m \u001b[38;5;28;01mif\u001b[39;00m is_integer(indexer):\n\u001b[0;32m   3763\u001b[0m     indexer \u001b[38;5;241m=\u001b[39m [indexer]\n",
      "File \u001b[1;32m~\\anaconda3\\envs\\pyserini\\lib\\site-packages\\pandas\\core\\indexes\\base.py:3655\u001b[0m, in \u001b[0;36mIndex.get_loc\u001b[1;34m(self, key)\u001b[0m\n\u001b[0;32m   3653\u001b[0m     \u001b[38;5;28;01mreturn\u001b[39;00m \u001b[38;5;28mself\u001b[39m\u001b[38;5;241m.\u001b[39m_engine\u001b[38;5;241m.\u001b[39mget_loc(casted_key)\n\u001b[0;32m   3654\u001b[0m \u001b[38;5;28;01mexcept\u001b[39;00m \u001b[38;5;167;01mKeyError\u001b[39;00m \u001b[38;5;28;01mas\u001b[39;00m err:\n\u001b[1;32m-> 3655\u001b[0m     \u001b[38;5;28;01mraise\u001b[39;00m \u001b[38;5;167;01mKeyError\u001b[39;00m(key) \u001b[38;5;28;01mfrom\u001b[39;00m \u001b[38;5;21;01merr\u001b[39;00m\n\u001b[0;32m   3656\u001b[0m \u001b[38;5;28;01mexcept\u001b[39;00m \u001b[38;5;167;01mTypeError\u001b[39;00m:\n\u001b[0;32m   3657\u001b[0m     \u001b[38;5;66;03m# If we have a listlike key, _check_indexing_error will raise\u001b[39;00m\n\u001b[0;32m   3658\u001b[0m     \u001b[38;5;66;03m#  InvalidIndexError. Otherwise we fall through and re-raise\u001b[39;00m\n\u001b[0;32m   3659\u001b[0m     \u001b[38;5;66;03m#  the TypeError.\u001b[39;00m\n\u001b[0;32m   3660\u001b[0m     \u001b[38;5;28mself\u001b[39m\u001b[38;5;241m.\u001b[39m_check_indexing_error(key)\n",
      "\u001b[1;31mKeyError\u001b[0m: 'gender'"
     ]
    }
   ],
   "source": [
    "### Clustering\n",
    "rerankings_CL, Cs = zip(*\n",
    "                        [zip(*roundRobinWithClusters(ranking, clusterings[index+s], clustering_preferences[index+s])[:100]) for index, ranking in enumerate(experiments.rankings)]  \n",
    "                       )\n",
    "\n",
    "print(\"Clustering results\")\n",
    "experiments.evaluate_NDCG(rerankings_CL, k=100)\n",
    "experiments.evaluate_custom(rerankings_CL, get_gender_overview)"
   ]
  },
  {
   "cell_type": "markdown",
   "id": "cb404b09",
   "metadata": {},
   "source": [
    "## Evaluation"
   ]
  },
  {
   "cell_type": "markdown",
   "id": "6f74cbd2-f34f-49bf-ab31-3af8294bbb51",
   "metadata": {},
   "source": [
    "### Gender targets"
   ]
  },
  {
   "cell_type": "code",
   "execution_count": 57,
   "id": "4c17f9b6-2b64-4045-8a26-9644cfa5262a",
   "metadata": {},
   "outputs": [],
   "source": [
    "def qr_join(align):\n",
    "    return qrels.join(align, on='page_id').set_index(['topic_id', 'page_id'])"
   ]
  },
  {
   "cell_type": "code",
   "execution_count": 58,
   "id": "5c7f5cb8-feff-424c-9f0f-a36649d2dd9e",
   "metadata": {},
   "outputs": [
    {
     "data": {
      "text/html": [
       "<div>\n",
       "<style scoped>\n",
       "    .dataframe tbody tr th:only-of-type {\n",
       "        vertical-align: middle;\n",
       "    }\n",
       "\n",
       "    .dataframe tbody tr th {\n",
       "        vertical-align: top;\n",
       "    }\n",
       "\n",
       "    .dataframe thead th {\n",
       "        text-align: right;\n",
       "    }\n",
       "</style>\n",
       "<table border=\"1\" class=\"dataframe\">\n",
       "  <thead>\n",
       "    <tr style=\"text-align: right;\">\n",
       "      <th></th>\n",
       "      <th></th>\n",
       "      <th>@UNKNOWN</th>\n",
       "      <th>female</th>\n",
       "      <th>male</th>\n",
       "      <th>NB</th>\n",
       "    </tr>\n",
       "    <tr>\n",
       "      <th>topic_id</th>\n",
       "      <th>page_id</th>\n",
       "      <th></th>\n",
       "      <th></th>\n",
       "      <th></th>\n",
       "      <th></th>\n",
       "    </tr>\n",
       "  </thead>\n",
       "  <tbody>\n",
       "    <tr>\n",
       "      <th rowspan=\"5\" valign=\"top\">84</th>\n",
       "      <th>572</th>\n",
       "      <td>1.0</td>\n",
       "      <td>0.0</td>\n",
       "      <td>0.0</td>\n",
       "      <td>0.0</td>\n",
       "    </tr>\n",
       "    <tr>\n",
       "      <th>627</th>\n",
       "      <td>1.0</td>\n",
       "      <td>0.0</td>\n",
       "      <td>0.0</td>\n",
       "      <td>0.0</td>\n",
       "    </tr>\n",
       "    <tr>\n",
       "      <th>678</th>\n",
       "      <td>1.0</td>\n",
       "      <td>0.0</td>\n",
       "      <td>0.0</td>\n",
       "      <td>0.0</td>\n",
       "    </tr>\n",
       "    <tr>\n",
       "      <th>903</th>\n",
       "      <td>1.0</td>\n",
       "      <td>0.0</td>\n",
       "      <td>0.0</td>\n",
       "      <td>0.0</td>\n",
       "    </tr>\n",
       "    <tr>\n",
       "      <th>1193</th>\n",
       "      <td>1.0</td>\n",
       "      <td>0.0</td>\n",
       "      <td>0.0</td>\n",
       "      <td>0.0</td>\n",
       "    </tr>\n",
       "  </tbody>\n",
       "</table>\n",
       "</div>"
      ],
      "text/plain": [
       "                  @UNKNOWN  female  male   NB\n",
       "topic_id page_id                             \n",
       "84       572           1.0     0.0   0.0  0.0\n",
       "         627           1.0     0.0   0.0  0.0\n",
       "         678           1.0     0.0   0.0  0.0\n",
       "         903           1.0     0.0   0.0  0.0\n",
       "         1193          1.0     0.0   0.0  0.0"
      ]
     },
     "execution_count": 58,
     "metadata": {},
     "output_type": "execute_result"
    }
   ],
   "source": [
    "qr_gender_align = qr_join(gender_align)\n",
    "qr_gender_align.head()"
   ]
  },
  {
   "cell_type": "code",
   "execution_count": 59,
   "id": "c81c7bed-56f4-4ef1-9e03-2c9c4189df51",
   "metadata": {},
   "outputs": [
    {
     "data": {
      "text/html": [
       "<div>\n",
       "<style scoped>\n",
       "    .dataframe tbody tr th:only-of-type {\n",
       "        vertical-align: middle;\n",
       "    }\n",
       "\n",
       "    .dataframe tbody tr th {\n",
       "        vertical-align: top;\n",
       "    }\n",
       "\n",
       "    .dataframe thead th {\n",
       "        text-align: right;\n",
       "    }\n",
       "</style>\n",
       "<table border=\"1\" class=\"dataframe\">\n",
       "  <thead>\n",
       "    <tr style=\"text-align: right;\">\n",
       "      <th></th>\n",
       "      <th>@UNKNOWN</th>\n",
       "      <th>female</th>\n",
       "      <th>male</th>\n",
       "      <th>NB</th>\n",
       "    </tr>\n",
       "    <tr>\n",
       "      <th>topic_id</th>\n",
       "      <th></th>\n",
       "      <th></th>\n",
       "      <th></th>\n",
       "      <th></th>\n",
       "    </tr>\n",
       "  </thead>\n",
       "  <tbody>\n",
       "    <tr>\n",
       "      <th>84</th>\n",
       "      <td>0.905943</td>\n",
       "      <td>0.033790</td>\n",
       "      <td>0.059797</td>\n",
       "      <td>0.000470</td>\n",
       "    </tr>\n",
       "    <tr>\n",
       "      <th>111</th>\n",
       "      <td>0.996106</td>\n",
       "      <td>0.001344</td>\n",
       "      <td>0.002531</td>\n",
       "      <td>0.000019</td>\n",
       "    </tr>\n",
       "    <tr>\n",
       "      <th>265</th>\n",
       "      <td>0.883099</td>\n",
       "      <td>0.038968</td>\n",
       "      <td>0.077328</td>\n",
       "      <td>0.000647</td>\n",
       "    </tr>\n",
       "    <tr>\n",
       "      <th>323</th>\n",
       "      <td>0.890183</td>\n",
       "      <td>0.033058</td>\n",
       "      <td>0.076210</td>\n",
       "      <td>0.000549</td>\n",
       "    </tr>\n",
       "    <tr>\n",
       "      <th>396</th>\n",
       "      <td>0.007847</td>\n",
       "      <td>0.428546</td>\n",
       "      <td>0.558768</td>\n",
       "      <td>0.005349</td>\n",
       "    </tr>\n",
       "  </tbody>\n",
       "</table>\n",
       "</div>"
      ],
      "text/plain": [
       "          @UNKNOWN    female      male        NB\n",
       "topic_id                                        \n",
       "84        0.905943  0.033790  0.059797  0.000470\n",
       "111       0.996106  0.001344  0.002531  0.000019\n",
       "265       0.883099  0.038968  0.077328  0.000647\n",
       "323       0.890183  0.033058  0.076210  0.000549\n",
       "396       0.007847  0.428546  0.558768  0.005349"
      ]
     },
     "execution_count": 59,
     "metadata": {},
     "output_type": "execute_result"
    }
   ],
   "source": [
    "qr_gender_tgt = qr_gender_align.groupby('topic_id').mean()\n",
    "qr_gender_fk = qr_gender_tgt.iloc[:, 1:].sum('columns')\n",
    "qr_gender_tgt.iloc[:, 1:] *= 0.5\n",
    "qr_gender_tgt.iloc[:, 1:] += qr_gender_fk.apply(lambda k: gender_tgt * k * 0.5)\n",
    "qr_gender_tgt.head()"
   ]
  },
  {
   "cell_type": "code",
   "execution_count": 60,
   "id": "3c309b43-20c3-4e15-9425-c54e283d8e51",
   "metadata": {},
   "outputs": [
    {
     "data": {
      "text/plain": [
       "(84,\n",
       " @UNKNOWN    0.905943\n",
       " female      0.033790\n",
       " male        0.059797\n",
       " NB          0.000470\n",
       " Name: 84, dtype: float64)"
      ]
     },
     "execution_count": 60,
     "metadata": {},
     "output_type": "execute_result"
    }
   ],
   "source": [
    "gender_targets = list(qr_gender_tgt.iterrows())\n",
    "gender_targets[0]"
   ]
  },
  {
   "cell_type": "code",
   "execution_count": null,
   "id": "95eb10c7-6323-4344-b6c3-84aebfe4939b",
   "metadata": {},
   "outputs": [],
   "source": [
    "gender_targets = list(map(lambda x: x[1], gender_targets))\n",
    "print(gender_targets)"
   ]
  },
  {
   "cell_type": "markdown",
   "id": "aeb67d8b-f12d-4e63-b344-ddc37084d791",
   "metadata": {},
   "source": [
    "### AWRF"
   ]
  },
  {
   "cell_type": "code",
   "execution_count": 62,
   "id": "219c65f9-cfc8-41ca-b68e-4b1abb846c26",
   "metadata": {},
   "outputs": [],
   "source": [
    "from scipy.spatial.distance import jensenshannon"
   ]
  },
  {
   "cell_type": "code",
   "execution_count": 63,
   "id": "42f4693b-8fcd-4fea-af8d-03449e1178f1",
   "metadata": {},
   "outputs": [
    {
     "data": {
      "text/plain": [
       "gender\n",
       "@UNKNOWN    0.584\n",
       "female      0.058\n",
       "male        0.358\n",
       "NB          0.000\n",
       "dtype: float64"
      ]
     },
     "execution_count": 63,
     "metadata": {},
     "output_type": "execute_result"
    }
   ],
   "source": [
    "get_fairness(ranking).mean()"
   ]
  },
  {
   "cell_type": "code",
   "execution_count": 64,
   "id": "6a7b3351-9f06-4298-b93b-70335651768e",
   "metadata": {},
   "outputs": [
    {
     "name": "stderr",
     "output_type": "stream",
     "text": [
      "C:\\Users\\marta\\AppData\\Local\\Temp\\ipykernel_30684\\4259035345.py:8: SettingWithCopyWarning: \n",
      "A value is trying to be set on a copy of a slice from a DataFrame\n",
      "\n",
      "See the caveats in the documentation: https://pandas.pydata.org/pandas-docs/stable/user_guide/indexing.html#returning-a-view-versus-a-copy\n",
      "  fairness.loc[eval(item.docid)]/= math.log2(max(k, 2))\n"
     ]
    },
    {
     "data": {
      "text/plain": [
       "gender\n",
       "@UNKNOWN    43.705806\n",
       "female       3.706278\n",
       "male        24.921681\n",
       "NB           0.000000\n",
       "dtype: float64"
      ]
     },
     "execution_count": 64,
     "metadata": {},
     "output_type": "execute_result"
    }
   ],
   "source": [
    "def get_fairness_NDCG(ranking):\n",
    "    try:\n",
    "        fairness = get_fairness(ranking)\n",
    "    except:\n",
    "        fairness = get_fairness2(ranking)\n",
    "    for k, item in enumerate(ranking):\n",
    "        try:\n",
    "            fairness.loc[eval(item.docid)]/= math.log2(max(k, 2))\n",
    "        except:\n",
    "            True\n",
    "    return fairness.sum()\n",
    "\n",
    "def JS(r1, r2):\n",
    "    return 1- jensenshannon(r1, r2, 2.0)\n",
    "\n",
    "get_fairness_NDCG(ranking)"
   ]
  },
  {
   "cell_type": "code",
   "execution_count": 65,
   "id": "e27d932a-a977-45fc-bae6-0b00d72c5158",
   "metadata": {},
   "outputs": [
    {
     "name": "stderr",
     "output_type": "stream",
     "text": [
      "C:\\Users\\marta\\anaconda3\\envs\\pyserini\\lib\\site-packages\\scipy\\spatial\\distance.py:1290: RuntimeWarning: invalid value encountered in divide\n",
      "  p = p / np.sum(p, axis=axis, keepdims=True)\n"
     ]
    },
    {
     "data": {
      "text/plain": [
       "0.25919304761942297"
      ]
     },
     "execution_count": 65,
     "metadata": {},
     "output_type": "execute_result"
    }
   ],
   "source": [
    "JS([0,0,0], [1.0,1.0,1.0])\n",
    "JS([1,3,0], [2, 6.0, 0])\n",
    "JS([1,0,0], [2, 6.0, 0])"
   ]
  },
  {
   "cell_type": "code",
   "execution_count": null,
   "id": "3eaa94fa-c5f2-4179-8e9d-4e0a24fba528",
   "metadata": {},
   "outputs": [],
   "source": []
  },
  {
   "cell_type": "code",
   "execution_count": 66,
   "id": "b7eadda5-e021-4e4f-afee-515b39bd10d7",
   "metadata": {},
   "outputs": [
    {
     "ename": "NameError",
     "evalue": "name 'rankings_total' is not defined",
     "output_type": "error",
     "traceback": [
      "\u001b[1;31m---------------------------------------------------------------------------\u001b[0m",
      "\u001b[1;31mNameError\u001b[0m                                 Traceback (most recent call last)",
      "Cell \u001b[1;32mIn[66], line 2\u001b[0m\n\u001b[0;32m      1\u001b[0m q_index \u001b[38;5;241m=\u001b[39m \u001b[38;5;241m1\u001b[39m\n\u001b[1;32m----> 2\u001b[0m ranking \u001b[38;5;241m=\u001b[39m \u001b[43mrankings_total\u001b[49m[q_index]\n\u001b[0;32m      3\u001b[0m reranking_MMR \u001b[38;5;241m=\u001b[39m MMR_gender(ranking, lamb\u001b[38;5;241m=\u001b[39m\u001b[38;5;241m0\u001b[39m)\n\u001b[0;32m      4\u001b[0m rerankings_CL, CLS \u001b[38;5;241m=\u001b[39m \u001b[38;5;28mzip\u001b[39m(\u001b[38;5;241m*\u001b[39m\n\u001b[0;32m      5\u001b[0m                         [\u001b[38;5;28mzip\u001b[39m(\u001b[38;5;241m*\u001b[39mroundRobinWithClusters(ranking, clusterings[q_index], clustering_preferences[q_index])) \u001b[38;5;28;01mfor\u001b[39;00m index, ranking \u001b[38;5;129;01min\u001b[39;00m \u001b[38;5;28menumerate\u001b[39m([ranking])]  \n\u001b[0;32m      6\u001b[0m                        )\n",
      "\u001b[1;31mNameError\u001b[0m: name 'rankings_total' is not defined"
     ]
    }
   ],
   "source": [
    "q_index = 1\n",
    "ranking = rankings_total[q_index]\n",
    "reranking_MMR = MMR_gender(ranking, lamb=0)\n",
    "rerankings_CL, CLS = zip(*\n",
    "                        [zip(*roundRobinWithClusters(ranking, clusterings[q_index], clustering_preferences[q_index])) for index, ranking in enumerate([ranking])]  \n",
    "                       )\n",
    "reranking_CL = rerankings_CL[0]"
   ]
  },
  {
   "cell_type": "markdown",
   "id": "839f2a56-77f6-4fa8-9032-f1b72d06e7b4",
   "metadata": {},
   "source": [
    "### Experiments"
   ]
  },
  {
   "cell_type": "code",
   "execution_count": 67,
   "id": "818d0622-c107-4e56-aad7-14a6bd54e92a",
   "metadata": {},
   "outputs": [
    {
     "name": "stdout",
     "output_type": "stream",
     "text": [
      "Agriculture\n",
      "Amphibians and Reptiles\n",
      "Astronomy\n",
      "Aviation\n"
     ]
    }
   ],
   "source": [
    "searcher = LuceneSearcher(\"indexes/lucene-index\")\n",
    "s = 0\n",
    "e = 4\n",
    "k = 200\n",
    "rankings_total, relevancy_labels_total = zip(*search(s, e, k=k))"
   ]
  },
  {
   "cell_type": "code",
   "execution_count": 68,
   "id": "3f3ce776-02de-4a45-9b7b-fbf311849a5f",
   "metadata": {},
   "outputs": [
    {
     "name": "stdout",
     "output_type": "stream",
     "text": [
      "Missing fairness info for 0 values!\n"
     ]
    },
    {
     "name": "stderr",
     "output_type": "stream",
     "text": [
      " 99%|████████████████████████████████████████████████████████████████████████████████▏| 99/100 [00:18<00:00,  5.38it/s]\n"
     ]
    },
    {
     "name": "stdout",
     "output_type": "stream",
     "text": [
      "Missing fairness info for 0 values!\n"
     ]
    },
    {
     "name": "stderr",
     "output_type": "stream",
     "text": [
      " 99%|████████████████████████████████████████████████████████████████████████████████▏| 99/100 [00:18<00:00,  5.38it/s]\n"
     ]
    },
    {
     "name": "stdout",
     "output_type": "stream",
     "text": [
      "Missing fairness info for 0 values!\n"
     ]
    },
    {
     "name": "stderr",
     "output_type": "stream",
     "text": [
      " 99%|████████████████████████████████████████████████████████████████████████████████▏| 99/100 [00:18<00:00,  5.39it/s]\n"
     ]
    },
    {
     "name": "stdout",
     "output_type": "stream",
     "text": [
      "Missing fairness info for 0 values!\n"
     ]
    },
    {
     "name": "stderr",
     "output_type": "stream",
     "text": [
      " 99%|████████████████████████████████████████████████████████████████████████████████▏| 99/100 [00:18<00:00,  5.46it/s]\n"
     ]
    },
    {
     "name": "stdout",
     "output_type": "stream",
     "text": [
      "Missing fairness info for 0 values!\n"
     ]
    },
    {
     "name": "stderr",
     "output_type": "stream",
     "text": [
      " 99%|████████████████████████████████████████████████████████████████████████████████▏| 99/100 [00:10<00:00,  9.20it/s]\n"
     ]
    },
    {
     "name": "stdout",
     "output_type": "stream",
     "text": [
      "Missing fairness info for 0 values!\n"
     ]
    },
    {
     "name": "stderr",
     "output_type": "stream",
     "text": [
      " 99%|████████████████████████████████████████████████████████████████████████████████▏| 99/100 [00:10<00:00,  9.58it/s]\n"
     ]
    },
    {
     "name": "stdout",
     "output_type": "stream",
     "text": [
      "Missing fairness info for 0 values!\n"
     ]
    },
    {
     "name": "stderr",
     "output_type": "stream",
     "text": [
      " 99%|████████████████████████████████████████████████████████████████████████████████▏| 99/100 [00:10<00:00,  9.71it/s]\n"
     ]
    },
    {
     "name": "stdout",
     "output_type": "stream",
     "text": [
      "Missing fairness info for 0 values!\n"
     ]
    },
    {
     "name": "stderr",
     "output_type": "stream",
     "text": [
      " 99%|████████████████████████████████████████████████████████████████████████████████▏| 99/100 [00:10<00:00,  9.51it/s]\n"
     ]
    }
   ],
   "source": [
    "t = 4\n",
    "s = 0\n",
    "rerankings_MMR = [MMR_gender(x, lamb=0.1) for x in rankings_total[s:t]]\n",
    "rerankings_MMR_target = [ MMR_gender_target(x, lamb=0.1) for x in rankings_total[s:t]]"
   ]
  },
  {
   "cell_type": "code",
   "execution_count": 75,
   "id": "2124c6f9-600f-40ac-86db-7397d1db3eaa",
   "metadata": {},
   "outputs": [],
   "source": [
    "rerankings_CL, CLS = zip(*\n",
    "                        [zip(*roundRobinWithClusters(r, clusterings[index], clustering_preferences[index])) for index, r in enumerate(rankings_total)]  \n",
    "                       )"
   ]
  },
  {
   "cell_type": "code",
   "execution_count": 76,
   "id": "c165635d-8c90-40b1-8871-4d1e627cffd6",
   "metadata": {},
   "outputs": [],
   "source": [
    "import pickle\n",
    "version = 1\n",
    "\n",
    "with open(f'mmr_{version}.pkl', 'wb') as f:\n",
    "    pickle.dump([ [y.docid for y in x] for x in rerankings_MMR], f)\n",
    "\n",
    "with open(f'mmr_target_{version}.pkl', 'wb') as f:\n",
    "    pickle.dump([ [y.docid for y in x] for x in rerankings_MMR_target], f)\n",
    "\n",
    "with open(f'cl_{version}.pkl', 'wb') as f:\n",
    "    pickle.dump([ [y.docid for y in x] for x in rerankings_CL], f)\n",
    "\n",
    "with open(f'cls_{version}.pkl', 'wb') as f:\n",
    "    pickle.dump(CLS, f)"
   ]
  },
  {
   "cell_type": "code",
   "execution_count": 79,
   "id": "709a07f0-9003-48c6-896e-c999c007f673",
   "metadata": {},
   "outputs": [
    {
     "name": "stdout",
     "output_type": "stream",
     "text": [
      "0 0\n"
     ]
    },
    {
     "name": "stderr",
     "output_type": "stream",
     "text": [
      "C:\\Users\\marta\\AppData\\Local\\Temp\\ipykernel_30684\\4259035345.py:8: SettingWithCopyWarning: \n",
      "A value is trying to be set on a copy of a slice from a DataFrame\n",
      "\n",
      "See the caveats in the documentation: https://pandas.pydata.org/pandas-docs/stable/user_guide/indexing.html#returning-a-view-versus-a-copy\n",
      "  fairness.loc[eval(item.docid)]/= math.log2(max(k, 2))\n"
     ]
    },
    {
     "name": "stdout",
     "output_type": "stream",
     "text": [
      "alpha-NDCG @20\n",
      "Counter({0: 16, 1: 12, 5: 8, 4: 5, 3: 3, 8: 3, 2: 2, 9: 1})\n",
      "Counter({0: 16, 1: 12, 5: 8, 4: 5, 3: 3, 8: 3, 2: 2, 9: 1})\n",
      "Counter({0: 6, 1: 6, 8: 6, 5: 6, 4: 6, 3: 6, 9: 6, 2: 4, 7: 3, 6: 1})\n",
      "Original ranking: 0.8134694980191188\n",
      "Reranking MMR: 0.8648282911154492\n",
      "Reranking CL: 0.9332106067974992\n",
      "Full-random: 0.7854612899850546\n",
      "TREC MEASURE\n",
      "Original ranking: nan\n",
      "Reranking MMR: nan\n",
      "Reranking CL: nan\n",
      "Full-random: nan\n",
      "\n",
      "1 1\n",
      "alpha-NDCG @20\n",
      "Counter({8: 27, 7: 9, 6: 5, 9: 3, 1: 2, 0: 2, 4: 1, 3: 1})\n",
      "Counter({8: 26, 7: 9, 6: 5, 9: 3, 3: 2, 1: 2, 0: 2, 4: 1})\n",
      "Counter({8: 8, 6: 8, 0: 8, 7: 7, 4: 6, 9: 5, 1: 5, 3: 3})\n",
      "Original ranking: 0.7408654803510278\n",
      "Reranking MMR: 0.769101916095618\n",
      "Reranking CL: 0.917912556593169\n",
      "Full-random: 0.7699616385535988\n",
      "TREC MEASURE\n",
      "Original ranking: nan\n",
      "Reranking MMR: 0.44932247570240097\n",
      "Reranking CL: 0.4595623872048136\n",
      "Full-random: nan\n",
      "\n",
      "2 2\n",
      "alpha-NDCG @20\n",
      "Counter({1: 14, 0: 11, 2: 7, 7: 7, 4: 6, 8: 4, 5: 1})\n",
      "Counter({1: 13, 4: 12, 0: 10, 2: 7, 7: 6, 5: 1, 8: 1})\n",
      "Counter({1: 8, 0: 8, 4: 7, 2: 7, 7: 7, 8: 7, 9: 2, 5: 2, 3: 2})\n",
      "Original ranking: 0.8353273090138232\n",
      "Reranking MMR: 0.8607951565324716\n",
      "Reranking CL: 0.9232645816643804\n",
      "Full-random: 0.837423419832621\n",
      "TREC MEASURE\n",
      "Original ranking: 0.50531095512919\n",
      "Reranking MMR: 0.8119656988741805\n",
      "Reranking CL: 0.5044164246583366\n",
      "Full-random: 0.5550045727571002\n",
      "\n",
      "3 3\n",
      "alpha-NDCG @20\n",
      "Counter({4: 15, 1: 12, 3: 11, 2: 4, 5: 4, 6: 3, 8: 1})\n",
      "Counter({4: 15, 3: 13, 1: 12, 2: 3, 5: 3, 6: 3, 8: 1})\n",
      "Counter({3: 7, 4: 7, 1: 7, 5: 7, 6: 6, 2: 6, 0: 5, 8: 5})\n",
      "Original ranking: 0.7805351613967054\n",
      "Reranking MMR: 0.8325231448117637\n",
      "Reranking CL: 0.9234397567029456\n",
      "Full-random: 0.8037958695686683\n",
      "TREC MEASURE\n",
      "Original ranking: 0.5584510048250027\n",
      "Reranking MMR: 0.5688968991938177\n",
      "Reranking CL: 0.538357546538229\n",
      "Full-random: nan\n",
      "\n",
      "4 4\n"
     ]
    },
    {
     "ename": "IndexError",
     "evalue": "tuple index out of range",
     "output_type": "error",
     "traceback": [
      "\u001b[1;31m---------------------------------------------------------------------------\u001b[0m",
      "\u001b[1;31mIndexError\u001b[0m                                Traceback (most recent call last)",
      "Cell \u001b[1;32mIn[79], line 15\u001b[0m\n\u001b[0;32m     13\u001b[0m \u001b[38;5;28;01mfor\u001b[39;00m q_index \u001b[38;5;129;01min\u001b[39;00m \u001b[38;5;28mrange\u001b[39m(\u001b[38;5;241m0\u001b[39m, \u001b[38;5;241m25\u001b[39m):\n\u001b[0;32m     14\u001b[0m     \u001b[38;5;28mprint\u001b[39m(q_index, q_index\u001b[38;5;241m+\u001b[39ms)\n\u001b[1;32m---> 15\u001b[0m     ranking \u001b[38;5;241m=\u001b[39m \u001b[43mrankings_total\u001b[49m\u001b[43m[\u001b[49m\u001b[43mq_index\u001b[49m\u001b[38;5;241;43m+\u001b[39;49m\u001b[43ms\u001b[49m\u001b[43m]\u001b[49m\n\u001b[0;32m     16\u001b[0m     reranking_MMR \u001b[38;5;241m=\u001b[39m rerankings_MMR[q_index]\n\u001b[0;32m     17\u001b[0m     reranking_MMR_target \u001b[38;5;241m=\u001b[39mrerankings_MMR_target[q_index]\n",
      "\u001b[1;31mIndexError\u001b[0m: tuple index out of range"
     ]
    }
   ],
   "source": [
    "import random \n",
    "\n",
    "ndcg_len = 50\n",
    "\n",
    "def shuffle(lst, n):\n",
    "    lsts = []\n",
    "    for i in range(n):\n",
    "        shuffled = lst[:]\n",
    "        random.shuffle(shuffled)\n",
    "        lsts.append(shuffled)\n",
    "    return lsts\n",
    "\n",
    "for q_index in range(0, 4):\n",
    "    print(q_index, q_index+s)\n",
    "    ranking = rankings_total[q_index+s]\n",
    "    reranking_MMR = rerankings_MMR[q_index]\n",
    "    reranking_MMR_target =rerankings_MMR_target[q_index]\n",
    "\n",
    "    reranking_CL = rerankings_CL[q_index+s]\n",
    "\n",
    "    shuffled_lst = shuffle(ranking, 5)\n",
    "\n",
    "    ranking_rels =  get_relevancy_labels(ranking, relevancy_labels_total[q_index])\n",
    "    reranking_MMR_rels = get_relevancy_labels(reranking_MMR, relevancy_labels_total[q_index])\n",
    "    reranking_MMR_target_rels = get_relevancy_labels(reranking_MMR_target, relevancy_labels_total[q_index])\n",
    "    reranking_CL_rels = get_relevancy_labels(reranking_CL, relevancy_labels_total[q_index])\n",
    "    shuffled_rels = [get_relevancy_labels(s, relevancy_labels_total[q_index]) for s in shuffled_lst]\n",
    "    \n",
    "    # print(get_fairness(ranking[:ndcg_len]).sum()[1:])\n",
    "    # print(get_fairness_NDCG(reranking_MMR[:ndcg_len])[1:])\n",
    "    # print(get_fairness_NDCG(reranking_MMR_target[:ndcg_len])[1:])\n",
    "    # print(get_fairness_NDCG(reranking_CL[:ndcg_len])[1:])\n",
    "    # print(get_fairness_NDCG(shuffled[:ndcg_len])[1:])\n",
    "    # print(gender_targets[q_index][1:])\n",
    "\n",
    "    # print(get_fairness(ranking[:ndcg_len]).sum()[1:])\n",
    "    # print(get_fairness(reranking_MMR_target[:ndcg_len]).sum()[1:])\n",
    "    # print(get_fairness(shuffled_lst[q_index][:ndcg_len]).sum()[1:])\n",
    "    # print(gender_targets[q_index][1:])\n",
    "    \n",
    "    # print(\"AWRF @20\")\n",
    "    # print(f\"Original ranking: {JS(get_fairness_NDCG(ranking[:ndcg_len])[1:], gender_targets[q_index][1:])}\")\n",
    "    # print(f\"Reranking MMR: {JS(get_fairness_NDCG(reranking_MMR[:ndcg_len])[1:], gender_targets[q_index][1:])}\")\n",
    "    # print(f\"Reranking with target MMR: {JS(get_fairness_NDCG(reranking_MMR_target[:ndcg_len])[1:], gender_targets[q_index][1:])}\")\n",
    "    # print(f\"Reranking CL: {JS(get_fairness_NDCG(reranking_CL[:ndcg_len])[1:], gender_targets[q_index][1:])}\")\n",
    "\n",
    "    JS_shuff = sum([JS(get_fairness_NDCG(shuffled[:ndcg_len])[1:], gender_targets[q_index][1:]) for shuffled in shuffled_lst])/len(shuffled_lst)\n",
    "    #print(f\"Full-random: {JS_shuff}\")\n",
    "    \n",
    "    # print(\"NDCG @20\")\n",
    "    # print(f\"Original ranking: {NDCG(ranking_rels, ndcg_len)}\")\n",
    "    # print(f\"Reranking MMR: {NDCG(reranking_MMR_rels, ndcg_len)}\")\n",
    "    # print(f\"Reranking MMR_targets: {NDCG(reranking_MMR_target_rels, ndcg_len)}\")\n",
    "    # print(f\"Reranking CL: {NDCG(reranking_CL_rels, ndcg_len)}\")\n",
    "\n",
    "    NDCG_shuff = sum([NDCG(shuffled_rel, ndcg_len) for shuffled_rel in shuffled_rels])/len(shuffled_rels)\n",
    "    #print(f\"Full-random: {NDCG_shuff}\")\n",
    "    \n",
    "    print(\"alpha-NDCG @20\")\n",
    "    ct = clustering_topics[q_index]\n",
    "    ct_reranking_MMR = get_topic_info_reranking(ct, ranking, reranking_MMR)\n",
    "    ct_reranking_CL = get_topic_info_reranking(ct, ranking, reranking_CL)\n",
    "    ct_reranking_SHUFFLEDs = [get_topic_info_reranking(ct, ranking, shuffled) for shuffled in shuffled_lst]\n",
    "\n",
    "    print(collections.Counter([max(x, key=lambda x: x[1])[0] for x in ct[:ndcg_len]] ))\n",
    "    print(collections.Counter([max(x, key=lambda x: x[1])[0] for x in ct_reranking_MMR[:ndcg_len]] ))\n",
    "    print(collections.Counter([max(x, key=lambda x: x[1])[0] for x in ct_reranking_CL[:ndcg_len]] ))\n",
    "\n",
    "    print(f\"Original ranking: {NDCG_2(ct, ndcg_len)}\")\n",
    "    print(f\"Reranking MMR: {NDCG_2(ct_reranking_MMR, ndcg_len)}\")\n",
    "    print(f\"Reranking CL: {NDCG_2(ct_reranking_CL, ndcg_len)}\")\n",
    "    print(f\"Full-random: {sum([NDCG_2(ct_s, ndcg_len) for ct_s in ct_reranking_SHUFFLEDs ])/len(ct_reranking_SHUFFLEDs)}\")\n",
    "    \n",
    "    print(\"TREC MEASURE\")\n",
    "    print(f\"Original ranking: {JS(get_fairness_NDCG(ranking[:ndcg_len])[1:], gender_targets[q_index][1:]) * NDCG(ranking_rels, ndcg_len)}\")\n",
    "    print(f\"Reranking MMR: {JS(get_fairness_NDCG(reranking_MMR[:ndcg_len])[1:], gender_targets[q_index][1:]) * NDCG(reranking_MMR_rels, ndcg_len)}\")\n",
    "    #print(f\"Reranking MMR_target: {JS(get_fairness_NDCG(reranking_MMR_target[:ndcg_len])[1:], gender_targets[q_index][1:]) * NDCG(reranking_MMR_target_rels, ndcg_len)}\")\n",
    "    print(f\"Reranking CL: {JS(get_fairness_NDCG(reranking_CL[:ndcg_len])[1:], gender_targets[q_index][1:]) * NDCG(reranking_CL_rels, ndcg_len)}\")\n",
    "    \n",
    "    print(f\"Full-random: {JS_shuff*NDCG_shuff}\")\n",
    "\n",
    "    print()"
   ]
  },
  {
   "cell_type": "markdown",
   "id": "42575321-be2a-4f50-9e81-d30e08c3a6c6",
   "metadata": {},
   "source": [
    "## Relevant Topics"
   ]
  },
  {
   "cell_type": "code",
   "execution_count": null,
   "id": "bb0ad381-acdc-4a11-bf18-b11cb426bf4d",
   "metadata": {},
   "outputs": [],
   "source": [
    "searcher = LuceneSearcher(\"indexes/lucene-index\")\n",
    "s = 0\n",
    "e = 45\n",
    "k = 500\n",
    "rankings_total, relevancy_labels_total = zip(*search(s, e, k=k))"
   ]
  },
  {
   "cell_type": "code",
   "execution_count": null,
   "id": "d8eab39d-5d1f-49fc-8964-398bdb95e063",
   "metadata": {},
   "outputs": [],
   "source": [
    "for i, x in enumerate(rankings_total):\n",
    "    print(i)\n",
    "    print(get_fairness(x).sum())\n",
    "    print()"
   ]
  },
  {
   "cell_type": "code",
   "execution_count": 59,
   "id": "6a3b2206-ffc1-412f-8471-d7c41efec9e3",
   "metadata": {},
   "outputs": [],
   "source": [
    "rel_indexes = [2,4,5,8,9,12,13,17,18,21,28,29,31,37,38,39,40,41,42,43]\n",
    "rankings_total_2_indexes = [(i, rankings_total[i]) for i in rel_indexes]\n",
    "rankings_total_2= [x for _,x in rankings_total_2_indexes]"
   ]
  },
  {
   "cell_type": "code",
   "execution_count": 52,
   "id": "54883a1c-30a6-4007-8b3f-183e5fbf344d",
   "metadata": {},
   "outputs": [
    {
     "name": "stdout",
     "output_type": "stream",
     "text": [
      "Missing fairness info for 0 values!\n"
     ]
    },
    {
     "name": "stderr",
     "output_type": "stream",
     "text": [
      " 99%|████████████████████████████████████████████████████████████████████████████████▏| 99/100 [01:08<00:00,  1.44it/s]\n"
     ]
    },
    {
     "name": "stdout",
     "output_type": "stream",
     "text": [
      "Missing fairness info for 0 values!\n"
     ]
    },
    {
     "name": "stderr",
     "output_type": "stream",
     "text": [
      " 99%|████████████████████████████████████████████████████████████████████████████████▏| 99/100 [01:12<00:00,  1.36it/s]\n"
     ]
    },
    {
     "name": "stdout",
     "output_type": "stream",
     "text": [
      "Missing fairness info for 0 values!\n"
     ]
    },
    {
     "name": "stderr",
     "output_type": "stream",
     "text": [
      " 99%|████████████████████████████████████████████████████████████████████████████████▏| 99/100 [01:14<00:00,  1.33it/s]\n"
     ]
    },
    {
     "name": "stdout",
     "output_type": "stream",
     "text": [
      "Missing fairness info for 0 values!\n"
     ]
    },
    {
     "name": "stderr",
     "output_type": "stream",
     "text": [
      " 99%|████████████████████████████████████████████████████████████████████████████████▏| 99/100 [01:09<00:00,  1.43it/s]\n"
     ]
    },
    {
     "name": "stdout",
     "output_type": "stream",
     "text": [
      "Missing fairness info for 1 values!\n"
     ]
    },
    {
     "name": "stderr",
     "output_type": "stream",
     "text": [
      " 99%|████████████████████████████████████████████████████████████████████████████████▏| 99/100 [01:12<00:00,  1.37it/s]\n"
     ]
    },
    {
     "name": "stdout",
     "output_type": "stream",
     "text": [
      "Missing fairness info for 0 values!\n"
     ]
    },
    {
     "name": "stderr",
     "output_type": "stream",
     "text": [
      " 99%|████████████████████████████████████████████████████████████████████████████████▏| 99/100 [01:09<00:00,  1.43it/s]\n"
     ]
    },
    {
     "name": "stdout",
     "output_type": "stream",
     "text": [
      "Missing fairness info for 0 values!\n"
     ]
    },
    {
     "name": "stderr",
     "output_type": "stream",
     "text": [
      " 99%|████████████████████████████████████████████████████████████████████████████████▏| 99/100 [01:06<00:00,  1.49it/s]\n"
     ]
    },
    {
     "name": "stdout",
     "output_type": "stream",
     "text": [
      "Missing fairness info for 0 values!\n"
     ]
    },
    {
     "name": "stderr",
     "output_type": "stream",
     "text": [
      " 99%|████████████████████████████████████████████████████████████████████████████████▏| 99/100 [01:09<00:00,  1.42it/s]\n"
     ]
    },
    {
     "name": "stdout",
     "output_type": "stream",
     "text": [
      "Missing fairness info for 0 values!\n"
     ]
    },
    {
     "name": "stderr",
     "output_type": "stream",
     "text": [
      " 99%|████████████████████████████████████████████████████████████████████████████████▏| 99/100 [01:10<00:00,  1.41it/s]\n"
     ]
    },
    {
     "name": "stdout",
     "output_type": "stream",
     "text": [
      "Missing fairness info for 0 values!\n"
     ]
    },
    {
     "name": "stderr",
     "output_type": "stream",
     "text": [
      " 99%|████████████████████████████████████████████████████████████████████████████████▏| 99/100 [01:06<00:00,  1.48it/s]\n"
     ]
    },
    {
     "name": "stdout",
     "output_type": "stream",
     "text": [
      "Missing fairness info for 2 values!\n"
     ]
    },
    {
     "name": "stderr",
     "output_type": "stream",
     "text": [
      " 99%|████████████████████████████████████████████████████████████████████████████████▏| 99/100 [01:07<00:00,  1.47it/s]\n"
     ]
    },
    {
     "name": "stdout",
     "output_type": "stream",
     "text": [
      "Missing fairness info for 2 values!\n"
     ]
    },
    {
     "name": "stderr",
     "output_type": "stream",
     "text": [
      " 99%|████████████████████████████████████████████████████████████████████████████████▏| 99/100 [01:08<00:00,  1.45it/s]\n"
     ]
    },
    {
     "name": "stdout",
     "output_type": "stream",
     "text": [
      "Missing fairness info for 0 values!\n"
     ]
    },
    {
     "name": "stderr",
     "output_type": "stream",
     "text": [
      " 99%|████████████████████████████████████████████████████████████████████████████████▏| 99/100 [01:07<00:00,  1.46it/s]\n"
     ]
    },
    {
     "name": "stdout",
     "output_type": "stream",
     "text": [
      "Missing fairness info for 0 values!\n"
     ]
    },
    {
     "name": "stderr",
     "output_type": "stream",
     "text": [
      " 99%|████████████████████████████████████████████████████████████████████████████████▏| 99/100 [01:06<00:00,  1.48it/s]\n"
     ]
    },
    {
     "name": "stdout",
     "output_type": "stream",
     "text": [
      "Missing fairness info for 1 values!\n"
     ]
    },
    {
     "name": "stderr",
     "output_type": "stream",
     "text": [
      " 99%|████████████████████████████████████████████████████████████████████████████████▏| 99/100 [01:11<00:00,  1.38it/s]\n"
     ]
    },
    {
     "name": "stdout",
     "output_type": "stream",
     "text": [
      "Missing fairness info for 1 values!\n"
     ]
    },
    {
     "name": "stderr",
     "output_type": "stream",
     "text": [
      " 99%|████████████████████████████████████████████████████████████████████████████████▏| 99/100 [01:08<00:00,  1.45it/s]\n"
     ]
    },
    {
     "name": "stdout",
     "output_type": "stream",
     "text": [
      "Missing fairness info for 0 values!\n"
     ]
    },
    {
     "name": "stderr",
     "output_type": "stream",
     "text": [
      " 99%|████████████████████████████████████████████████████████████████████████████████▏| 99/100 [01:06<00:00,  1.50it/s]\n"
     ]
    },
    {
     "name": "stdout",
     "output_type": "stream",
     "text": [
      "Missing fairness info for 2 values!\n"
     ]
    },
    {
     "name": "stderr",
     "output_type": "stream",
     "text": [
      " 99%|████████████████████████████████████████████████████████████████████████████████▏| 99/100 [01:11<00:00,  1.39it/s]\n"
     ]
    },
    {
     "name": "stdout",
     "output_type": "stream",
     "text": [
      "Missing fairness info for 0 values!\n"
     ]
    },
    {
     "name": "stderr",
     "output_type": "stream",
     "text": [
      " 99%|████████████████████████████████████████████████████████████████████████████████▏| 99/100 [01:10<00:00,  1.41it/s]\n"
     ]
    },
    {
     "name": "stdout",
     "output_type": "stream",
     "text": [
      "Missing fairness info for 0 values!\n"
     ]
    },
    {
     "name": "stderr",
     "output_type": "stream",
     "text": [
      " 99%|████████████████████████████████████████████████████████████████████████████████▏| 99/100 [01:07<00:00,  1.46it/s]\n"
     ]
    }
   ],
   "source": [
    "rerankings_MMR = [MMR_gender(x, lamb=0.1) for x in rankings_total_2]"
   ]
  },
  {
   "cell_type": "code",
   "execution_count": 60,
   "id": "064ddf92-2b95-468c-8dac-1129b1935ded",
   "metadata": {},
   "outputs": [
    {
     "name": "stdout",
     "output_type": "stream",
     "text": [
      "Missing fairness info for 0 values!\n"
     ]
    },
    {
     "name": "stderr",
     "output_type": "stream",
     "text": [
      " 99%|████████████████████████████████████████████████████████████████████████████████▏| 99/100 [00:34<00:00,  2.88it/s]\n"
     ]
    },
    {
     "name": "stdout",
     "output_type": "stream",
     "text": [
      "Missing fairness info for 0 values!\n"
     ]
    },
    {
     "name": "stderr",
     "output_type": "stream",
     "text": [
      " 99%|████████████████████████████████████████████████████████████████████████████████▏| 99/100 [00:34<00:00,  2.86it/s]\n"
     ]
    },
    {
     "name": "stdout",
     "output_type": "stream",
     "text": [
      "Missing fairness info for 0 values!\n"
     ]
    },
    {
     "name": "stderr",
     "output_type": "stream",
     "text": [
      " 93%|███████████████████████████████████████████████████████████████████████████▎     | 93/100 [00:31<00:02,  2.98it/s]\n"
     ]
    },
    {
     "ename": "KeyboardInterrupt",
     "evalue": "",
     "output_type": "error",
     "traceback": [
      "\u001b[1;31m---------------------------------------------------------------------------\u001b[0m",
      "\u001b[1;31mKeyboardInterrupt\u001b[0m                         Traceback (most recent call last)",
      "Cell \u001b[1;32mIn[60], line 1\u001b[0m\n\u001b[1;32m----> 1\u001b[0m rerankings_MMR_target \u001b[38;5;241m=\u001b[39m [MMR_gender_target(x, lamb\u001b[38;5;241m=\u001b[39m\u001b[38;5;241m0.1\u001b[39m) \u001b[38;5;28;01mfor\u001b[39;00m x \u001b[38;5;129;01min\u001b[39;00m rankings_total_2]\n",
      "Cell \u001b[1;32mIn[60], line 1\u001b[0m, in \u001b[0;36m<listcomp>\u001b[1;34m(.0)\u001b[0m\n\u001b[1;32m----> 1\u001b[0m rerankings_MMR_target \u001b[38;5;241m=\u001b[39m [\u001b[43mMMR_gender_target\u001b[49m\u001b[43m(\u001b[49m\u001b[43mx\u001b[49m\u001b[43m,\u001b[49m\u001b[43m \u001b[49m\u001b[43mlamb\u001b[49m\u001b[38;5;241;43m=\u001b[39;49m\u001b[38;5;241;43m0.1\u001b[39;49m\u001b[43m)\u001b[49m \u001b[38;5;28;01mfor\u001b[39;00m x \u001b[38;5;129;01min\u001b[39;00m rankings_total_2]\n",
      "Cell \u001b[1;32mIn[57], line 23\u001b[0m, in \u001b[0;36mMMR_gender_target\u001b[1;34m(ranked_list_inp, lamb)\u001b[0m\n\u001b[0;32m     21\u001b[0m \u001b[38;5;28;01mwhile\u001b[39;00m \u001b[38;5;28mlen\u001b[39m(output_list) \u001b[38;5;241m<\u001b[39m TOTAL_RERANK:\n\u001b[0;32m     22\u001b[0m     pbar\u001b[38;5;241m.\u001b[39mupdate(\u001b[38;5;241m1\u001b[39m)\n\u001b[1;32m---> 23\u001b[0m     intermediate_list \u001b[38;5;241m=\u001b[39m [\n\u001b[0;32m     24\u001b[0m         lamb\u001b[38;5;241m*\u001b[39mscores[i] \u001b[38;5;241m+\u001b[39m ((\u001b[38;5;241m1\u001b[39m\u001b[38;5;241m-\u001b[39m lamb) \u001b[38;5;241m*\u001b[39m compare_d1_d2_fairness(item\u001b[38;5;241m.\u001b[39mdocid, output_list, fairness_df))\n\u001b[0;32m     25\u001b[0m         \u001b[38;5;28;01mfor\u001b[39;00m i, item \u001b[38;5;129;01min\u001b[39;00m \u001b[38;5;28menumerate\u001b[39m(ranked_list)]\n\u001b[0;32m     27\u001b[0m     index \u001b[38;5;241m=\u001b[39m intermediate_list\u001b[38;5;241m.\u001b[39mindex(\u001b[38;5;28mmax\u001b[39m(intermediate_list))\n\u001b[0;32m     28\u001b[0m     optimum \u001b[38;5;241m=\u001b[39m ranked_list\u001b[38;5;241m.\u001b[39mpop(index)\n",
      "Cell \u001b[1;32mIn[57], line 24\u001b[0m, in \u001b[0;36m<listcomp>\u001b[1;34m(.0)\u001b[0m\n\u001b[0;32m     21\u001b[0m \u001b[38;5;28;01mwhile\u001b[39;00m \u001b[38;5;28mlen\u001b[39m(output_list) \u001b[38;5;241m<\u001b[39m TOTAL_RERANK:\n\u001b[0;32m     22\u001b[0m     pbar\u001b[38;5;241m.\u001b[39mupdate(\u001b[38;5;241m1\u001b[39m)\n\u001b[0;32m     23\u001b[0m     intermediate_list \u001b[38;5;241m=\u001b[39m [\n\u001b[1;32m---> 24\u001b[0m         lamb\u001b[38;5;241m*\u001b[39mscores[i] \u001b[38;5;241m+\u001b[39m ((\u001b[38;5;241m1\u001b[39m\u001b[38;5;241m-\u001b[39m lamb) \u001b[38;5;241m*\u001b[39m \u001b[43mcompare_d1_d2_fairness\u001b[49m\u001b[43m(\u001b[49m\u001b[43mitem\u001b[49m\u001b[38;5;241;43m.\u001b[39;49m\u001b[43mdocid\u001b[49m\u001b[43m,\u001b[49m\u001b[43m \u001b[49m\u001b[43moutput_list\u001b[49m\u001b[43m,\u001b[49m\u001b[43m \u001b[49m\u001b[43mfairness_df\u001b[49m\u001b[43m)\u001b[49m)\n\u001b[0;32m     25\u001b[0m         \u001b[38;5;28;01mfor\u001b[39;00m i, item \u001b[38;5;129;01min\u001b[39;00m \u001b[38;5;28menumerate\u001b[39m(ranked_list)]\n\u001b[0;32m     27\u001b[0m     index \u001b[38;5;241m=\u001b[39m intermediate_list\u001b[38;5;241m.\u001b[39mindex(\u001b[38;5;28mmax\u001b[39m(intermediate_list))\n\u001b[0;32m     28\u001b[0m     optimum \u001b[38;5;241m=\u001b[39m ranked_list\u001b[38;5;241m.\u001b[39mpop(index)\n",
      "Cell \u001b[1;32mIn[57], line 16\u001b[0m, in \u001b[0;36mMMR_gender_target.<locals>.compare_d1_d2_fairness\u001b[1;34m(d, curr, fairness_df)\u001b[0m\n\u001b[0;32m     14\u001b[0m \u001b[38;5;28;01mdef\u001b[39;00m \u001b[38;5;21mcompare_d1_d2_fairness\u001b[39m(d, curr, fairness_df):\n\u001b[0;32m     15\u001b[0m     docs \u001b[38;5;241m=\u001b[39m [x\u001b[38;5;241m.\u001b[39mdocid \u001b[38;5;28;01mfor\u001b[39;00m x \u001b[38;5;129;01min\u001b[39;00m curr]\n\u001b[1;32m---> 16\u001b[0m     after \u001b[38;5;241m=\u001b[39m fairness_df\u001b[38;5;241m.\u001b[39mloc[ \u001b[43mfairness_df\u001b[49m\u001b[38;5;241;43m.\u001b[39;49m\u001b[43mindex\u001b[49m\u001b[38;5;241;43m.\u001b[39;49m\u001b[43misin\u001b[49m\u001b[43m(\u001b[49m\u001b[43m[\u001b[49m\u001b[38;5;28;43meval\u001b[39;49m\u001b[43m(\u001b[49m\u001b[43mx\u001b[49m\u001b[43m)\u001b[49m\u001b[43m \u001b[49m\u001b[38;5;28;43;01mfor\u001b[39;49;00m\u001b[43m \u001b[49m\u001b[43mx\u001b[49m\u001b[43m \u001b[49m\u001b[38;5;129;43;01min\u001b[39;49;00m\u001b[43m \u001b[49m\u001b[43mdocs\u001b[49m\u001b[38;5;241;43m+\u001b[39;49m\u001b[43m[\u001b[49m\u001b[43md\u001b[49m\u001b[43m]\u001b[49m\u001b[43m]\u001b[49m\u001b[43m)\u001b[49m]\u001b[38;5;241m.\u001b[39msum()\n\u001b[0;32m     17\u001b[0m     \u001b[38;5;28;01mreturn\u001b[39;00m \u001b[38;5;241m1\u001b[39m\u001b[38;5;241m-\u001b[39mscipy\u001b[38;5;241m.\u001b[39mspatial\u001b[38;5;241m.\u001b[39mdistance\u001b[38;5;241m.\u001b[39mjensenshannon( after[\u001b[38;5;241m1\u001b[39m:], gender_tgt)\n",
      "File \u001b[1;32m~\\anaconda3\\envs\\pyserini\\lib\\site-packages\\pandas\\core\\indexes\\base.py:6293\u001b[0m, in \u001b[0;36mIndex.isin\u001b[1;34m(self, values, level)\u001b[0m\n\u001b[0;32m   6291\u001b[0m \u001b[38;5;28;01mif\u001b[39;00m level \u001b[38;5;129;01mis\u001b[39;00m \u001b[38;5;129;01mnot\u001b[39;00m \u001b[38;5;28;01mNone\u001b[39;00m:\n\u001b[0;32m   6292\u001b[0m     \u001b[38;5;28mself\u001b[39m\u001b[38;5;241m.\u001b[39m_validate_index_level(level)\n\u001b[1;32m-> 6293\u001b[0m \u001b[38;5;28;01mreturn\u001b[39;00m \u001b[43malgos\u001b[49m\u001b[38;5;241;43m.\u001b[39;49m\u001b[43misin\u001b[49m\u001b[43m(\u001b[49m\u001b[38;5;28;43mself\u001b[39;49m\u001b[38;5;241;43m.\u001b[39;49m\u001b[43m_values\u001b[49m\u001b[43m,\u001b[49m\u001b[43m \u001b[49m\u001b[43mvalues\u001b[49m\u001b[43m)\u001b[49m\n",
      "File \u001b[1;32m~\\anaconda3\\envs\\pyserini\\lib\\site-packages\\pandas\\core\\algorithms.py:531\u001b[0m, in \u001b[0;36misin\u001b[1;34m(comps, values)\u001b[0m\n\u001b[0;32m    528\u001b[0m     comps_array \u001b[38;5;241m=\u001b[39m comps_array\u001b[38;5;241m.\u001b[39mastype(common, copy\u001b[38;5;241m=\u001b[39m\u001b[38;5;28;01mFalse\u001b[39;00m)\n\u001b[0;32m    529\u001b[0m     f \u001b[38;5;241m=\u001b[39m htable\u001b[38;5;241m.\u001b[39mismember\n\u001b[1;32m--> 531\u001b[0m \u001b[38;5;28;01mreturn\u001b[39;00m \u001b[43mf\u001b[49m\u001b[43m(\u001b[49m\u001b[43mcomps_array\u001b[49m\u001b[43m,\u001b[49m\u001b[43m \u001b[49m\u001b[43mvalues\u001b[49m\u001b[43m)\u001b[49m\n",
      "\u001b[1;31mKeyboardInterrupt\u001b[0m: "
     ]
    }
   ],
   "source": [
    "rerankings_MMR_target = [MMR_gender_target(x, lamb=0.1) for x in rankings_total_2]"
   ]
  },
  {
   "cell_type": "code",
   "execution_count": 53,
   "id": "010b504d-a8bb-4448-914f-d67211b309a0",
   "metadata": {},
   "outputs": [],
   "source": [
    "rerankings_CL, CLS = zip(*\n",
    "                        [zip(*roundRobinWithClusters(r, clusterings[index], clustering_preferences[index])) for index, r in rankings_total_2_indexes]  \n",
    "                       )"
   ]
  },
  {
   "cell_type": "code",
   "execution_count": 54,
   "id": "f6cc78b6-6055-44f6-b87a-56731395814a",
   "metadata": {},
   "outputs": [
    {
     "name": "stdout",
     "output_type": "stream",
     "text": [
      "2 0\n"
     ]
    },
    {
     "ename": "NameError",
     "evalue": "name 'JS' is not defined",
     "output_type": "error",
     "traceback": [
      "\u001b[1;31m---------------------------------------------------------------------------\u001b[0m",
      "\u001b[1;31mNameError\u001b[0m                                 Traceback (most recent call last)",
      "Cell \u001b[1;32mIn[54], line 43\u001b[0m\n\u001b[0;32m     39\u001b[0m ct_reranking_SHUFFLEDs \u001b[38;5;241m=\u001b[39m [get_topic_info_reranking(ct, ranking, shuffled) \u001b[38;5;28;01mfor\u001b[39;00m shuffled \u001b[38;5;129;01min\u001b[39;00m shuffled_lst]\n\u001b[0;32m     41\u001b[0m \u001b[38;5;66;03m### BM25 ####\u001b[39;00m\n\u001b[1;32m---> 43\u001b[0m AWRF_bm25 \u001b[38;5;241m=\u001b[39m \u001b[43mJS\u001b[49m(get_fairness_NDCG(ranking[:ndcg_len])[\u001b[38;5;241m1\u001b[39m:], gender_targets[q_index][\u001b[38;5;241m1\u001b[39m:])\n\u001b[0;32m     44\u001b[0m NDCG_bm25 \u001b[38;5;241m=\u001b[39m NDCG(ranking_rels, ndcg_len)\n\u001b[0;32m     45\u001b[0m alpha_NDCG_bm25 \u001b[38;5;241m=\u001b[39m NDCG_2(ct, ndcg_len)\n",
      "\u001b[1;31mNameError\u001b[0m: name 'JS' is not defined"
     ]
    }
   ],
   "source": [
    "import random \n",
    "\n",
    "ndcg_len = 50\n",
    "\n",
    "results = []\n",
    "\n",
    "def shuffle(lst, n):\n",
    "    lsts = []\n",
    "    for i in range(n):\n",
    "        shuffled = lst[:]\n",
    "        random.shuffle(shuffled)\n",
    "        lsts.append(shuffled)\n",
    "    return lsts\n",
    "import csv\n",
    "\n",
    "version=1\n",
    "with open(f'results{version}.csv', 'w') as csvfile:\n",
    "    csvfile.write(f\"NAME, QUERY, NDCG, ALPHA-NDCG, TREC, AWRF\\n\")\n",
    "    for i, q_index in enumerate(rel_indexes):\n",
    "        print(q_index, i)\n",
    "        \n",
    "        ranking = rankings_total[q_index]\n",
    "        reranking_MMR = rerankings_MMR[i]\n",
    "    \n",
    "        reranking_CL = rerankings_CL[i]\n",
    "    \n",
    "        shuffled_lst = shuffle(ranking, 5)\n",
    "\n",
    "        ### rel_docs\n",
    "        ranking_rels =  get_relevancy_labels(ranking, relevancy_labels_total[q_index])\n",
    "        reranking_MMR_rels = get_relevancy_labels(reranking_MMR, relevancy_labels_total[q_index])\n",
    "        reranking_CL_rels = get_relevancy_labels(reranking_CL, relevancy_labels_total[q_index])\n",
    "        shuffled_rels = [get_relevancy_labels(s, relevancy_labels_total[q_index]) for s in shuffled_lst]\n",
    "        \n",
    "        ### document_topics\n",
    "        ct = clustering_topics[q_index]\n",
    "        ct_reranking_MMR = get_topic_info_reranking(ct, ranking, reranking_MMR)\n",
    "        ct_reranking_CL = get_topic_info_reranking(ct, ranking, reranking_CL)\n",
    "        ct_reranking_SHUFFLEDs = [get_topic_info_reranking(ct, ranking, shuffled) for shuffled in shuffled_lst]\n",
    "        \n",
    "        ### BM25 ####\n",
    "        \n",
    "        AWRF_bm25 = JS(get_fairness_NDCG(ranking[:ndcg_len])[1:], gender_targets[q_index][1:])\n",
    "        NDCG_bm25 = NDCG(ranking_rels, ndcg_len)\n",
    "        alpha_NDCG_bm25 = NDCG_2(ct, ndcg_len)\n",
    "        TREC_bm25 = JS(get_fairness_NDCG(ranking[:ndcg_len])[1:], gender_targets[q_index][1:]) * NDCG(ranking_rels, ndcg_len)\n",
    "        csvfile.write(f\"BM25, {q_index}, {NDCG_bm25}, {alpha_NDCG_bm25}, {TREC_bm25}, {AWRF_bm25}\\n\")\n",
    "        \n",
    "        ### MMR ###\n",
    "        AWRF_MMR = JS(get_fairness_NDCG(reranking_MMR[:ndcg_len])[1:], gender_targets[q_index][1:])\n",
    "        NDCG_MMR = NDCG(reranking_MMR_rels, ndcg_len)\n",
    "        alpha_NDCG_MMR = NDCG_2(ct_reranking_MMR, ndcg_len)\n",
    "        TREC_MMR = JS(get_fairness_NDCG(reranking_MMR[:ndcg_len])[1:], gender_targets[q_index][1:]) * NDCG(reranking_MMR_rels, ndcg_len)\n",
    "        csvfile.write(f\"MMR, {q_index}, {NDCG_MMR}, {alpha_NDCG_MMR}, {TREC_MMR}, {AWRF_MMR}\\n\")\n",
    "\n",
    "        ### MMR targets ###\n",
    "        AWRF_MMR_T = JS(get_fairness_NDCG(reranking_MMR[:ndcg_len])[1:], gender_targets[q_index][1:])\n",
    "        NDCG_MMR_T = NDCG(reranking_MMR_rels, ndcg_len)\n",
    "        alpha_NDCG_MMR_T = NDCG_2(ct_reranking_MMR, ndcg_len)\n",
    "        TREC_MMR_T = JS(get_fairness_NDCG(reranking_MMR[:ndcg_len])[1:], gender_targets[q_index][1:]) * NDCG(reranking_MMR_rels, ndcg_len)\n",
    "        csvfile.write(f\"MMR_T, {q_index}, {NDCG_MMR_T}, {alpha_NDCG_MMR_T}, {TREC_MMR_T}, {AWRF_MMR_T}\\n\")\n",
    "        \n",
    "        ### CLUSTER ###\n",
    "        AWRF_CL = JS(get_fairness_NDCG(reranking_CL[:ndcg_len])[1:], gender_targets[q_index][1:])\n",
    "        NDCG_CL = NDCG(reranking_CL_rels, ndcg_len)\n",
    "        alpha_NDCG_CL = NDCG_2(ct_reranking_CL, ndcg_len)\n",
    "        TREC_CL = JS(get_fairness_NDCG(reranking_CL[:ndcg_len])[1:], gender_targets[q_index][1:]) * NDCG(reranking_CL_rels, ndcg_len)\n",
    "        csvfile.write(f\"CL, {q_index}, {NDCG_CL}, {alpha_NDCG_CL}, {TREC_CL}, {AWRF_CL}\\n\")\n",
    "\n",
    "        ### Full-random ###\n",
    "        AWRF_FR = sum([JS(get_fairness_NDCG(shuffled[:ndcg_len])[1:], gender_targets[q_index][1:]) for shuffled in shuffled_lst])/len(shuffled_lst)\n",
    "        NDCG_FR = sum([NDCG(shuffled_rel, ndcg_len) for shuffled_rel in shuffled_rels])/len(shuffled_rels)\n",
    "        alpha_NDCG_FR = sum([NDCG_2(ct_s, ndcg_len) for ct_s in ct_reranking_SHUFFLEDs ])/len(ct_reranking_SHUFFLEDs)\n",
    "        TREC_FR = JS_shuff*NDCG_shuff\n",
    "        csvfile.write(f\"FR, {q_index}, {NDCG_FR}, {alpha_NDCG_FR}, {TREC_FR}, {AWRF_FR}\\n\")\n",
    "        \n",
    "        "
   ]
  },
  {
   "cell_type": "code",
   "execution_count": 216,
   "id": "fea1d8a5-3d22-462c-8ebe-ef916197d414",
   "metadata": {},
   "outputs": [],
   "source": [
    "data = pd.read_csv(\"results0.csv\", header=0)\n",
    "data.columns = ['NAME', 'QUERY', 'NDCG', 'ALPHA-NDCG', 'TREC', 'AWRF']\n",
    "data[\"NDCG\"] = [float(x) for x in data[\"NDCG\"]]\n",
    "data[\"ALPHA-NDCG\"] = [float(x) for x in data[\"ALPHA-NDCG\"]]\n",
    "data[\"TREC\"] = [float(x) for x in data[\"TREC\"]]\n",
    "data[\"AWRF\"] = [float(x) for x in data[\"AWRF\"]]\n",
    "\n",
    "grouped = data.groupby(\"NAME\")"
   ]
  },
  {
   "cell_type": "code",
   "execution_count": 217,
   "id": "1d44577b-9ef4-4545-b046-4c7e8e1e3802",
   "metadata": {},
   "outputs": [
    {
     "name": "stdout",
     "output_type": "stream",
     "text": [
      "      QUERY      NDCG  ALPHA-NDCG      TREC      AWRF\n",
      "NAME                                                 \n",
      "BM25  23.85  0.549619    0.777345  0.386612  0.712901\n",
      "CL    23.85  0.511179    0.924342  0.366985  0.717220\n",
      "FR    23.85  0.467353    0.792887  0.333384  0.786274\n",
      "MMR   23.85  0.548078    0.860456  0.478544  0.885933\n"
     ]
    }
   ],
   "source": [
    "print(data.groupby(\"NAME\").mean())"
   ]
  },
  {
   "cell_type": "code",
   "execution_count": 170,
   "id": "41c300b6-5c8b-4d62-b19f-2d7b7a60f6be",
   "metadata": {},
   "outputs": [
    {
     "name": "stdout",
     "output_type": "stream",
     "text": [
      "    NAME  QUERY      NDCG  ALPHA-NDCG      TREC      AWRF\n",
      "0   BM25      2  0.903932    0.835327  0.505311  0.559014\n",
      "1    MMR      2  0.857122    0.860795  0.811966  0.947316\n",
      "2     CL      2  0.902332    0.923265  0.504416  0.559014\n",
      "3     FR      2  0.706780    0.819116  0.333384  0.833731\n",
      "4   BM25      4  0.664111    0.882190  0.510949  0.769374\n",
      "..   ...    ...       ...         ...       ...       ...\n",
      "75    FR     42  0.675579    0.788869  0.333384  0.927336\n",
      "76  BM25     43  1.000000    0.814854  0.470797  0.470797\n",
      "77   MMR     43  1.000000    0.889839  0.703585  0.703585\n",
      "78    CL     43  1.000000    0.940002  0.534714  0.534714\n",
      "79    FR     43  1.000000    0.811634  0.333384  0.596446\n",
      "\n",
      "[80 rows x 6 columns]\n"
     ]
    }
   ],
   "source": [
    "print(data)"
   ]
  },
  {
   "cell_type": "code",
   "execution_count": 218,
   "id": "e9bfd642-196e-4940-8f9b-c205110be550",
   "metadata": {},
   "outputs": [],
   "source": [
    "UniqueNames = data[\"QUERY\"].unique()\n",
    "\n",
    "#create a data frame dictionary to store your data frames\n",
    "DataFrameDict = {elem : pd.DataFrame() for elem in UniqueNames}\n",
    "\n",
    "for key in DataFrameDict.keys():\n",
    "    DataFrameDict[key] = data[:][ data[\"QUERY\"] == key]"
   ]
  },
  {
   "cell_type": "code",
   "execution_count": 224,
   "id": "3dc8cb63-dd41-496e-97f4-89ff87e3e698",
   "metadata": {},
   "outputs": [
    {
     "name": "stdout",
     "output_type": "stream",
     "text": [
      "Counter({2: 19, 1: 1})\n"
     ]
    }
   ],
   "source": [
    "from collections import Counter\n",
    "import warnings\n",
    "warnings.simplefilter(action='ignore', category=FutureWarning)\n",
    "\n",
    "total = []\n",
    "for key in DataFrameDict.keys():\n",
    "    df = DataFrameDict[key][[\"NAME\", \"ALPHA-NDCG\"]]\n",
    "    df = df[df[\"NAME\"] != \"MMR\"]\n",
    "    df = df[df[\"NAME\"] != \"CL\"]\n",
    "    MMR =  float(DataFrameDict[key][ DataFrameDict[key][\"NAME\"]==\"MMR\"][\"ALPHA-NDCG\"])\n",
    "    total.append( sum( [1 for x in df[\"ALPHA-NDCG\"].values if MMR > x]))\n",
    "\n",
    "print(Counter(total))"
   ]
  },
  {
   "cell_type": "code",
   "execution_count": 351,
   "id": "e8d9df91-c9ad-4da4-8b59-8000d8042905",
   "metadata": {},
   "outputs": [],
   "source": [
    "bm25_pop = pd.concat([get_fairness(rankings_total[i][:100]) for i in rel_indexes])\n",
    "bm25_pop = bm25_pop.drop('@UNKNOWN', axis=1)\n",
    "\n",
    "MMR_POP = pd.concat([get_fairness(rerankings_MMR[i][:100]) for i in range(len(rel_indexes))])\n",
    "MMR_POP = MMR_POP.drop('@UNKNOWN', axis=1)\n",
    "\n",
    "CL_POP = pd.concat([get_fairness(rerankings_CL[i][:100]) for i in range(len(rel_indexes))])\n",
    "CL_POP = CL_POP.drop('@UNKNOWN', axis=1)\n",
    "\n",
    "FR_POP = pd.concat(sum([[get_fairness(x[:100]) for x in shuffle(rankings_total[i], 5)] for i in range(len(rel_indexes))], []))\n",
    "FR_POP = FR_POP.drop('@UNKNOWN', axis=1)"
   ]
  },
  {
   "cell_type": "code",
   "execution_count": 352,
   "id": "0aafcee0-d4ea-4abf-8222-d90e6a0e3b4b",
   "metadata": {},
   "outputs": [
    {
     "name": "stdout",
     "output_type": "stream",
     "text": [
      "   origin  gender  proportion\n",
      "0    BM25  female    0.183784\n",
      "1     MMR  female    0.232759\n",
      "2      CL  female    0.183767\n",
      "3      FR  female    0.131868\n",
      "4    BM25    male    0.814865\n",
      "5     MMR    male    0.764778\n",
      "6      CL    male    0.816233\n",
      "7      FR    male    0.867399\n",
      "8    BM25      nb    0.001351\n",
      "9     MMR      nb    0.002463\n",
      "10     CL      nb    0.000000\n",
      "11     FR      nb    0.000733\n"
     ]
    }
   ],
   "source": [
    "data = [\n",
    "    [\"BM25\"]+list(bm25_pop.sum()/sum(bm25_pop.sum().values)),\n",
    "    [\"MMR\"]+list(MMR_POP.sum()/sum(MMR_POP.sum().values)),\n",
    "    [\"CL\"]+list(CL_POP.sum()/sum(CL_POP.sum().values)),\n",
    "    [\"FR\"]+list(FR_POP.sum()/sum(FR_POP.sum().values))\n",
    "]\n",
    "df = pd.DataFrame(data, columns = ['origin','female', 'male', 'nb']) \n",
    "df = pd.melt(df, id_vars=\"origin\", var_name=\"gender\", value_name=\"proportion\")\n",
    "print(df)"
   ]
  },
  {
   "cell_type": "code",
   "execution_count": 353,
   "id": "0f188349-458e-4d44-8227-bff98c5452e3",
   "metadata": {},
   "outputs": [
    {
     "data": {
      "image/png": "[encoded data removed]",
      "text/plain": [
       "<Figure size 640x480 with 1 Axes>"
      ]
     },
     "metadata": {},
     "output_type": "display_data"
    }
   ],
   "source": [
    "import seaborn as sns\n",
    "bars = sns.barplot(df, x=\"origin\", y=\"proportion\", hue=\"gender\")\n",
    "fig = bars.get_figure()\n",
    "fig.savefig(\"bars.png\") "
   ]
  },
  {
   "cell_type": "code",
   "execution_count": null,
   "id": "df675af7-6e52-446a-b6e5-44e92fafbce5",
   "metadata": {},
   "outputs": [],
   "source": []
  }
 ],
 "metadata": {
  "kernelspec": {
   "display_name": "Python 3 (ipykernel)",
   "language": "python",
   "name": "python3"
  },
  "language_info": {
   "codemirror_mode": {
    "name": "ipython",
    "version": 3
   },
   "file_extension": ".py",
   "mimetype": "text/x-python",
   "name": "python",
   "nbconvert_exporter": "python",
   "pygments_lexer": "ipython3",
   "version": "3.8.18"
  }
 },
 "nbformat": 4,
 "nbformat_minor": 5
}
